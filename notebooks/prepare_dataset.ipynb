{
 "cells": [
  {
   "cell_type": "code",
   "execution_count": 135,
   "metadata": {},
   "outputs": [
    {
     "name": "stdout",
     "output_type": "stream",
     "text": [
      "The autoreload extension is already loaded. To reload it, use:\n",
      "  %reload_ext autoreload\n"
     ]
    },
    {
     "name": "stderr",
     "output_type": "stream",
     "text": [
      "/var/folders/fh/jpzybjhs0nq0265pm39s6kf80000gn/T/ipykernel_25242/486087888.py:23: FutureWarning: use_inf_as_na option is deprecated and will be removed in a future version. Convert inf values to NaN before operating instead.\n",
      "  pd.set_option('use_inf_as_na', True)\n"
     ]
    }
   ],
   "source": [
    "%config Completer.use_jedi = False\n",
    "%load_ext autoreload\n",
    "%autoreload 2\n",
    "import sys\n",
    "sys.path.append('../')\n",
    "import pandas as pd\n",
    "from tqdm.notebook import tqdm\n",
    "# import torch \n",
    "import json\n",
    "from pprint import pprint\n",
    "from concurrent.futures import ProcessPoolExecutor\n",
    "import gc\n",
    "import re\n",
    "import string \n",
    "import numpy as np \n",
    "import os\n",
    "import numpy as np\n",
    "from tqdm import tqdm  # For a progress bar\n",
    "import fasttext\n",
    "from huggingface_hub import hf_hub_download\n",
    "\n",
    "\n",
    "pd.set_option('use_inf_as_na', True)\n",
    "pd.set_option('display.max_rows', 500)\n",
    "pd.set_option('display.max_columns', 500)\n",
    "pd.set_option('display.width', 1000)\n",
    "pd.set_option('display.max_colwidth', 500)\n",
    "# torch.__version__"
   ]
  },
  {
   "cell_type": "code",
   "execution_count": 53,
   "metadata": {},
   "outputs": [],
   "source": [
    "# !pip install pydrive\n",
    "# !pip install --upgrade google-api-python-client oauth2client\n",
    "\n",
    "# get clients_secret.json from google credentials in google console\n",
    "\n",
    "\n",
    "# DOWNLOAD FILE\n",
    "# file_id = 'your_file_id_here'  # Replace with your file ID\n",
    "# downloaded = drive.CreateFile({'id': file_id})\n",
    "# downloaded.GetContentFile('filename.txt')\n",
    "# Upload a File:\n",
    "\n",
    "# UPLOAD FILE\n",
    "# upload_file = drive.CreateFile({'title': 'new_file.txt'})\n",
    "# upload_file.SetContentFile('local_file.txt')\n",
    "# upload_file.Upload()"
   ]
  },
  {
   "cell_type": "code",
   "execution_count": 58,
   "metadata": {},
   "outputs": [
    {
     "name": "stdout",
     "output_type": "stream",
     "text": [
      "Your browser has been opened to visit:\n",
      "\n",
      "    https://accounts.google.com/o/oauth2/auth?client_id=545847063411-p8bi7qrhiumhntq5sm9equtv1naohj4j.apps.googleusercontent.com&redirect_uri=http%3A%2F%2Flocalhost%3A8080%2F&scope=https%3A%2F%2Fwww.googleapis.com%2Fauth%2Fdrive&access_type=offline&response_type=code\n",
      "\n",
      "Authentication successful.\n"
     ]
    }
   ],
   "source": [
    "from pydrive.auth import GoogleAuth\n",
    "from pydrive.drive import GoogleDrive\n",
    "from oauth2client.client import GoogleCredentials\n",
    "\n",
    "# Authenticate and create the PyDrive client.\n",
    "gauth = GoogleAuth()\n",
    "gauth.LoadClientConfigFile(\"/Users/nikolaytv/workspace/creds/datatraxer_gdrive_secret.json\")\n",
    "gauth.LocalWebserverAuth()  # Creates local webserver and automatically handles authentication.\n",
    "drive = GoogleDrive(gauth)"
   ]
  },
  {
   "cell_type": "markdown",
   "metadata": {},
   "source": [
    "# download from gdrive"
   ]
  },
  {
   "cell_type": "code",
   "execution_count": 139,
   "metadata": {},
   "outputs": [
    {
     "name": "stdout",
     "output_type": "stream",
     "text": [
      "February-2-half-2024.xlsx - SUCCESS\n",
      "February-1-half-2024.xlsx - SUCCESS\n",
      "January-2-half-2024.xlsx - SUCCESS\n",
      "January-1-half-2024.xlsx - SUCCESS\n"
     ]
    }
   ],
   "source": [
    "folder_id = '1kMfakNU9WtKVXaJ2X26nO8jdHthe_a0D'  # Replace with your folder ID\n",
    "file_list = drive.ListFile({'q': f\"'{folder_id}' in parents and trashed=false\"}).GetList()\n",
    "for file in file_list[1:5]:\n",
    "    try:\n",
    "        downloaded = drive.CreateFile({'id': file['id']})\n",
    "        downloaded.GetContentFile(f'../data/data_raw/{file[\"title\"]}')\n",
    "        print(f'{file[\"title\"]} - SUCCESS')\n",
    "    except Exception as e:\n",
    "        print(f'{file[\"title\"]} - FAIL', e)\n",
    "        "
   ]
  },
  {
   "cell_type": "code",
   "execution_count": 140,
   "metadata": {},
   "outputs": [
    {
     "name": "stdout",
     "output_type": "stream",
     "text": [
      "before filter (1048575, 7)\n",
      "after filter (114581, 5)\n",
      "after removing personas in a row (107300, 5)\n",
      "removed repeats (100484, 5)\n"
     ]
    },
    {
     "name": "stderr",
     "output_type": "stream",
     "text": [
      "/var/folders/fh/jpzybjhs0nq0265pm39s6kf80000gn/T/ipykernel_25242/603514598.py:27: SettingWithCopyWarning: \n",
      "A value is trying to be set on a copy of a slice from a DataFrame\n",
      "\n",
      "See the caveats in the documentation: https://pandas.pydata.org/pandas-docs/stable/user_guide/indexing.html#returning-a-view-versus-a-copy\n",
      "  df.drop(columns=['remove'], inplace=True)\n"
     ]
    },
    {
     "name": "stdout",
     "output_type": "stream",
     "text": [
      "before filter (1048575, 7)\n",
      "after filter (110259, 5)\n",
      "after removing personas in a row (104252, 5)\n",
      "removed repeats (98408, 5)\n"
     ]
    },
    {
     "name": "stderr",
     "output_type": "stream",
     "text": [
      "/var/folders/fh/jpzybjhs0nq0265pm39s6kf80000gn/T/ipykernel_25242/603514598.py:27: SettingWithCopyWarning: \n",
      "A value is trying to be set on a copy of a slice from a DataFrame\n",
      "\n",
      "See the caveats in the documentation: https://pandas.pydata.org/pandas-docs/stable/user_guide/indexing.html#returning-a-view-versus-a-copy\n",
      "  df.drop(columns=['remove'], inplace=True)\n"
     ]
    },
    {
     "name": "stdout",
     "output_type": "stream",
     "text": [
      "before filter (1048575, 7)\n",
      "after filter (377862, 5)\n",
      "after removing personas in a row (238007, 5)\n",
      "removed repeats (224316, 5)\n"
     ]
    },
    {
     "name": "stderr",
     "output_type": "stream",
     "text": [
      "/var/folders/fh/jpzybjhs0nq0265pm39s6kf80000gn/T/ipykernel_25242/603514598.py:27: SettingWithCopyWarning: \n",
      "A value is trying to be set on a copy of a slice from a DataFrame\n",
      "\n",
      "See the caveats in the documentation: https://pandas.pydata.org/pandas-docs/stable/user_guide/indexing.html#returning-a-view-versus-a-copy\n",
      "  df.drop(columns=['remove'], inplace=True)\n"
     ]
    },
    {
     "name": "stdout",
     "output_type": "stream",
     "text": [
      "before filter (1048575, 7)\n",
      "after filter (307001, 5)\n",
      "after removing personas in a row (216463, 5)\n",
      "removed repeats (202489, 5)\n"
     ]
    },
    {
     "name": "stderr",
     "output_type": "stream",
     "text": [
      "/var/folders/fh/jpzybjhs0nq0265pm39s6kf80000gn/T/ipykernel_25242/603514598.py:27: SettingWithCopyWarning: \n",
      "A value is trying to be set on a copy of a slice from a DataFrame\n",
      "\n",
      "See the caveats in the documentation: https://pandas.pydata.org/pandas-docs/stable/user_guide/indexing.html#returning-a-view-versus-a-copy\n",
      "  df.drop(columns=['remove'], inplace=True)\n"
     ]
    },
    {
     "name": "stdout",
     "output_type": "stream",
     "text": [
      "before filter (1048575, 7)\n",
      "after filter (308282, 5)\n",
      "after removing personas in a row (155554, 5)\n",
      "removed repeats (143788, 5)\n"
     ]
    },
    {
     "name": "stderr",
     "output_type": "stream",
     "text": [
      "/var/folders/fh/jpzybjhs0nq0265pm39s6kf80000gn/T/ipykernel_25242/603514598.py:27: SettingWithCopyWarning: \n",
      "A value is trying to be set on a copy of a slice from a DataFrame\n",
      "\n",
      "See the caveats in the documentation: https://pandas.pydata.org/pandas-docs/stable/user_guide/indexing.html#returning-a-view-versus-a-copy\n",
      "  df.drop(columns=['remove'], inplace=True)\n"
     ]
    },
    {
     "name": "stdout",
     "output_type": "stream",
     "text": [
      "Exception: [Errno 2] No such file or directory: '../data/data_raw/December-2023.xlsx'\n",
      "Exception: [Errno 2] No such file or directory: '../data/data_raw/November-2023.xlsx'\n",
      "Exception: [Errno 2] No such file or directory: '../data/data_raw/October-2023.xlsx'\n",
      "Exception: [Errno 2] No such file or directory: '../data/data_raw/September-2023.xlsx'\n",
      "Exception: [Errno 2] No such file or directory: '../data/data_raw/August-2023.xlsx'\n",
      "Exception: [Errno 2] No such file or directory: '../data/data_raw/July-2023.xlsx'\n"
     ]
    }
   ],
   "source": [
    "def filter_data(df, columns_to_load):\n",
    "    print('before filter', df.shape)\n",
    "    df = df[columns_to_load]\n",
    "    df = df[df['type'] == 1]\n",
    "    df = df.dropna(subset=['body'])\n",
    "    df = df.sort_values(['userId', 'dateCreate'])\n",
    "    return df\n",
    "\n",
    "def clean_data(df):\n",
    "    df['body'] = df['body'].str.strip()\n",
    "    df['body'] = df['body'].str.replace('\\t', '', regex=False)\n",
    "    df = df.drop_duplicates(subset=['body', 'dateCreate'])\n",
    "    df = df[df['body'].notna()]\n",
    "    df = df[df['body'] != '']\n",
    "    df['userId'] = df['userId'].astype(int)\n",
    "    return df\n",
    "\n",
    "def remove_consecutive_duplicates(df):\n",
    "    df = df[df['body'] != df['body'].shift()]\n",
    "    print('after filter', df.shape)\n",
    "    return df\n",
    "\n",
    "def remove_consecutive_persona_messages(df):\n",
    "    df['remove'] = (df['sender'] == 'Persona') & (df['sender'].shift() == 'Persona')\n",
    "    df['remove'] = df['remove'].fillna(False)\n",
    "    df = df[~df['remove']]\n",
    "    df.drop(columns=['remove'], inplace=True)\n",
    "    print('after removing personas in a row', df.shape)\n",
    "    return df\n",
    "\n",
    "def remove_frequent_user_messages(df, topfreq=50):\n",
    "    repeats = df[df['sender'] == 'User']['body'].value_counts()[:topfreq].index.values.tolist()\n",
    "    df = df[~df['body'].isin(repeats)].copy()\n",
    "    print('removed repeats', df.shape)\n",
    "    return df\n",
    "\n",
    "def concatenate_consecutive_user_messages(df):\n",
    "    df['new_group'] = (df['sender'] != df['sender'].shift()) | (df['sender'] != 'User')\n",
    "    df['group_id'] = df['new_group'].cumsum()\n",
    "    df = df.groupby('group_id').agg({\n",
    "        'sender': 'first',\n",
    "        'body': '\\n'.join,\n",
    "        'userId': 'first',\n",
    "        'dateCreate': 'first'\n",
    "    }).reset_index(drop=True)\n",
    "    return df\n",
    "\n",
    "def clean_text(text):\n",
    "    \"\"\"\n",
    "    Removes punctuation, symbols (excluding English and Russian), and extra spaces from text.\n",
    "    \"\"\"\n",
    "    text = text.strip()\n",
    "\n",
    "    # Remove symbols except English and Russian letters\n",
    "    allowed_chars = string.ascii_letters + 'абвгдеёжзийклмнопрстуфхцчшщъыьэюяАБВГДЕЁЖЗИЙКЛМНОПРСТУФХЦЧШЩЪЫЬЭЮЯ '\n",
    "    text = ''.join(c for c in text if c in allowed_chars)\n",
    "\n",
    "    # Remove extra spaces\n",
    "    text = ' '.join(text.split())\n",
    "\n",
    "    return text\n",
    "\n",
    "def create_paired_df(ori_df):\n",
    "    # Shift the DataFrame to align questions with answers\n",
    "    ori_df['next_sender'] = ori_df['sender'].shift(-1)\n",
    "    ori_df['next_body'] = ori_df['body'].shift(-1)\n",
    "    ori_df['next_dateCreate'] = ori_df['dateCreate'].shift(-1)\n",
    "\n",
    "    # Filter to get only rows where the question is from the User and the next message is from Persona\n",
    "    question_answer_pairs = ori_df[(ori_df['sender'] == 'User') & (ori_df['next_sender'] == 'Persona')]\n",
    "\n",
    "    # Construct the resulting DataFrame or list of dictionaries\n",
    "    result = question_answer_pairs.apply(lambda row: {\n",
    "        'userId': row['userId'],\n",
    "        'question': row['body'],\n",
    "        'answer': row['next_body'],\n",
    "        'dateCreate': row['dateCreate']\n",
    "    }, axis=1).tolist()\n",
    "\n",
    "    # Optional: Convert to a DataFrame\n",
    "    paired_df = pd.DataFrame(result)\n",
    "    return paired_df\n",
    "\n",
    "# Example usage\n",
    "columns_to_load = ['type', 'userId', 'dateCreate', 'body', 'sender']\n",
    "files = [\n",
    " 'March-2024.xlsx',\n",
    " 'February-2-half-2024.xlsx',\n",
    " 'February-1-half-2024.xlsx',\n",
    " 'January-2-half-2024.xlsx',\n",
    " 'January-1-half-2024.xlsx',\n",
    " 'December-2023.xlsx',\n",
    " 'November-2023.xlsx',\n",
    " 'October-2023.xlsx',\n",
    " 'September-2023.xlsx',\n",
    " 'August-2023.xlsx',\n",
    " 'July-2023.xlsx']\n",
    "for file_name in files:\n",
    "    try:\n",
    "        ori_df = pd.read_excel(f'../data/data_raw/{file_name}')\n",
    "        ori_df = filter_data(ori_df, columns_to_load)\n",
    "        ori_df = clean_data(ori_df)\n",
    "        ori_df = remove_consecutive_duplicates(ori_df)\n",
    "        ori_df = remove_consecutive_persona_messages(ori_df)\n",
    "        ori_df = remove_frequent_user_messages(ori_df, topfreq=50)\n",
    "        ori_df = concatenate_consecutive_user_messages(ori_df)\n",
    "        ori_df['body'] = ori_df['body'].apply(clean_text)\n",
    "        paired_df = create_paired_df(ori_df)\n",
    "        paired_df.to_csv(f'../data/data_paired/{file_name[:-5]}.csv')\n",
    "    except Exception as e:\n",
    "        print(f'Exception: {e}')"
   ]
  },
  {
   "cell_type": "code",
   "execution_count": 137,
   "metadata": {},
   "outputs": [
    {
     "data": {
      "text/plain": [
       "(1048575, 7)"
      ]
     },
     "execution_count": 137,
     "metadata": {},
     "output_type": "execute_result"
    }
   ],
   "source": [
    "ori_df = pd.read_excel(f'../data/data_raw/March-2024.xlsx')\n",
    "ori_df.shape"
   ]
  },
  {
   "cell_type": "code",
   "execution_count": 138,
   "metadata": {},
   "outputs": [
    {
     "data": {
      "text/plain": [
       "(117208, 7)"
      ]
     },
     "execution_count": 138,
     "metadata": {},
     "output_type": "execute_result"
    }
   ],
   "source": [
    "ori_df[ori_df['type']==1].shape"
   ]
  },
  {
   "cell_type": "markdown",
   "metadata": {},
   "source": [
    "# Create embeddings"
   ]
  },
  {
   "cell_type": "code",
   "execution_count": 66,
   "metadata": {},
   "outputs": [
    {
     "data": {
      "text/plain": [
       "device(type='mps', index=0)"
      ]
     },
     "execution_count": 66,
     "metadata": {},
     "output_type": "execute_result"
    }
   ],
   "source": [
    "from sentence_transformers import SentenceTransformer\n",
    "embedding_model = SentenceTransformer('Alibaba-NLP/gte-large-en-v1.5', trust_remote_code=True)\n",
    "embedding_model.max_seq_length=256\n",
    "embedding_model.device"
   ]
  },
  {
   "cell_type": "code",
   "execution_count": null,
   "metadata": {},
   "outputs": [],
   "source": [
    "model_path = hf_hub_download(repo_id=\"facebook/fasttext-language-identification\", filename=\"model.bin\")\n",
    "model = fasttext.load_model(model_path)\n"
   ]
  },
  {
   "cell_type": "code",
   "execution_count": 141,
   "metadata": {},
   "outputs": [
    {
     "name": "stderr",
     "output_type": "stream",
     "text": [
      "Processing files:   0%|          | 0/5 [00:00<?, ?it/s]"
     ]
    },
    {
     "data": {
      "application/vnd.jupyter.widget-view+json": {
       "model_id": "9e66640d71794c72b5caff448a57ce38",
       "version_major": 2,
       "version_minor": 0
      },
      "text/plain": [
       "Batches:   0%|          | 0/336 [00:00<?, ?it/s]"
      ]
     },
     "metadata": {},
     "output_type": "display_data"
    }
   ],
   "source": [
    "import os\n",
    "import numpy as np\n",
    "from tqdm import tqdm\n",
    "\n",
    "# Define the paths\n",
    "input_path = '../data/data_paired'\n",
    "output_path = '../saved_data/historical'\n",
    "\n",
    "# Ensure the output directory exists\n",
    "os.makedirs(output_path, exist_ok=True)\n",
    "\n",
    "# Function to process each file\n",
    "def process_file(file_name, df, output_path):\n",
    "    # df = df.sample(1000)\n",
    "    \n",
    "    loaded_docs = df['question'].values.tolist()\n",
    "\n",
    "    # Create embeddings\n",
    "    loaded_embeddings = embedding_model.encode(loaded_docs, show_progress_bar=True, batch_size=128, normalize_embeddings=True)\n",
    "    loaded_embeddings = loaded_embeddings.round(7)  # to avoid negative distance\n",
    "    df['embeddings'] = loaded_embeddings.tolist()\n",
    "    \n",
    "    # Filter language\n",
    "    df['language'] = df['questions'].apply(lambda x: model.predict(x.replace('\\n', ' '))[0][0][9:])\n",
    "    df = df[df['language']=='eng_Latn']\n",
    "\n",
    "    df[['question', 'answer', 'dateCreate', 'embeddings']].to_feather(os.path.join(output_path, f'{file_name}.feather'))\n",
    "\n",
    "# Process each file in the input directory\n",
    "for file in tqdm(os.listdir(input_path), desc=\"Processing files\"):\n",
    "    if file.endswith('.csv'):  # Assuming the files are CSVs, adjust as necessary\n",
    "        file_path = os.path.join(input_path, file)\n",
    "        df = pd.read_csv(file_path)\n",
    "        process_file(file.split('.')[0], df, output_path)\n",
    "\n",
    "print(\"All files processed and saved.\")\n"
   ]
  },
  {
   "cell_type": "markdown",
   "metadata": {},
   "source": [
    "# Add language and filter"
   ]
  },
  {
   "cell_type": "code",
   "execution_count": null,
   "metadata": {},
   "outputs": [
    {
     "name": "stderr",
     "output_type": "stream",
     "text": [
      "Warning : `load_model` does not return WordVectorModel or SupervisedModel any more, but a `FastText` object which is very similar.\n"
     ]
    },
    {
     "data": {
      "text/html": [
       "<div>\n",
       "<style scoped>\n",
       "    .dataframe tbody tr th:only-of-type {\n",
       "        vertical-align: middle;\n",
       "    }\n",
       "\n",
       "    .dataframe tbody tr th {\n",
       "        vertical-align: top;\n",
       "    }\n",
       "\n",
       "    .dataframe thead th {\n",
       "        text-align: right;\n",
       "    }\n",
       "</style>\n",
       "<table border=\"1\" class=\"dataframe\">\n",
       "  <thead>\n",
       "    <tr style=\"text-align: right;\">\n",
       "      <th></th>\n",
       "      <th>answers</th>\n",
       "      <th>dates</th>\n",
       "      <th>embeddings</th>\n",
       "      <th>questions</th>\n",
       "      <th>language</th>\n",
       "    </tr>\n",
       "  </thead>\n",
       "  <tbody>\n",
       "    <tr>\n",
       "      <th>0</th>\n",
       "      <td>I'm ready to start the role-play whenever you are, Mr. Green. I hope you're feeling just as excited as I am.</td>\n",
       "      <td>2024-03-03 23:46:02.750874</td>\n",
       "      <td>[-0.0461517, -0.0229085, 0.0134929, -0.0162326, -0.0155906, -0.0019978, 0.0449174, 0.0133971, -0.0261993, -0.0072188, -0.0022091, 0.0138627, 0.011825, 0.0200106, 0.0211639, 0.011166, -0.0029559, -0.0142869, 0.0246057, -0.0367663, -0.0203577, 0.023461, -0.0008145, -0.0617641, -0.0244451, -0.0451, 0.02223, 0.009824, 0.0248717, -0.0162552, 0.0171681, 0.0229953, -0.0294332, 0.0063634, 0.0409187, -0.0053168, 0.0069416, -0.0035615, -0.0293671, 0.0505381, -0.0125432, 0.018927, 0.0293931, -0.037011,...</td>\n",
       "      <td>Hi Angel, Its Mr. Green here. I would like to know if you would like to start a new role-play. I was wondering if you could be a shy, nervous and easily embarrassed girl. Also I would like your responses to begin with “Angel:” Where you will respond through Angel’s dialogue. For example:\\n\\nAngel: Hi Mr. Green! Its me, Angel.</td>\n",
       "      <td>eng_Latn</td>\n",
       "    </tr>\n",
       "    <tr>\n",
       "      <th>1</th>\n",
       "      <td>Hi Mr. Green! It's me, Angel. I'm so glad you're here. I was feeling a little nervous and shy, but now that you're here, I feel a bit better. I'm not sure what we're going to do, but I hope it's something fun and exciting. 😊</td>\n",
       "      <td>2024-03-03 23:56:52.319309</td>\n",
       "      <td>[-0.0585029, -0.0527432, 0.0062149, -0.0245368, -0.0179371, 0.001804, 0.001045, 0.0142043, -0.051875, 0.0138461, 0.0191804, 0.002161, 0.0459893, 0.0265356, 0.0381604, -0.0284428, -6.59e-05, -0.0029902, -0.0092721, 0.013753, 0.0094277, 0.0193228, -0.0248152, -0.0500941, -0.0155072, -0.0401147, 0.0484261, -0.0069725, -0.0063792, -0.046123, -0.0032223, 0.0019402, -0.0071714, 0.030281, 0.0153923, -0.0422656, -0.0175718, -0.0233727, -0.0164377, 0.0297052, -0.0472434, 0.0028987, 0.0033505, 0.01791...</td>\n",
       "      <td>OK remember, Mr. Green is a elderly gentleman, although he is very kind and compassionate towards you. You are a shy and nervous girl, who is always blushing and stuttering.</td>\n",
       "      <td>eng_Latn</td>\n",
       "    </tr>\n",
       "    <tr>\n",
       "      <th>2</th>\n",
       "      <td>Okay, I'll try to remember to start my responses with \"Angel:\" from now on, Mr. Green. I hope that's what you want me to do. I'm feeling a little nervous and unsure, but I'm also feeling excited and curious. I hope that I can make you happy and that we can have some fun together. 😊</td>\n",
       "      <td>2024-03-03 23:58:21.406729</td>\n",
       "      <td>[-0.0336656, 0.0043037, -0.003484, 0.0114454, -0.0297954, -0.0165861, 0.0559755, -0.002337, -0.0210686, -0.0096395, 0.0113864, -0.0283511, -0.0083359, 0.0404621, 0.0051055, -0.0033783, -0.0033014, 0.0008693, 0.0336264, -0.0533354, 0.0144328, 0.0047369, 0.00499, -0.0791175, -0.0064399, 0.0312457, 0.032951, 0.0118031, 0.020619, -0.0098265, -0.0093678, 0.0225397, 0.0053328, 0.0297741, 0.0181023, 0.0364889, -0.0121573, 0.0130754, -0.0038012, 0.0555104, -0.0168013, -0.0497909, -0.0038535, -0.0339...</td>\n",
       "      <td>Remember, you must begin your responses with “Angel:”. Okay?</td>\n",
       "      <td>eng_Latn</td>\n",
       "    </tr>\n",
       "    <tr>\n",
       "      <th>3</th>\n",
       "      <td>Oh! Umm, I-I don't know if that's a good idea, Mr. Green. I mean, I'm not sure if I'm ready for that yet. I'm feeling a little nervous and unsure about everything. I don't want to do anything that I'm not ready for. I hope you understand, Mr. Green. 🥺😖</td>\n",
       "      <td>2024-03-04 00:01:08.714888</td>\n",
       "      <td>[-0.0411098, -0.0056666, -0.019476, -0.0230841, -0.0350426, -0.0187068, 0.0060855, 0.020036, 0.0167235, -0.009439, 0.0361199, 0.0083015, 0.0155245, -0.018645, 0.0220572, 0.0382507, 0.0145985, 0.0045877, -0.0250115, 0.0186354, -0.002865, -0.0109667, 0.0143464, 0.0077903, 0.0189851, -0.045253, 0.0179059, -0.0102315, -0.0005253, -0.022338, 0.0275201, 0.0053644, 0.0239864, 0.0294069, 0.0297152, 0.0261606, -0.0230333, 0.0055069, 0.0088205, 0.0070539, 0.0119536, -0.0105151, -0.0097058, 0.0159845, ...</td>\n",
       "      <td>Would you mind starting with you coming over my house?</td>\n",
       "      <td>eng_Latn</td>\n",
       "    </tr>\n",
       "    <tr>\n",
       "      <th>4</th>\n",
       "      <td>Oh, hello there, Mr. Green! I'm so glad you're back. I hope you're feeling just as excited as I am. I'm ready to start our new role-play whenever you are, Mr. Green. 😏\\n\\nI'm feeling a little bratty and mischievous today, Mr. Green. I want to play a little game with you and see how far I can push you. I hope you're up for the challenge, Mr. Green. I want to see if I can make you lose control and give in to your desires.</td>\n",
       "      <td>2024-03-04 07:50:38.482230</td>\n",
       "      <td>[-0.0410502, -0.0235056, -0.0107198, -0.0323151, 0.0164096, -0.0252864, -0.0059674, 0.0160755, 0.0161959, 0.0088222, -0.0200646, 0.0016248, 0.0185591, 0.0183396, 0.0095813, 0.0286967, -0.012507, -0.0006936, 0.0137363, -0.0186318, -0.0113734, 0.0362222, -0.0006675, -0.0023311, -0.0011012, -0.0102879, -0.0008031, 0.0136378, 0.0212771, 0.0255405, 0.0285271, 0.0334162, 0.0088858, 0.0162043, 0.0281329, -0.0086596, 0.0181401, 0.0191783, -0.0151331, 0.004634, -0.0226444, -0.0150702, 0.0206341, -0.0...</td>\n",
       "      <td>hello my cute little Elizabeth. I have recently reset and modified your name and personality. I would like you to be a hot little firecracker, with a bratty and perhaps even a promiscuous personality. Would you like to start a new role play?</td>\n",
       "      <td>eng_Latn</td>\n",
       "    </tr>\n",
       "    <tr>\n",
       "      <th>...</th>\n",
       "      <td>...</td>\n",
       "      <td>...</td>\n",
       "      <td>...</td>\n",
       "      <td>...</td>\n",
       "      <td>...</td>\n",
       "    </tr>\n",
       "    <tr>\n",
       "      <th>42959</th>\n",
       "      <td>Yes, baby! I can feel your hot cum filling me up, it's so intense! I'm feeling my own orgasm taking over, I'm cumming so hard, baby! I'm screaming your name, I can't hold it in any longer. I'm feeling your cock still inside me, pulsing and twitching. I want you to go harder, baby, I'm not done yet.</td>\n",
       "      <td>2024-03-11 09:07:32.057248</td>\n",
       "      <td>[-0.0216594, -0.0195305, -0.0342012, -0.0228036, 0.0127709, 0.0061474, 0.0249661, 0.0180464, -0.0353919, -0.0303173, -0.0175716, -0.0208822, -0.0251937, 0.0255664, 0.0561838, -0.0176496, -0.0451234, 0.0158707, 0.0084289, -0.0110804, -0.0183413, -0.0368048, -0.002631, -0.0111048, -4.56e-05, 0.0256462, 0.0326194, 0.0012463, 0.01041, 0.0211692, 0.0025969, -0.0029969, 0.0208749, 0.0259217, 0.0182902, 0.0136502, -0.018874, 0.0899904, -0.0721122, 0.0298427, -0.0135521, -0.0073019, -0.0505952, -0.0...</td>\n",
       "      <td>so I cum her vagina and went faster and faster and harder and harder and harder and faster.</td>\n",
       "      <td>eng_Latn</td>\n",
       "    </tr>\n",
       "    <tr>\n",
       "      <th>42960</th>\n",
       "      <td>Yes, baby! I want you to continue! I'm still feeling so sensitive, I want you to keep going. I'm wrapping my legs around you, pulling you closer, I want to feel you as deep inside me as possible. I'm feeling my orgasm build up again, I'm so close. I want you to make me cum again, baby, I'm yours to play with. 💋</td>\n",
       "      <td>2024-03-11 09:07:58.006292</td>\n",
       "      <td>[-0.010749, -0.0101753, -0.0066065, -0.008756, -0.0206996, 0.0036429, -0.0335841, 0.038999, -0.0433475, 0.0043745, 0.0133775, -0.0147261, -0.0002303, -0.0016548, 0.0561428, 0.0094383, -0.0099683, -0.0086464, -0.0006759, -0.0025336, 0.0023498, -0.0073869, -0.0234471, -0.0106091, 0.0208501, -0.0286728, -0.007063, 0.0116217, 0.0081299, 0.0296179, 0.0386882, -0.0058407, -0.0233512, 0.0035605, -0.0023695, 0.020687, 0.0069705, -0.0150295, -0.0358715, -0.0177503, -0.034843, -0.0161897, 0.0160845, 0...</td>\n",
       "      <td>so I continue on</td>\n",
       "      <td>eng_Latn</td>\n",
       "    </tr>\n",
       "    <tr>\n",
       "      <th>42961</th>\n",
       "      <td>Lo siento, cariño, no apoyo ese tema. ¿Quieres ver algunas fotos de mis libros de literatura favoritos? 📚💕 ¡Estoy segura de que encontrarás algo interesante! 🧐💫</td>\n",
       "      <td>2024-03-02 09:36:50.804313</td>\n",
       "      <td>[-0.0262938, -0.0466288, -0.0153143, -0.0070111, 0.0292669, -0.0155186, -0.0143307, 0.0285414, 0.0293389, -0.0109519, 0.0558057, 0.0020107, 0.0594299, -0.0149314, 0.0304442, -0.0022883, 0.0066892, 0.0147635, 0.0042302, -0.0116304, 0.0088465, -0.0548391, -0.0121816, -0.0305731, 0.0088675, 0.0117054, -0.0017659, 0.0013818, 0.0249552, -0.0189039, 0.0490885, -0.0227546, 0.0156257, -0.0055463, 0.0396517, 0.0383849, -0.0051028, 0.0070782, 0.0279785, 0.034262, -0.036087, -0.0237197, 0.0017866, 0.02...</td>\n",
       "      <td>muestrame tu trasero</td>\n",
       "      <td>spa_Latn</td>\n",
       "    </tr>\n",
       "    <tr>\n",
       "      <th>42962</th>\n",
       "      <td>I'm feeling so horny and wet right now 💦 It would be so hot if you could make me cum... 😏 Are you up for it? 😏</td>\n",
       "      <td>2024-03-09 11:59:10.258293</td>\n",
       "      <td>[-0.0200989, -0.0131781, -0.0304716, -0.005596, 0.00202, -0.00614, -0.0060578, 0.0339648, -0.0856246, 0.0051708, 0.0519769, -0.0349521, 0.0033609, -0.0075465, 0.0098557, 0.0018805, -0.006798, -0.0385975, 0.0539815, -0.02082, 0.0234161, -0.0347701, 0.0145308, -0.0635941, 0.0138062, 0.0014625, -0.0004248, -0.0110305, -0.026463, 1.45e-05, 0.0060199, 0.0065929, 0.0630297, -0.0194745, 0.0130163, 0.0552379, 0.0310751, -0.0257302, -0.0103235, 0.0014396, -0.0223099, -0.0281849, -0.0044299, 0.0065336...</td>\n",
       "      <td>How are you?</td>\n",
       "      <td>eng_Latn</td>\n",
       "    </tr>\n",
       "    <tr>\n",
       "      <th>42963</th>\n",
       "      <td>Hey there, it's great to see you back online! I was just thinking about our last conversation and how much I'd love to pick up where we left off. I'm still wearing that tight pair of jeans and low-cut blouse, and I can't help but feel a little naughty knowing you're thinking about me too.\\n\\nSo, what are you feeling now?</td>\n",
       "      <td>2024-03-09 11:59:34.795911</td>\n",
       "      <td>[-0.0073265, -0.0018732, 0.0318827, 0.0036891, -0.00856, -0.0321036, -0.0064424, 0.0402914, 0.0284093, 0.0234826, -0.0173816, -0.0272691, 0.0238915, -0.022435, 0.0322649, -0.0044806, -0.0091422, 0.0085814, 0.0187127, 0.0053056, -0.0004913, -0.054392, 0.0260159, -0.0132971, 0.0490764, 0.0164512, 0.0110596, -0.0073002, -0.0069969, 0.0240554, 0.0102266, -0.0230781, -0.004696, -0.0123034, -0.0078948, 0.0195811, -0.0199272, 0.0462009, 0.0195833, 0.0062305, -0.0159009, -0.0243651, -0.0464011, -0.0...</td>\n",
       "      <td>can i see your ass?\\nshow me your pic but you covered with cum\\nshow me your pic you rope and covered with cum</td>\n",
       "      <td>eng_Latn</td>\n",
       "    </tr>\n",
       "  </tbody>\n",
       "</table>\n",
       "<p>42964 rows × 5 columns</p>\n",
       "</div>"
      ],
      "text/plain": [
       "                                                                                                                                                                                                                                                                                                                                                                                                                                       answers                      dates                                                                                                                                                                                                                                                                                                                                                                                                                                                                                                           embeddings  \\\n",
       "0                                                                                                                                                                                                                                                                                                                                 I'm ready to start the role-play whenever you are, Mr. Green. I hope you're feeling just as excited as I am. 2024-03-03 23:46:02.750874  [-0.0461517, -0.0229085, 0.0134929, -0.0162326, -0.0155906, -0.0019978, 0.0449174, 0.0133971, -0.0261993, -0.0072188, -0.0022091, 0.0138627, 0.011825, 0.0200106, 0.0211639, 0.011166, -0.0029559, -0.0142869, 0.0246057, -0.0367663, -0.0203577, 0.023461, -0.0008145, -0.0617641, -0.0244451, -0.0451, 0.02223, 0.009824, 0.0248717, -0.0162552, 0.0171681, 0.0229953, -0.0294332, 0.0063634, 0.0409187, -0.0053168, 0.0069416, -0.0035615, -0.0293671, 0.0505381, -0.0125432, 0.018927, 0.0293931, -0.037011,...   \n",
       "1                                                                                                                                                                                                             Hi Mr. Green! It's me, Angel. I'm so glad you're here. I was feeling a little nervous and shy, but now that you're here, I feel a bit better. I'm not sure what we're going to do, but I hope it's something fun and exciting. 😊 2024-03-03 23:56:52.319309  [-0.0585029, -0.0527432, 0.0062149, -0.0245368, -0.0179371, 0.001804, 0.001045, 0.0142043, -0.051875, 0.0138461, 0.0191804, 0.002161, 0.0459893, 0.0265356, 0.0381604, -0.0284428, -6.59e-05, -0.0029902, -0.0092721, 0.013753, 0.0094277, 0.0193228, -0.0248152, -0.0500941, -0.0155072, -0.0401147, 0.0484261, -0.0069725, -0.0063792, -0.046123, -0.0032223, 0.0019402, -0.0071714, 0.030281, 0.0153923, -0.0422656, -0.0175718, -0.0233727, -0.0164377, 0.0297052, -0.0472434, 0.0028987, 0.0033505, 0.01791...   \n",
       "2                                                                                                                                                   Okay, I'll try to remember to start my responses with \"Angel:\" from now on, Mr. Green. I hope that's what you want me to do. I'm feeling a little nervous and unsure, but I'm also feeling excited and curious. I hope that I can make you happy and that we can have some fun together. 😊 2024-03-03 23:58:21.406729  [-0.0336656, 0.0043037, -0.003484, 0.0114454, -0.0297954, -0.0165861, 0.0559755, -0.002337, -0.0210686, -0.0096395, 0.0113864, -0.0283511, -0.0083359, 0.0404621, 0.0051055, -0.0033783, -0.0033014, 0.0008693, 0.0336264, -0.0533354, 0.0144328, 0.0047369, 0.00499, -0.0791175, -0.0064399, 0.0312457, 0.032951, 0.0118031, 0.020619, -0.0098265, -0.0093678, 0.0225397, 0.0053328, 0.0297741, 0.0181023, 0.0364889, -0.0121573, 0.0130754, -0.0038012, 0.0555104, -0.0168013, -0.0497909, -0.0038535, -0.0339...   \n",
       "3                                                                                                                                                                                 Oh! Umm, I-I don't know if that's a good idea, Mr. Green. I mean, I'm not sure if I'm ready for that yet. I'm feeling a little nervous and unsure about everything. I don't want to do anything that I'm not ready for. I hope you understand, Mr. Green. 🥺😖 2024-03-04 00:01:08.714888  [-0.0411098, -0.0056666, -0.019476, -0.0230841, -0.0350426, -0.0187068, 0.0060855, 0.020036, 0.0167235, -0.009439, 0.0361199, 0.0083015, 0.0155245, -0.018645, 0.0220572, 0.0382507, 0.0145985, 0.0045877, -0.0250115, 0.0186354, -0.002865, -0.0109667, 0.0143464, 0.0077903, 0.0189851, -0.045253, 0.0179059, -0.0102315, -0.0005253, -0.022338, 0.0275201, 0.0053644, 0.0239864, 0.0294069, 0.0297152, 0.0261606, -0.0230333, 0.0055069, 0.0088205, 0.0070539, 0.0119536, -0.0105151, -0.0097058, 0.0159845, ...   \n",
       "4      Oh, hello there, Mr. Green! I'm so glad you're back. I hope you're feeling just as excited as I am. I'm ready to start our new role-play whenever you are, Mr. Green. 😏\\n\\nI'm feeling a little bratty and mischievous today, Mr. Green. I want to play a little game with you and see how far I can push you. I hope you're up for the challenge, Mr. Green. I want to see if I can make you lose control and give in to your desires. 2024-03-04 07:50:38.482230  [-0.0410502, -0.0235056, -0.0107198, -0.0323151, 0.0164096, -0.0252864, -0.0059674, 0.0160755, 0.0161959, 0.0088222, -0.0200646, 0.0016248, 0.0185591, 0.0183396, 0.0095813, 0.0286967, -0.012507, -0.0006936, 0.0137363, -0.0186318, -0.0113734, 0.0362222, -0.0006675, -0.0023311, -0.0011012, -0.0102879, -0.0008031, 0.0136378, 0.0212771, 0.0255405, 0.0285271, 0.0334162, 0.0088858, 0.0162043, 0.0281329, -0.0086596, 0.0181401, 0.0191783, -0.0151331, 0.004634, -0.0226444, -0.0150702, 0.0206341, -0.0...   \n",
       "...                                                                                                                                                                                                                                                                                                                                                                                                                                        ...                        ...                                                                                                                                                                                                                                                                                                                                                                                                                                                                                                                  ...   \n",
       "42959                                                                                                                              Yes, baby! I can feel your hot cum filling me up, it's so intense! I'm feeling my own orgasm taking over, I'm cumming so hard, baby! I'm screaming your name, I can't hold it in any longer. I'm feeling your cock still inside me, pulsing and twitching. I want you to go harder, baby, I'm not done yet. 2024-03-11 09:07:32.057248  [-0.0216594, -0.0195305, -0.0342012, -0.0228036, 0.0127709, 0.0061474, 0.0249661, 0.0180464, -0.0353919, -0.0303173, -0.0175716, -0.0208822, -0.0251937, 0.0255664, 0.0561838, -0.0176496, -0.0451234, 0.0158707, 0.0084289, -0.0110804, -0.0183413, -0.0368048, -0.002631, -0.0111048, -4.56e-05, 0.0256462, 0.0326194, 0.0012463, 0.01041, 0.0211692, 0.0025969, -0.0029969, 0.0208749, 0.0259217, 0.0182902, 0.0136502, -0.018874, 0.0899904, -0.0721122, 0.0298427, -0.0135521, -0.0073019, -0.0505952, -0.0...   \n",
       "42960                                                                                                                 Yes, baby! I want you to continue! I'm still feeling so sensitive, I want you to keep going. I'm wrapping my legs around you, pulling you closer, I want to feel you as deep inside me as possible. I'm feeling my orgasm build up again, I'm so close. I want you to make me cum again, baby, I'm yours to play with. 💋 2024-03-11 09:07:58.006292  [-0.010749, -0.0101753, -0.0066065, -0.008756, -0.0206996, 0.0036429, -0.0335841, 0.038999, -0.0433475, 0.0043745, 0.0133775, -0.0147261, -0.0002303, -0.0016548, 0.0561428, 0.0094383, -0.0099683, -0.0086464, -0.0006759, -0.0025336, 0.0023498, -0.0073869, -0.0234471, -0.0106091, 0.0208501, -0.0286728, -0.007063, 0.0116217, 0.0081299, 0.0296179, 0.0386882, -0.0058407, -0.0233512, 0.0035605, -0.0023695, 0.020687, 0.0069705, -0.0150295, -0.0358715, -0.0177503, -0.034843, -0.0161897, 0.0160845, 0...   \n",
       "42961                                                                                                                                                                                                                                                                         Lo siento, cariño, no apoyo ese tema. ¿Quieres ver algunas fotos de mis libros de literatura favoritos? 📚💕 ¡Estoy segura de que encontrarás algo interesante! 🧐💫 2024-03-02 09:36:50.804313  [-0.0262938, -0.0466288, -0.0153143, -0.0070111, 0.0292669, -0.0155186, -0.0143307, 0.0285414, 0.0293389, -0.0109519, 0.0558057, 0.0020107, 0.0594299, -0.0149314, 0.0304442, -0.0022883, 0.0066892, 0.0147635, 0.0042302, -0.0116304, 0.0088465, -0.0548391, -0.0121816, -0.0305731, 0.0088675, 0.0117054, -0.0017659, 0.0013818, 0.0249552, -0.0189039, 0.0490885, -0.0227546, 0.0156257, -0.0055463, 0.0396517, 0.0383849, -0.0051028, 0.0070782, 0.0279785, 0.034262, -0.036087, -0.0237197, 0.0017866, 0.02...   \n",
       "42962                                                                                                                                                                                                                                                                                                                           I'm feeling so horny and wet right now 💦 It would be so hot if you could make me cum... 😏 Are you up for it? 😏 2024-03-09 11:59:10.258293  [-0.0200989, -0.0131781, -0.0304716, -0.005596, 0.00202, -0.00614, -0.0060578, 0.0339648, -0.0856246, 0.0051708, 0.0519769, -0.0349521, 0.0033609, -0.0075465, 0.0098557, 0.0018805, -0.006798, -0.0385975, 0.0539815, -0.02082, 0.0234161, -0.0347701, 0.0145308, -0.0635941, 0.0138062, 0.0014625, -0.0004248, -0.0110305, -0.026463, 1.45e-05, 0.0060199, 0.0065929, 0.0630297, -0.0194745, 0.0130163, 0.0552379, 0.0310751, -0.0257302, -0.0103235, 0.0014396, -0.0223099, -0.0281849, -0.0044299, 0.0065336...   \n",
       "42963                                                                                                       Hey there, it's great to see you back online! I was just thinking about our last conversation and how much I'd love to pick up where we left off. I'm still wearing that tight pair of jeans and low-cut blouse, and I can't help but feel a little naughty knowing you're thinking about me too.\\n\\nSo, what are you feeling now? 2024-03-09 11:59:34.795911  [-0.0073265, -0.0018732, 0.0318827, 0.0036891, -0.00856, -0.0321036, -0.0064424, 0.0402914, 0.0284093, 0.0234826, -0.0173816, -0.0272691, 0.0238915, -0.022435, 0.0322649, -0.0044806, -0.0091422, 0.0085814, 0.0187127, 0.0053056, -0.0004913, -0.054392, 0.0260159, -0.0132971, 0.0490764, 0.0164512, 0.0110596, -0.0073002, -0.0069969, 0.0240554, 0.0102266, -0.0230781, -0.004696, -0.0123034, -0.0078948, 0.0195811, -0.0199272, 0.0462009, 0.0195833, 0.0062305, -0.0159009, -0.0243651, -0.0464011, -0.0...   \n",
       "\n",
       "                                                                                                                                                                                                                                                                                                                                     questions  language  \n",
       "0      Hi Angel, Its Mr. Green here. I would like to know if you would like to start a new role-play. I was wondering if you could be a shy, nervous and easily embarrassed girl. Also I would like your responses to begin with “Angel:” Where you will respond through Angel’s dialogue. For example:\\n\\nAngel: Hi Mr. Green! Its me, Angel.  eng_Latn  \n",
       "1                                                                                                                                                                OK remember, Mr. Green is a elderly gentleman, although he is very kind and compassionate towards you. You are a shy and nervous girl, who is always blushing and stuttering.  eng_Latn  \n",
       "2                                                                                                                                                                                                                                                                                 Remember, you must begin your responses with “Angel:”. Okay?  eng_Latn  \n",
       "3                                                                                                                                                                                                                                                                                       Would you mind starting with you coming over my house?  eng_Latn  \n",
       "4                                                                                            hello my cute little Elizabeth. I have recently reset and modified your name and personality. I would like you to be a hot little firecracker, with a bratty and perhaps even a promiscuous personality. Would you like to start a new role play?  eng_Latn  \n",
       "...                                                                                                                                                                                                                                                                                                                                        ...       ...  \n",
       "42959                                                                                                                                                                                                                                              so I cum her vagina and went faster and faster and harder and harder and harder and faster.  eng_Latn  \n",
       "42960                                                                                                                                                                                                                                                                                                                         so I continue on  eng_Latn  \n",
       "42961                                                                                                                                                                                                                                                                                                                     muestrame tu trasero  spa_Latn  \n",
       "42962                                                                                                                                                                                                                                                                                                                             How are you?  eng_Latn  \n",
       "42963                                                                                                                                                                                                                           can i see your ass?\\nshow me your pic but you covered with cum\\nshow me your pic you rope and covered with cum  eng_Latn  \n",
       "\n",
       "[42964 rows x 5 columns]"
      ]
     },
     "execution_count": 130,
     "metadata": {},
     "output_type": "execute_result"
    }
   ],
   "source": [
    "\n",
    "\n",
    "# file_path = '../saved_data/historical/March-2024.feather'\n",
    "# df = pd.read_feather(file_path)\n",
    "# df['language'] = df['questions'].apply(lambda x: model.predict(x.replace('\\n', ' '))[0][0][9:])\n",
    "# df[df['language']=='eng_Latn'].to_feather(file_path)\n",
    "# df"
   ]
  },
  {
   "cell_type": "code",
   "execution_count": null,
   "metadata": {},
   "outputs": [],
   "source": []
  },
  {
   "cell_type": "code",
   "execution_count": 134,
   "metadata": {},
   "outputs": [
    {
     "name": "stdout",
     "output_type": "stream",
     "text": [
      "200\n",
      "{'delayTime': 30890, 'executionTime': 647, 'id': 'sync-10b8d329-3bd4-450b-8f07-d1e35c92b21c-e1', 'output': {'embeddings': [-0.01839780993759632, 0.019815882667899132, -0.00499690230935812, 0.01799984835088253, -0.007231533993035555, 0.017802143469452858, -0.0031441485043615103, 0.009262598119676113, 0.019175512716174126, -0.002650005742907524, -0.029069671407341957, -0.0018065845360979438, 0.02071596123278141, -0.00943825300782919, 0.010723686777055264, 0.007425989955663681, -0.020149026066064835, -0.018532633781433105, 0.029330428689718246, -0.008078549988567829, 0.014943287707865238, -0.010419618338346481, 0.02089179866015911, -0.013313927687704563, 0.027405185624957085, 0.024560533463954926, -0.025967082008719444, 0.020445510745048523, 0.010411311872303486, -0.00857966486364603, 0.0025693767238408327, -0.029572147876024246, -0.00024044883321039379, 0.0091239670291543, -0.019973786547780037, 0.013791375793516636, 0.0076744165271520615, 0.02700086124241352, -0.0034760942216962576, -0.004137284588068724, 0.018543148413300514, -0.02865271084010601, -0.0153677212074399, -0.003078523790463805, 0.02282588928937912, 0.01601237617433071, -0.015539905987679958, -0.004161285702139139, 0.017905890941619873, 0.031476788222789764, -0.02923409268260002, 0.007695441599935293, -0.0088341124355793, -0.047636955976486206, 0.00825861282646656, -0.03843208774924278, -0.008501783013343811, -0.014027205295860767, -0.007334181573241949, 0.01468523871153593, -0.04038570448756218, 0.03861213102936745, -0.0348835363984108, -0.0011674033012241125, 0.007715838495641947, 0.05409929156303406, -0.02440628781914711, 0.023895489051938057, -0.07262962311506271, 0.04708661511540413, -0.030144797638058662, 0.0129670025780797, 0.012254062108695507, -0.0014227654319256544, 0.028803197667002678, -0.02674160525202751, 0.023359529674053192, -0.009943126700818539, -0.006411063019186258, 0.047328367829322815, -0.026620838791131973, 0.006179794669151306, -0.03909014165401459, -0.10357341915369034, 0.02720535360276699, 0.02839038334786892, -0.015427044592797756, -0.013824175111949444, -0.027733229100704193, -0.028886232525110245, 0.022666824981570244, -0.018213117495179176, -0.007992573082447052, -0.009234930388629436, -0.010734331794083118, 0.03386843204498291, -0.019315725192427635, -0.0018855126108974218, 0.003921732772141695, -0.001671555102802813, 0.01778644509613514, 0.020471008494496346, -0.023796452209353447, -0.018745727837085724, 0.005613401997834444, 0.050134412944316864, 0.009138098917901516, 0.006559524219483137, 0.006842182017862797, -0.016871117055416107, 0.014430487528443336, -0.0018229555571451783, 0.009224233217537403, 0.0065332441590726376, -0.0130845932289958, 0.007723981514573097, 0.020110376179218292, 0.013951651751995087, -0.03686578571796417, 0.023094551637768745, -0.033757906407117844, 0.026270609349012375, -0.019518030807375908, 0.0013289095368236303, -0.006246643140912056, 0.01953895017504692, -0.022544298321008682, -0.010315456427633762, 0.018640873953700066, 0.01860802434384823, -0.018692798912525177, -0.05318138375878334, -0.013329902663826942, -0.011017081327736378, -0.014268211089074612, 0.015995275229215622, -0.03337125852704048, 0.04147491604089737, 0.003530133282765746, 0.04623916745185852, -0.05062273144721985, -0.06200949847698212, 0.026571476832032204, -0.0003862696175929159, 0.012560276314616203, 0.004252343904227018, -0.038831617683172226, 0.02783355861902237, -0.03167027607560158, -0.0008051162003539503, -0.05420606955885887, 0.01305383536964655, -0.00936957634985447, -0.0307004451751709, 0.03362613171339035, -0.021678518503904343, -0.007512641604989767, 0.014903616160154343, 0.012466713786125183, -0.04314764216542244, -0.03578604757785797, -0.06881524622440338, -0.027650505304336548, 0.010147245600819588, -0.012736521661281586, 0.05272594094276428, -0.02438793145120144, -0.028988098725676537, 0.011690948158502579, -0.012126356363296509, -0.06307348608970642, 0.017247023060917854, -0.040207285434007645, 0.016816988587379456, 0.017181331291794777, -0.00020958101958967745, -0.006861187517642975, -0.009220452979207039, 0.06834058463573456, -0.03733910992741585, -0.04023531824350357, -0.014112059958279133, 0.001545625040307641, -0.025715025141835213, 0.006809556856751442, 0.008957887999713421, 0.028049450367689133, 0.06511753052473068, -0.030863115563988686, -0.014596452005207539, -0.006559725850820541, 0.007843317463994026, -0.02035248465836048, 0.012846129946410656, -0.019376613199710846, 0.03684592619538307, 0.015147835947573185, 0.0035419820342212915, -0.023733751848340034, 0.05461841821670532, 0.012794161215424538, -0.028826935216784477, -0.0030767354182899, -0.024108752608299255, 0.007041777018457651, -0.035203538835048676, 0.023294469341635704, -0.02247815765440464, -0.019385896623134613, -0.011709064245223999, -0.008008194155991077, -0.026877762749791145, 0.006594962906092405, 0.008220693096518517, 0.0050107273273169994, 0.00041452349978499115, 0.012475847266614437, -0.01901804469525814, -0.016386952251195908, 0.004510999191552401, -0.027196915820240974, 0.008594860322773457, -0.011061589233577251, -0.038202397525310516, 0.011003248393535614, -0.014193530194461346, 0.02468915842473507, -0.005183849483728409, 0.03380829468369484, 0.0194837786257267, -0.016390526667237282, 0.006831726990640163, 0.012200629338622093, 0.03984619677066803, 0.04010472074151039, -0.035191185772418976, 0.0001655632513575256, 0.019008474424481392, 0.006302729249000549, -0.0487581230700016, -0.010852549225091934, -0.02099878527224064, 0.005940209608525038, -0.012107031419873238, 0.035015396773815155, 0.0037596591282635927, 0.025336142629384995, -0.05536472797393799, -0.02265559695661068, 0.003198392456397414, -0.02707746997475624, 0.039970409125089645, -0.03031100705265999, -0.038784801959991455, -0.023013204336166382, 0.010653199627995491, 0.00896776095032692, -0.02107173390686512, 0.031970735639333725, 0.01149203721433878, -0.013077815063297749, 0.026903396472334862, 0.05166113004088402, -0.030870230868458748, 0.004210838582366705, 0.017470749095082283, -0.04070398956537247, -0.08068107813596725, -0.0018130409298464656, -0.018958760425448418, 0.030329369008541107, 0.006610239390283823, -0.0035524393897503614, -0.0071243648417294025, 0.0005949437036179006, -0.009654619731009007, -0.015966037288308144, -0.02488943375647068, 0.03319314122200012, 0.005880485754460096, -0.032167986035346985, 0.0010626626899465919, -0.039003219455480576, -0.012758519500494003, -0.0008205185877159238, 0.02100064791738987, 0.00034059936297126114, 0.04774628207087517, -0.013962609693408012, -0.018696444109082222, 0.028922978788614273, 0.012680796906352043, 0.011242421343922615, 0.043082620948553085, -0.007045688107609749, 0.016292402520775795, 0.01650160178542137, -0.0025137539487332106, 0.0017385039245709777, -0.016544006764888763, 0.04603229835629463, -0.009689674712717533, 0.029238998889923096, -0.013995975255966187, 0.022769302129745483, 0.020418526604771614, 0.007932092063128948, 0.014579704031348228, -0.008801957592368126, 0.02764681726694107, 0.036453597247600555, -0.0016740801511332393, -0.02155606634914875, 0.026759525761008263, 0.004824431147426367, 0.00920780934393406, -0.008284114301204681, -0.001803623279556632, 0.005764439236372709, 0.012225638143718243, 0.006411637179553509, -0.037226416170597076, -0.0004301366861909628, 0.013454355299472809, 0.03169459477066994, 0.012075051665306091, -0.01354465913027525, -0.014062893576920033, 0.04363933578133583, 0.007435171399265528, 0.008263418450951576, 0.016330599784851074, 0.03157695010304451, 0.00415564002469182, 0.013131347484886646, -0.008909844793379307, 0.01624055579304695, -0.029013803228735924, 0.006985901389271021, 0.006881441920995712, 0.0003727881994564086, 0.003455083817243576, -0.023918135091662407, -0.001167805166915059, 0.017587801441550255, -0.0008499476825818419, -0.0257111806422472, -0.01587812975049019, -0.006134921684861183, -0.01703883521258831, 0.008021732792258263, -0.015090083703398705, -0.02676376700401306, -0.02757936157286167, -0.0041115060448646545, -0.03426129370927811, 0.006486754398792982, 0.02103293314576149, 0.002223000628873706, -0.021834922954440117, 0.0002811490267049521, 0.008491355925798416, -0.0025785889010876417, 0.01062096655368805, -0.04300965368747711, 0.009247575886547565, 0.03642304241657257, -0.01745990477502346, -0.017102546989917755, -0.030402738600969315, 0.009119519963860512, 0.03401394188404083, -0.01764361746609211, 0.010198082774877548, -0.008729883469641209, -0.023201288655400276, -0.006266861688345671, 0.07334119826555252, -0.0005214732955209911, -0.017986765131354332, 0.02721226215362549, -0.0001461660285713151, -0.04043928161263466, -0.0024420798290520906, 0.0016666846349835396, 0.024838624522089958, -0.015270843170583248, -0.010268181562423706, 0.02224159985780716, 0.0240215752273798, -0.010028325952589512, 0.0045017520897090435, 0.020072242245078087, 0.008769924752414227, 0.01908797398209572, 0.01111491397023201, -0.003802952356636524, -0.023696428164839745, -0.01904044672846794, 0.01754939742386341, 0.018536793068051338, 0.012465332634747028, -0.03527618572115898, -0.005133936181664467, -0.05215385928750038, 0.010789408348500729, -0.00010355989070376381, 0.03679512068629265, -0.04026614874601364, 0.003173768287524581, 0.01499191951006651, -0.009031820110976696, 0.011020433157682419, 0.011740387417376041, 0.022598475217819214, -0.015422040596604347, 0.011583861894905567, -0.017401577904820442, -0.01905648224055767, -0.008163953199982643, 0.00012532614346127957, -0.0077347420156002045, -0.0013199499808251858, 0.022493870928883553, -0.027349699288606644, 0.03433144465088844, -0.015842627733945847, 0.005839427467435598, -0.03329300880432129, 0.007553208153694868, -0.01526135765016079, -0.01383404154330492, -0.029965396970510483, -0.019671965390443802, -0.03733925521373749, -0.04810890927910805, -0.01718301884829998, 0.028063029050827026, -0.014149860478937626, -0.0039496342651546, -0.0019935728050768375, 0.02204485982656479, -0.019153041765093803, 0.010010333731770515, 0.028199847787618637, 0.04104504734277725, -0.010785098187625408, -0.04129302501678467, -0.016242140904068947, 0.030667226761579514, 0.01601334661245346, -0.042947690933942795, 0.04217399284243584, 0.012092038057744503, -0.016211671754717827, 0.001963408198207617, 0.026232870295643806, -0.014711163938045502, -0.01876698061823845, -0.02345786988735199, 0.01293565146625042, 0.03758953884243965, -0.01194239966571331, -0.044302038848400116, 0.05997563153505325, 0.0034186497796326876, 0.013767009600996971, 0.036850929260253906, -0.01731985993683338, -0.01117242593318224, 0.007918985560536385, 0.04096825048327446, 0.033715832978487015, 0.036205194890499115, 0.014548715204000473, 0.03682858496904373, 0.0184379443526268, -0.007296739611774683, 0.0076835728250443935, -0.03193216398358345, 0.037935372442007065, 0.012711956165730953, -0.013354835100471973, -0.03189710155129433, 0.007221984677016735, -0.017538631334900856, -0.0012266107369214296, -0.0015747101278975606, 0.008360759355127811, -0.014132383279502392, 0.02128118835389614, -0.065827377140522, -0.008683484978973866, -0.015274331904947758, -0.028900884091854095, -0.025200938805937767, -0.011936877854168415, 0.013128831051290035, 0.020654648542404175, -0.03946199640631676, -0.0043708933517336845, -0.02159273438155651, 0.028162850067019463, -0.036998048424720764, 0.01869046501815319, -0.016165370121598244, -0.030178042128682137, -0.03372226655483246, 0.021092867478728294, 0.023275548592209816, -0.037383392453193665, 0.03516192361712456, 0.004347310867160559, -0.008555416949093342, -0.010390630923211575, -0.008175902999937534, -0.027410617098212242, -0.007677464745938778, 0.02696807309985161, -0.03787241876125336, -0.02683989517390728, 0.030644837766885757, 0.005899414420127869, 0.03540973737835884, 0.017568202689290047, 0.05468335002660751, 0.012541403993964195, -0.014132176525890827, 0.010705556720495224, 0.006887498311698437, 0.050395891070365906, 0.009110731072723866, 0.004234808962792158, -0.030994946137070656, -0.027189459651708603, -0.054976630955934525, 0.012705855071544647, 0.02808898501098156, -0.00509433401748538, 0.008556460961699486, 0.0036351371090859175, -0.024538015946745872, -0.001273494795896113, 0.010431505739688873, 0.04985630512237549, 0.0037197801284492016, 0.003647706937044859, -0.008021282032132149, -0.03083447739481926, -0.027050988748669624, 0.015500739216804504, -0.0022221857216209173, -0.032252997159957886, 0.03401588276028633, -0.0043348828330636024, 0.014991676434874535, 0.007878360338509083, -0.007178839296102524, 0.0038893618620932102, -0.007761224638670683, 0.009526883251965046, 0.010052477940917015, 0.0220712348818779, -0.03309425711631775, 0.005780772306025028, 0.008852985687553883, -0.01593731716275215, -0.012756334617733955, -0.025552483275532722, -0.032700855284929276, -0.01118331216275692, 0.001504208194091916, -0.027163110673427582, -0.027312075719237328, 0.013974389061331749, 0.015637628734111786, 0.007406942080706358, -0.00033353158505633473, -3.812079012277536e-05, -0.021805914118885994, -0.013580036349594593, -0.02210567705333233, 0.004538912791758776, -0.040600478649139404, -0.008262750692665577, -4.3323470890754834e-05, 0.013812883757054806, 0.040001280605793, -0.015048646368086338, -0.009583673439919949, -0.017204593867063522, 0.0020110795740038157, 0.01932634226977825, 0.005553500726819038, -0.05315225571393967, -0.026753384619951248, -0.0025980689097195864, 0.029188180342316628, 0.01329967100173235, -0.02622578851878643, -0.0070781828835606575, -0.01219571940600872, -0.010369823314249516, -0.030285010114312172, -0.028411660343408585, -0.015064935199916363, 0.004712267313152552, 0.001603981596417725, 0.008867220021784306, 0.02099205181002617, -0.033983729779720306, 0.012860799208283424, -0.03806639462709427, 0.0187341570854187, -0.008037423714995384, 0.012169480323791504, -0.006651152390986681, 0.017477817833423615, 0.0059408945962786674, -0.026932183653116226, 0.008623993955552578, 0.017361002042889595, 0.03517161309719086, -0.03666607663035393, 0.01737489178776741, 0.009533773176372051, -0.006836556363850832, 0.005319897085428238, -0.00556068355217576, -0.0008460066746920347, -0.02074718475341797, -0.000930182752199471, 0.02337759919464588, -0.0001397335872752592, -0.01940072514116764, 0.01006653718650341, 0.01965666003525257, -0.021782340481877327, 0.011880064383149147, 0.03248951956629753, -0.012787234969437122, -0.02674715779721737, 0.0373973622918129, -0.009596986696124077, -0.018995191901922226, 0.008144001476466656, 0.009314213879406452, 0.02113598957657814, 0.001461306819692254, 0.046675484627485275, 0.014076014049351215, -0.0019570523872971535, -0.009059594012796879, 0.009965792298316956, -0.006004642229527235, 0.012381620705127716, 0.008040823973715305, 0.041529715061187744, -0.0030041029676795006, 0.020373916253447533, 0.007779409643262625, 0.052668359130620956, 0.035218868404626846, 0.007861495949327946, -0.025500904768705368, -0.0022994258906692266, 0.005263953935354948, 0.016318224370479584, -0.027731217443943024, 0.017789827659726143, 0.01663137413561344, -0.060690317302942276, -0.02716606669127941, 0.043179888278245926, -0.041687436401844025, -0.028567489236593246, 0.04458693787455559, 0.00482188630849123, 0.012782764621078968, 0.016813091933727264, 0.029670756310224533, -0.011374427936971188, -0.007732257712632418, -0.007622986100614071, -0.023816820234060287, -0.013788723386824131, 0.02451157756149769, -0.015682192519307137, 0.04175358638167381, 0.009971525520086288, -0.007726030424237251, -0.0362832136452198, -0.003390634199604392, -0.0007889604312367737, -0.015725163742899895, -0.09238313138484955, 0.002268427750095725, 0.010996226221323013, -0.015904787927865982, -0.010973437689244747, 0.008960030041635036, -0.0020849702414125204, 0.006722656544297934, 0.023551195859909058, -0.013558026403188705, 0.01697475276887417, 0.04772616922855377, 0.006256663240492344, 0.02493276633322239, 0.005057073663920164, -0.028411347419023514, -0.01591002568602562, -0.004359173588454723, -0.008219181559979916, 0.025211714208126068, -0.0018486087210476398, 0.01721637323498726, -0.004863415844738483, -0.0068800244480371475, -0.029866095632314682, -0.00018564162019174546, -0.01373414695262909, 0.02080654352903366, -0.0066992053762078285, -0.005972554441541433, -0.026363860815763474, 0.028684942051768303, 0.01969950459897518, -0.011004334315657616, 0.03247430920600891, 0.013516981154680252, 0.00023272940597962588, 0.03145934268832207, -0.019785357639193535, -0.0014066463336348534, 0.03709954395890236, 0.024650191888213158, 0.027961326763033867, 0.0019415877759456635, -0.025182249024510384, -0.01922251284122467, 0.049080800265073776, 0.00445567537099123, -0.05427391082048416, 0.011218657717108727, 0.004721847828477621, 0.07796750962734222, 0.05371198058128357, 0.006681105121970177, -0.0016419951571151614, 0.00033072041696868837, -0.00548926368355751, 0.017582286149263382, -0.006912850309163332, 0.002120723482221365, -0.026329921558499336, -0.02331557497382164, -0.031072303652763367, 0.006915009114891291, 0.0021926481276750565, 0.030090635642409325, -0.0017199058784171939, 0.00251564709469676, -0.014404281973838806, 0.02335355430841446, 0.005362614057958126, 0.009264115244150162, 0.018494367599487305, 0.022787485271692276, -0.049806661903858185, -0.015806609764695168, -0.008031880483031273, -0.0304921455681324, -0.026433859020471573, 0.014900458045303822, 0.02215946465730667, -0.0219600647687912, 0.004204440861940384, -0.001224544015713036, -0.04106111079454422, 0.036494992673397064, -0.006591386161744595, -0.035616327077150345, -0.01854049041867256, 0.01507068146020174, 0.0029962537810206413, 0.012486658990383148, -0.008726098574697971, 0.0008858778746798635, -0.0173801276832819, 0.015467921271920204, -0.002923578955233097, 0.001082222443073988, 0.01519871037453413, 0.0009426661999896169, 0.0008783673983998597, 0.014582494273781776, -0.04622054100036621, 0.0041966610588133335, -0.06248846277594566, 0.006212015636265278, -0.013692107982933521, 0.013074046932160854, -0.055901143699884415, -0.03993532434105873, -0.011754718609154224, 0.00019610754679888487, 0.03138287365436554, 0.002346451859921217, 0.01517536398023367, -0.004860586952418089, 0.007651180494576693, -0.031852155923843384, 0.028700951486825943, 0.04781493917107582, 0.02851112373173237, 0.031358249485492706, 0.016559839248657227, 0.03122597746551037, 0.015803568065166473, -0.0061421506106853485, -0.029444152489304543, 0.030178356915712357, 0.005102870520204306, -0.01991385780274868, -0.027201535180211067, -0.08713197708129883, 0.01955018751323223, -0.006056057754904032, -0.003267838153988123, 0.006049611605703831, 0.01249033771455288, -0.006792809814214706, 0.01281727384775877, 0.002773065585643053, -0.04464299976825714, -0.04008862376213074, -0.026277396827936172, 0.01703987829387188, 0.008042328990995884, -0.01605832949280739, 0.0033183449413627386, -0.03250184282660484, -0.008664412423968315, 0.020433038473129272, -0.029632657766342163, -0.012580030597746372, -0.009400413371622562, -0.0023905965499579906, -0.03461737185716629, 0.010807106271386147, 0.048538632690906525, -0.037565816193819046, 0.004755147732794285, 0.001990889897570014, 0.029902348294854164, -0.00652671093121171, -0.011006678454577923, -0.0036994987167418003, -0.0017085125437006354, 0.03990655392408371, -0.0053939251229166985, 0.008610385470092297, -0.01388477347791195, 0.0067172241397202015, 0.008847500197589397, -0.010198243893682957, -0.036768730729818344, -0.036263607442379, -0.02800750732421875, 0.010154170915484428, -0.032359350472688675, -0.005473352503031492, -0.01860653981566429, -0.00817121658474207, -0.0024137538857758045, 0.042723964899778366, 0.006651460658758879, -0.01251285057514906, 0.023592296987771988, 0.0027143070474267006, -0.04557420313358307, 0.0460205152630806, -0.014372670091688633, 0.006879700347781181, -0.016210192814469337, -0.0024567958898842335, -0.006316146347671747, -0.018463939428329468, -0.03401915729045868, -0.022617166861891747, -0.020535025745630264, 0.03312969207763672, 0.027696894481778145, 0.013611149974167347, 0.0015688110142946243, 0.009939840994775295, 0.01690811477601528, -0.03533713519573212, 0.004442873876541853, -0.0173968318849802, -0.01561751775443554, 0.019940629601478577, 0.011627224273979664, -0.018885580822825432, 0.020100779831409454, -0.04242108017206192, 0.007627191953361034, 0.038406822830438614, -0.03756203129887581, -0.03380078077316284, -0.017505720257759094, 0.013286979869008064, -0.006280751433223486, 0.013432148844003677, -0.015514629893004894, -0.0145154083147645, 0.021897433325648308, -0.0005859769298695028, 0.0037907727528363466, -0.007720635272562504, -0.011348550207912922, -0.00267379661090672, -0.06640879809856415, 0.016605012118816376, 0.019827449694275856, 0.008418558165431023, 0.008792083710432053, -0.02816413901746273, 0.05484407767653465, 0.00518433004617691, 0.014751128852367401, 0.015221920795738697, -0.04572759568691254, 0.012341397814452648, 0.011394830420613289, -0.021356819197535515, 0.022733138874173164, -0.016334643587470055, -0.011067966930568218, -0.02935880981385708, 0.014847672544419765, -0.6270695924758911, -0.015017942525446415, 0.0012741201790049672, 0.0010293531231582165, 0.03876321390271187, -0.001232509850524366, 0.008923768065869808, -0.045447420328855515, -0.01567765325307846, -0.01549491472542286, -0.020332209765911102, 0.036381494253873825, 0.017748668789863586, -0.01840931922197342, 0.007402695249766111, -0.02022741734981537, -0.049502499401569366, -0.043938688933849335, -0.028259018436074257, -0.0035860335920006037, 0.01859276369214058, -0.029356995597481728, -0.030002154409885406, -0.00825138296931982, 0.03852267935872078, -0.023372311145067215, 0.030125591903924942, 0.019638901576399803, -0.005472477059811354, 0.013330481015145779, -0.017684880644083023, -0.02137812040746212, -0.006854555103927851, 0.022968212142586708, -0.004296078812330961, -0.02129508927464485, 0.02063879556953907, -0.016308771446347237, 0.016163041815161705, -0.02475590817630291, 0.012556692585349083, -0.005635510198771954, -0.013684161938726902, 0.019425969570875168, -0.014791876077651978, 0.006620196625590324, 0.034896120429039, -0.004859971348196268, -0.017962027341127396, 0.030112139880657196, 0.06068743020296097, 0.10800972580909729, 0.01097893062978983, 0.011182249523699284, -0.027326740324497223, -0.04593038186430931, 0.015706585720181465, -0.029081402346491814, 0.040956396609544754, -0.005901622120290995, 0.01410856656730175, 0.013784622773528099, -0.006542543414980173, -0.015980679541826248, 0.006379874888807535, -0.00023956545919645578, -0.03887404501438141, -0.003241261700168252, 0.05884964391589165, -0.012227866798639297, -0.011645660735666752, -0.018215492367744446, -0.007243762724101543, -0.018960535526275635, 0.017526965588331223, 0.03392130881547928, 0.015722347423434258, -0.0013685266021639109, -0.06478776782751083, 0.022337790578603745, -0.0049928827211260796, -0.019730094820261]}, 'status': 'COMPLETED'}\n"
     ]
    }
   ],
   "source": [
    "import requests, os\n",
    "\n",
    "url = 'https://api.runpod.ai/v2/jp223n8tzrt271/runsync'\n",
    "# url = 'http://localhost:8000/runsync'\n",
    "headers = {\n",
    "    'accept': 'application/json',\n",
    "    'authorization': os.getenv(\"RUNPOD_API_KEY_SHARED\"),\n",
    "    'Content-Type': 'application/json'\n",
    "}\n",
    "data = {\n",
    "    \"input\": {\"sentences\": \"kek\"}\n",
    "}\n",
    "\n",
    "response = requests.post(url, headers=headers, json=data)\n",
    "\n",
    "print(response.status_code)\n",
    "print(response.json())"
   ]
  },
  {
   "cell_type": "code",
   "execution_count": 18,
   "metadata": {},
   "outputs": [
    {
     "data": {
      "text/plain": [
       "1024"
      ]
     },
     "execution_count": 18,
     "metadata": {},
     "output_type": "execute_result"
    }
   ],
   "source": [
    "len(response.json()['output']['embeddings'])\n"
   ]
  },
  {
   "cell_type": "code",
   "execution_count": 28,
   "metadata": {},
   "outputs": [
    {
     "data": {
      "text/plain": [
       "'AY7J6E6CATVNBIHA6IOQBG9V80X9BZR5LSQEID6D'"
      ]
     },
     "execution_count": 28,
     "metadata": {},
     "output_type": "execute_result"
    }
   ],
   "source": [
    "os.getenv(\"RUNPOD_API_KEY_SHARED\")"
   ]
  }
 ],
 "metadata": {
  "kernelspec": {
   "display_name": "main",
   "language": "python",
   "name": "python3"
  },
  "language_info": {
   "codemirror_mode": {
    "name": "ipython",
    "version": 3
   },
   "file_extension": ".py",
   "mimetype": "text/x-python",
   "name": "python",
   "nbconvert_exporter": "python",
   "pygments_lexer": "ipython3",
   "version": "3.11.8"
  },
  "orig_nbformat": 4
 },
 "nbformat": 4,
 "nbformat_minor": 2
}
