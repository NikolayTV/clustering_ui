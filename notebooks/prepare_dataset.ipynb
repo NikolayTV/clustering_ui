{
 "cells": [
  {
   "cell_type": "code",
   "execution_count": 3,
   "metadata": {},
   "outputs": [
    {
     "name": "stderr",
     "output_type": "stream",
     "text": [
      "/var/folders/fh/jpzybjhs0nq0265pm39s6kf80000gn/T/ipykernel_44282/3432076818.py:19: FutureWarning: use_inf_as_na option is deprecated and will be removed in a future version. Convert inf values to NaN before operating instead.\n",
      "  pd.set_option('use_inf_as_na', True)\n"
     ]
    }
   ],
   "source": [
    "%config Completer.use_jedi = False\n",
    "%load_ext autoreload\n",
    "%autoreload 2\n",
    "import sys\n",
    "sys.path.append('../')\n",
    "import pandas as pd\n",
    "from tqdm.notebook import tqdm\n",
    "# import torch \n",
    "import json\n",
    "from pprint import pprint\n",
    "from concurrent.futures import ProcessPoolExecutor\n",
    "import gc\n",
    "import re\n",
    "import string \n",
    "import numpy as np \n",
    "import os\n",
    "import h5py\n",
    "\n",
    "pd.set_option('use_inf_as_na', True)\n",
    "pd.set_option('display.max_rows', 500)\n",
    "pd.set_option('display.max_columns', 500)\n",
    "pd.set_option('display.width', 1000)\n",
    "pd.set_option('display.max_colwidth', 500)\n",
    "# torch.__version__"
   ]
  },
  {
   "cell_type": "code",
   "execution_count": 2,
   "metadata": {},
   "outputs": [],
   "source": [
    "# !pip install pydrive\n",
    "# !pip install --upgrade google-api-python-client oauth2client\n",
    "\n",
    "# get clients_secret.json from google credentials in google console\n",
    "\n",
    "\n",
    "# DOWNLOAD FILE\n",
    "# file_id = 'your_file_id_here'  # Replace with your file ID\n",
    "# downloaded = drive.CreateFile({'id': file_id})\n",
    "# downloaded.GetContentFile('filename.txt')\n",
    "# Upload a File:\n",
    "\n",
    "# UPLOAD FILE\n",
    "# upload_file = drive.CreateFile({'title': 'new_file.txt'})\n",
    "# upload_file.SetContentFile('local_file.txt')\n",
    "# upload_file.Upload()"
   ]
  },
  {
   "cell_type": "code",
   "execution_count": 4,
   "metadata": {},
   "outputs": [
    {
     "name": "stdout",
     "output_type": "stream",
     "text": [
      "Your browser has been opened to visit:\n",
      "\n",
      "    https://accounts.google.com/o/oauth2/auth?client_id=545847063411-p8bi7qrhiumhntq5sm9equtv1naohj4j.apps.googleusercontent.com&redirect_uri=http%3A%2F%2Flocalhost%3A8080%2F&scope=https%3A%2F%2Fwww.googleapis.com%2Fauth%2Fdrive&access_type=offline&response_type=code\n",
      "\n",
      "Authentication successful.\n"
     ]
    }
   ],
   "source": [
    "from pydrive.auth import GoogleAuth\n",
    "from pydrive.drive import GoogleDrive\n",
    "from oauth2client.client import GoogleCredentials\n",
    "\n",
    "# Authenticate and create the PyDrive client.\n",
    "gauth = GoogleAuth()\n",
    "gauth.LoadClientConfigFile(\"datatraxer_gdrive_secret.json\")\n",
    "gauth.LocalWebserverAuth()  # Creates local webserver and automatically handles authentication.\n",
    "\n",
    "drive = GoogleDrive(gauth)"
   ]
  },
  {
   "cell_type": "markdown",
   "metadata": {},
   "source": [
    "# download from gdrive"
   ]
  },
  {
   "cell_type": "code",
   "execution_count": 5,
   "metadata": {},
   "outputs": [
    {
     "name": "stdout",
     "output_type": "stream",
     "text": [
      "March-2024.xlsx - SUCCESS\n",
      "February-2-half-2024.xlsx - SUCCESS\n",
      "February-1-half-2024.xlsx - SUCCESS\n",
      "January-2-half-2024.xlsx - SUCCESS\n",
      "January-1-half-2024.xlsx - SUCCESS\n",
      "December-2023.xlsx - SUCCESS\n",
      "November-2023.xlsx - SUCCESS\n",
      "October-2023.xlsx - SUCCESS\n",
      "September-2023.xlsx - SUCCESS\n",
      "August-2023.xlsx - SUCCESS\n",
      "July-2023.xlsx - SUCCESS\n"
     ]
    }
   ],
   "source": [
    "folder_id = '1kMfakNU9WtKVXaJ2X26nO8jdHthe_a0D'  # Replace with your folder ID\n",
    "file_list = drive.ListFile({'q': f\"'{folder_id}' in parents and trashed=false\"}).GetList()\n",
    "for file in file_list:\n",
    "    # print(f\"title: {file[\"title\"]}, id: {file['id']}\")\n",
    "    try:\n",
    "        downloaded = drive.CreateFile({'id': file['id']})\n",
    "        downloaded.GetContentFile(f'data_raw/{file[\"title\"]}')\n",
    "        print(f'{file[\"title\"]} - SUCCESS')\n",
    "    except:\n",
    "        print(f'{file[\"title\"]} - FAIL')\n",
    "        "
   ]
  },
  {
   "cell_type": "code",
   "execution_count": 11,
   "metadata": {},
   "outputs": [
    {
     "ename": "KeyboardInterrupt",
     "evalue": "",
     "output_type": "error",
     "traceback": [
      "\u001b[0;31m---------------------------------------------------------------------------\u001b[0m",
      "\u001b[0;31mKeyboardInterrupt\u001b[0m                         Traceback (most recent call last)",
      "Cell \u001b[0;32mIn[11], line 101\u001b[0m\n\u001b[1;32m     99\u001b[0m \u001b[38;5;28;01mfor\u001b[39;00m file_name \u001b[38;5;129;01min\u001b[39;00m files:\n\u001b[1;32m    100\u001b[0m     \u001b[38;5;28;01mtry\u001b[39;00m:\n\u001b[0;32m--> 101\u001b[0m         ori_df \u001b[38;5;241m=\u001b[39m \u001b[43mpd\u001b[49m\u001b[38;5;241;43m.\u001b[39;49m\u001b[43mread_excel\u001b[49m\u001b[43m(\u001b[49m\u001b[38;5;124;43mf\u001b[39;49m\u001b[38;5;124;43m'\u001b[39;49m\u001b[38;5;124;43mdata_raw/\u001b[39;49m\u001b[38;5;132;43;01m{\u001b[39;49;00m\u001b[43mfile_name\u001b[49m\u001b[38;5;132;43;01m}\u001b[39;49;00m\u001b[38;5;124;43m'\u001b[39;49m\u001b[43m)\u001b[49m\n\u001b[1;32m    102\u001b[0m         ori_df \u001b[38;5;241m=\u001b[39m filter_data(ori_df, columns_to_load)\n\u001b[1;32m    103\u001b[0m         ori_df \u001b[38;5;241m=\u001b[39m clean_data(ori_df)\n",
      "File \u001b[0;32m/workspace/.venv/lib/python3.10/site-packages/pandas/io/excel/_base.py:495\u001b[0m, in \u001b[0;36mread_excel\u001b[0;34m(io, sheet_name, header, names, index_col, usecols, dtype, engine, converters, true_values, false_values, skiprows, nrows, na_values, keep_default_na, na_filter, verbose, parse_dates, date_parser, date_format, thousands, decimal, comment, skipfooter, storage_options, dtype_backend, engine_kwargs)\u001b[0m\n\u001b[1;32m    493\u001b[0m \u001b[38;5;28;01mif\u001b[39;00m \u001b[38;5;129;01mnot\u001b[39;00m \u001b[38;5;28misinstance\u001b[39m(io, ExcelFile):\n\u001b[1;32m    494\u001b[0m     should_close \u001b[38;5;241m=\u001b[39m \u001b[38;5;28;01mTrue\u001b[39;00m\n\u001b[0;32m--> 495\u001b[0m     io \u001b[38;5;241m=\u001b[39m \u001b[43mExcelFile\u001b[49m\u001b[43m(\u001b[49m\n\u001b[1;32m    496\u001b[0m \u001b[43m        \u001b[49m\u001b[43mio\u001b[49m\u001b[43m,\u001b[49m\n\u001b[1;32m    497\u001b[0m \u001b[43m        \u001b[49m\u001b[43mstorage_options\u001b[49m\u001b[38;5;241;43m=\u001b[39;49m\u001b[43mstorage_options\u001b[49m\u001b[43m,\u001b[49m\n\u001b[1;32m    498\u001b[0m \u001b[43m        \u001b[49m\u001b[43mengine\u001b[49m\u001b[38;5;241;43m=\u001b[39;49m\u001b[43mengine\u001b[49m\u001b[43m,\u001b[49m\n\u001b[1;32m    499\u001b[0m \u001b[43m        \u001b[49m\u001b[43mengine_kwargs\u001b[49m\u001b[38;5;241;43m=\u001b[39;49m\u001b[43mengine_kwargs\u001b[49m\u001b[43m,\u001b[49m\n\u001b[1;32m    500\u001b[0m \u001b[43m    \u001b[49m\u001b[43m)\u001b[49m\n\u001b[1;32m    501\u001b[0m \u001b[38;5;28;01melif\u001b[39;00m engine \u001b[38;5;129;01mand\u001b[39;00m engine \u001b[38;5;241m!=\u001b[39m io\u001b[38;5;241m.\u001b[39mengine:\n\u001b[1;32m    502\u001b[0m     \u001b[38;5;28;01mraise\u001b[39;00m \u001b[38;5;167;01mValueError\u001b[39;00m(\n\u001b[1;32m    503\u001b[0m         \u001b[38;5;124m\"\u001b[39m\u001b[38;5;124mEngine should not be specified when passing \u001b[39m\u001b[38;5;124m\"\u001b[39m\n\u001b[1;32m    504\u001b[0m         \u001b[38;5;124m\"\u001b[39m\u001b[38;5;124man ExcelFile - ExcelFile already has the engine set\u001b[39m\u001b[38;5;124m\"\u001b[39m\n\u001b[1;32m    505\u001b[0m     )\n",
      "File \u001b[0;32m/workspace/.venv/lib/python3.10/site-packages/pandas/io/excel/_base.py:1567\u001b[0m, in \u001b[0;36mExcelFile.__init__\u001b[0;34m(self, path_or_buffer, engine, storage_options, engine_kwargs)\u001b[0m\n\u001b[1;32m   1564\u001b[0m \u001b[38;5;28mself\u001b[39m\u001b[38;5;241m.\u001b[39mengine \u001b[38;5;241m=\u001b[39m engine\n\u001b[1;32m   1565\u001b[0m \u001b[38;5;28mself\u001b[39m\u001b[38;5;241m.\u001b[39mstorage_options \u001b[38;5;241m=\u001b[39m storage_options\n\u001b[0;32m-> 1567\u001b[0m \u001b[38;5;28mself\u001b[39m\u001b[38;5;241m.\u001b[39m_reader \u001b[38;5;241m=\u001b[39m \u001b[38;5;28;43mself\u001b[39;49m\u001b[38;5;241;43m.\u001b[39;49m\u001b[43m_engines\u001b[49m\u001b[43m[\u001b[49m\u001b[43mengine\u001b[49m\u001b[43m]\u001b[49m\u001b[43m(\u001b[49m\n\u001b[1;32m   1568\u001b[0m \u001b[43m    \u001b[49m\u001b[38;5;28;43mself\u001b[39;49m\u001b[38;5;241;43m.\u001b[39;49m\u001b[43m_io\u001b[49m\u001b[43m,\u001b[49m\n\u001b[1;32m   1569\u001b[0m \u001b[43m    \u001b[49m\u001b[43mstorage_options\u001b[49m\u001b[38;5;241;43m=\u001b[39;49m\u001b[43mstorage_options\u001b[49m\u001b[43m,\u001b[49m\n\u001b[1;32m   1570\u001b[0m \u001b[43m    \u001b[49m\u001b[43mengine_kwargs\u001b[49m\u001b[38;5;241;43m=\u001b[39;49m\u001b[43mengine_kwargs\u001b[49m\u001b[43m,\u001b[49m\n\u001b[1;32m   1571\u001b[0m \u001b[43m\u001b[49m\u001b[43m)\u001b[49m\n",
      "File \u001b[0;32m/workspace/.venv/lib/python3.10/site-packages/pandas/io/excel/_openpyxl.py:553\u001b[0m, in \u001b[0;36mOpenpyxlReader.__init__\u001b[0;34m(self, filepath_or_buffer, storage_options, engine_kwargs)\u001b[0m\n\u001b[1;32m    541\u001b[0m \u001b[38;5;250m\u001b[39m\u001b[38;5;124;03m\"\"\"\u001b[39;00m\n\u001b[1;32m    542\u001b[0m \u001b[38;5;124;03mReader using openpyxl engine.\u001b[39;00m\n\u001b[1;32m    543\u001b[0m \n\u001b[0;32m   (...)\u001b[0m\n\u001b[1;32m    550\u001b[0m \u001b[38;5;124;03m    Arbitrary keyword arguments passed to excel engine.\u001b[39;00m\n\u001b[1;32m    551\u001b[0m \u001b[38;5;124;03m\"\"\"\u001b[39;00m\n\u001b[1;32m    552\u001b[0m import_optional_dependency(\u001b[38;5;124m\"\u001b[39m\u001b[38;5;124mopenpyxl\u001b[39m\u001b[38;5;124m\"\u001b[39m)\n\u001b[0;32m--> 553\u001b[0m \u001b[38;5;28;43msuper\u001b[39;49m\u001b[43m(\u001b[49m\u001b[43m)\u001b[49m\u001b[38;5;241;43m.\u001b[39;49m\u001b[38;5;21;43m__init__\u001b[39;49m\u001b[43m(\u001b[49m\n\u001b[1;32m    554\u001b[0m \u001b[43m    \u001b[49m\u001b[43mfilepath_or_buffer\u001b[49m\u001b[43m,\u001b[49m\n\u001b[1;32m    555\u001b[0m \u001b[43m    \u001b[49m\u001b[43mstorage_options\u001b[49m\u001b[38;5;241;43m=\u001b[39;49m\u001b[43mstorage_options\u001b[49m\u001b[43m,\u001b[49m\n\u001b[1;32m    556\u001b[0m \u001b[43m    \u001b[49m\u001b[43mengine_kwargs\u001b[49m\u001b[38;5;241;43m=\u001b[39;49m\u001b[43mengine_kwargs\u001b[49m\u001b[43m,\u001b[49m\n\u001b[1;32m    557\u001b[0m \u001b[43m\u001b[49m\u001b[43m)\u001b[49m\n",
      "File \u001b[0;32m/workspace/.venv/lib/python3.10/site-packages/pandas/io/excel/_base.py:573\u001b[0m, in \u001b[0;36mBaseExcelReader.__init__\u001b[0;34m(self, filepath_or_buffer, storage_options, engine_kwargs)\u001b[0m\n\u001b[1;32m    571\u001b[0m \u001b[38;5;28mself\u001b[39m\u001b[38;5;241m.\u001b[39mhandles\u001b[38;5;241m.\u001b[39mhandle\u001b[38;5;241m.\u001b[39mseek(\u001b[38;5;241m0\u001b[39m)\n\u001b[1;32m    572\u001b[0m \u001b[38;5;28;01mtry\u001b[39;00m:\n\u001b[0;32m--> 573\u001b[0m     \u001b[38;5;28mself\u001b[39m\u001b[38;5;241m.\u001b[39mbook \u001b[38;5;241m=\u001b[39m \u001b[38;5;28;43mself\u001b[39;49m\u001b[38;5;241;43m.\u001b[39;49m\u001b[43mload_workbook\u001b[49m\u001b[43m(\u001b[49m\u001b[38;5;28;43mself\u001b[39;49m\u001b[38;5;241;43m.\u001b[39;49m\u001b[43mhandles\u001b[49m\u001b[38;5;241;43m.\u001b[39;49m\u001b[43mhandle\u001b[49m\u001b[43m,\u001b[49m\u001b[43m \u001b[49m\u001b[43mengine_kwargs\u001b[49m\u001b[43m)\u001b[49m\n\u001b[1;32m    574\u001b[0m \u001b[38;5;28;01mexcept\u001b[39;00m \u001b[38;5;167;01mException\u001b[39;00m:\n\u001b[1;32m    575\u001b[0m     \u001b[38;5;28mself\u001b[39m\u001b[38;5;241m.\u001b[39mclose()\n",
      "File \u001b[0;32m/workspace/.venv/lib/python3.10/site-packages/pandas/io/excel/_openpyxl.py:572\u001b[0m, in \u001b[0;36mOpenpyxlReader.load_workbook\u001b[0;34m(self, filepath_or_buffer, engine_kwargs)\u001b[0m\n\u001b[1;32m    568\u001b[0m \u001b[38;5;28;01mfrom\u001b[39;00m \u001b[38;5;21;01mopenpyxl\u001b[39;00m \u001b[38;5;28;01mimport\u001b[39;00m load_workbook\n\u001b[1;32m    570\u001b[0m default_kwargs \u001b[38;5;241m=\u001b[39m {\u001b[38;5;124m\"\u001b[39m\u001b[38;5;124mread_only\u001b[39m\u001b[38;5;124m\"\u001b[39m: \u001b[38;5;28;01mTrue\u001b[39;00m, \u001b[38;5;124m\"\u001b[39m\u001b[38;5;124mdata_only\u001b[39m\u001b[38;5;124m\"\u001b[39m: \u001b[38;5;28;01mTrue\u001b[39;00m, \u001b[38;5;124m\"\u001b[39m\u001b[38;5;124mkeep_links\u001b[39m\u001b[38;5;124m\"\u001b[39m: \u001b[38;5;28;01mFalse\u001b[39;00m}\n\u001b[0;32m--> 572\u001b[0m \u001b[38;5;28;01mreturn\u001b[39;00m \u001b[43mload_workbook\u001b[49m\u001b[43m(\u001b[49m\n\u001b[1;32m    573\u001b[0m \u001b[43m    \u001b[49m\u001b[43mfilepath_or_buffer\u001b[49m\u001b[43m,\u001b[49m\n\u001b[1;32m    574\u001b[0m \u001b[43m    \u001b[49m\u001b[38;5;241;43m*\u001b[39;49m\u001b[38;5;241;43m*\u001b[39;49m\u001b[43m(\u001b[49m\u001b[43mdefault_kwargs\u001b[49m\u001b[43m \u001b[49m\u001b[38;5;241;43m|\u001b[39;49m\u001b[43m \u001b[49m\u001b[43mengine_kwargs\u001b[49m\u001b[43m)\u001b[49m\u001b[43m,\u001b[49m\n\u001b[1;32m    575\u001b[0m \u001b[43m\u001b[49m\u001b[43m)\u001b[49m\n",
      "File \u001b[0;32m/workspace/.venv/lib/python3.10/site-packages/openpyxl/reader/excel.py:346\u001b[0m, in \u001b[0;36mload_workbook\u001b[0;34m(filename, read_only, keep_vba, data_only, keep_links, rich_text)\u001b[0m\n\u001b[1;32m    316\u001b[0m \u001b[38;5;250m\u001b[39m\u001b[38;5;124;03m\"\"\"Open the given filename and return the workbook\u001b[39;00m\n\u001b[1;32m    317\u001b[0m \n\u001b[1;32m    318\u001b[0m \u001b[38;5;124;03m:param filename: the path to open or a file-like object\u001b[39;00m\n\u001b[0;32m   (...)\u001b[0m\n\u001b[1;32m    342\u001b[0m \n\u001b[1;32m    343\u001b[0m \u001b[38;5;124;03m\"\"\"\u001b[39;00m\n\u001b[1;32m    344\u001b[0m reader \u001b[38;5;241m=\u001b[39m ExcelReader(filename, read_only, keep_vba,\n\u001b[1;32m    345\u001b[0m                      data_only, keep_links, rich_text)\n\u001b[0;32m--> 346\u001b[0m \u001b[43mreader\u001b[49m\u001b[38;5;241;43m.\u001b[39;49m\u001b[43mread\u001b[49m\u001b[43m(\u001b[49m\u001b[43m)\u001b[49m\n\u001b[1;32m    347\u001b[0m \u001b[38;5;28;01mreturn\u001b[39;00m reader\u001b[38;5;241m.\u001b[39mwb\n",
      "File \u001b[0;32m/workspace/.venv/lib/python3.10/site-packages/openpyxl/reader/excel.py:289\u001b[0m, in \u001b[0;36mExcelReader.read\u001b[0;34m(self)\u001b[0m\n\u001b[1;32m    287\u001b[0m \u001b[38;5;28mself\u001b[39m\u001b[38;5;241m.\u001b[39mread_manifest()\n\u001b[1;32m    288\u001b[0m action \u001b[38;5;241m=\u001b[39m \u001b[38;5;124m\"\u001b[39m\u001b[38;5;124mread strings\u001b[39m\u001b[38;5;124m\"\u001b[39m\n\u001b[0;32m--> 289\u001b[0m \u001b[38;5;28;43mself\u001b[39;49m\u001b[38;5;241;43m.\u001b[39;49m\u001b[43mread_strings\u001b[49m\u001b[43m(\u001b[49m\u001b[43m)\u001b[49m\n\u001b[1;32m    290\u001b[0m action \u001b[38;5;241m=\u001b[39m \u001b[38;5;124m\"\u001b[39m\u001b[38;5;124mread workbook\u001b[39m\u001b[38;5;124m\"\u001b[39m\n\u001b[1;32m    291\u001b[0m \u001b[38;5;28mself\u001b[39m\u001b[38;5;241m.\u001b[39mread_workbook()\n",
      "File \u001b[0;32m/workspace/.venv/lib/python3.10/site-packages/openpyxl/reader/excel.py:147\u001b[0m, in \u001b[0;36mExcelReader.read_strings\u001b[0;34m(self)\u001b[0m\n\u001b[1;32m    145\u001b[0m strings_path \u001b[38;5;241m=\u001b[39m ct\u001b[38;5;241m.\u001b[39mPartName[\u001b[38;5;241m1\u001b[39m:]\n\u001b[1;32m    146\u001b[0m \u001b[38;5;28;01mwith\u001b[39;00m \u001b[38;5;28mself\u001b[39m\u001b[38;5;241m.\u001b[39marchive\u001b[38;5;241m.\u001b[39mopen(strings_path,) \u001b[38;5;28;01mas\u001b[39;00m src:\n\u001b[0;32m--> 147\u001b[0m     \u001b[38;5;28mself\u001b[39m\u001b[38;5;241m.\u001b[39mshared_strings \u001b[38;5;241m=\u001b[39m \u001b[43mreader\u001b[49m\u001b[43m(\u001b[49m\u001b[43msrc\u001b[49m\u001b[43m)\u001b[49m\n",
      "File \u001b[0;32m/workspace/.venv/lib/python3.10/site-packages/openpyxl/reader/strings.py:16\u001b[0m, in \u001b[0;36mread_string_table\u001b[0;34m(xml_source)\u001b[0m\n\u001b[1;32m     13\u001b[0m strings \u001b[38;5;241m=\u001b[39m []\n\u001b[1;32m     14\u001b[0m STRING_TAG \u001b[38;5;241m=\u001b[39m \u001b[38;5;124m'\u001b[39m\u001b[38;5;124m{\u001b[39m\u001b[38;5;132;01m%s\u001b[39;00m\u001b[38;5;124m}si\u001b[39m\u001b[38;5;124m'\u001b[39m \u001b[38;5;241m%\u001b[39m SHEET_MAIN_NS\n\u001b[0;32m---> 16\u001b[0m \u001b[38;5;28;01mfor\u001b[39;00m _, node \u001b[38;5;129;01min\u001b[39;00m iterparse(xml_source):\n\u001b[1;32m     17\u001b[0m     \u001b[38;5;28;01mif\u001b[39;00m node\u001b[38;5;241m.\u001b[39mtag \u001b[38;5;241m==\u001b[39m STRING_TAG:\n\u001b[1;32m     18\u001b[0m         text \u001b[38;5;241m=\u001b[39m Text\u001b[38;5;241m.\u001b[39mfrom_tree(node)\u001b[38;5;241m.\u001b[39mcontent\n",
      "File \u001b[0;32m/usr/lib/python3.10/xml/etree/ElementTree.py:1258\u001b[0m, in \u001b[0;36miterparse.<locals>.iterator\u001b[0;34m(source)\u001b[0m\n\u001b[1;32m   1256\u001b[0m     \u001b[38;5;28;01mif\u001b[39;00m \u001b[38;5;129;01mnot\u001b[39;00m data:\n\u001b[1;32m   1257\u001b[0m         \u001b[38;5;28;01mbreak\u001b[39;00m\n\u001b[0;32m-> 1258\u001b[0m     \u001b[43mpullparser\u001b[49m\u001b[38;5;241;43m.\u001b[39;49m\u001b[43mfeed\u001b[49m\u001b[43m(\u001b[49m\u001b[43mdata\u001b[49m\u001b[43m)\u001b[49m\n\u001b[1;32m   1259\u001b[0m root \u001b[38;5;241m=\u001b[39m pullparser\u001b[38;5;241m.\u001b[39m_close_and_return_root()\n\u001b[1;32m   1260\u001b[0m \u001b[38;5;28;01myield from\u001b[39;00m pullparser\u001b[38;5;241m.\u001b[39mread_events()\n",
      "File \u001b[0;32m/usr/lib/python3.10/xml/etree/ElementTree.py:1296\u001b[0m, in \u001b[0;36mXMLPullParser.feed\u001b[0;34m(self, data)\u001b[0m\n\u001b[1;32m   1294\u001b[0m \u001b[38;5;28;01mif\u001b[39;00m data:\n\u001b[1;32m   1295\u001b[0m     \u001b[38;5;28;01mtry\u001b[39;00m:\n\u001b[0;32m-> 1296\u001b[0m         \u001b[38;5;28;43mself\u001b[39;49m\u001b[38;5;241;43m.\u001b[39;49m\u001b[43m_parser\u001b[49m\u001b[38;5;241;43m.\u001b[39;49m\u001b[43mfeed\u001b[49m\u001b[43m(\u001b[49m\u001b[43mdata\u001b[49m\u001b[43m)\u001b[49m\n\u001b[1;32m   1297\u001b[0m     \u001b[38;5;28;01mexcept\u001b[39;00m \u001b[38;5;167;01mSyntaxError\u001b[39;00m \u001b[38;5;28;01mas\u001b[39;00m exc:\n\u001b[1;32m   1298\u001b[0m         \u001b[38;5;28mself\u001b[39m\u001b[38;5;241m.\u001b[39m_events_queue\u001b[38;5;241m.\u001b[39mappend(exc)\n",
      "File \u001b[0;32m/usr/lib/python3.10/xml/etree/ElementTree.py:1713\u001b[0m, in \u001b[0;36mXMLParser.feed\u001b[0;34m(self, data)\u001b[0m\n\u001b[1;32m   1711\u001b[0m \u001b[38;5;250m\u001b[39m\u001b[38;5;124;03m\"\"\"Feed encoded data to parser.\"\"\"\u001b[39;00m\n\u001b[1;32m   1712\u001b[0m \u001b[38;5;28;01mtry\u001b[39;00m:\n\u001b[0;32m-> 1713\u001b[0m     \u001b[38;5;28;43mself\u001b[39;49m\u001b[38;5;241;43m.\u001b[39;49m\u001b[43mparser\u001b[49m\u001b[38;5;241;43m.\u001b[39;49m\u001b[43mParse\u001b[49m\u001b[43m(\u001b[49m\u001b[43mdata\u001b[49m\u001b[43m,\u001b[49m\u001b[43m \u001b[49m\u001b[38;5;28;43;01mFalse\u001b[39;49;00m\u001b[43m)\u001b[49m\n\u001b[1;32m   1714\u001b[0m \u001b[38;5;28;01mexcept\u001b[39;00m \u001b[38;5;28mself\u001b[39m\u001b[38;5;241m.\u001b[39m_error \u001b[38;5;28;01mas\u001b[39;00m v:\n\u001b[1;32m   1715\u001b[0m     \u001b[38;5;28mself\u001b[39m\u001b[38;5;241m.\u001b[39m_raiseerror(v)\n",
      "File \u001b[0;32m../Modules/pyexpat.c:416\u001b[0m, in \u001b[0;36mStartElement\u001b[0;34m()\u001b[0m\n",
      "File \u001b[0;32m/usr/lib/python3.10/xml/etree/ElementTree.py:1646\u001b[0m, in \u001b[0;36mXMLParser._start\u001b[0;34m(self, tag, attr_list)\u001b[0m\n\u001b[1;32m   1641\u001b[0m \u001b[38;5;28;01mdef\u001b[39;00m \u001b[38;5;21m_start\u001b[39m(\u001b[38;5;28mself\u001b[39m, tag, attr_list):\n\u001b[1;32m   1642\u001b[0m     \u001b[38;5;66;03m# Handler for expat's StartElementHandler. Since ordered_attributes\u001b[39;00m\n\u001b[1;32m   1643\u001b[0m     \u001b[38;5;66;03m# is set, the attributes are reported as a list of alternating\u001b[39;00m\n\u001b[1;32m   1644\u001b[0m     \u001b[38;5;66;03m# attribute name,value.\u001b[39;00m\n\u001b[1;32m   1645\u001b[0m     fixname \u001b[38;5;241m=\u001b[39m \u001b[38;5;28mself\u001b[39m\u001b[38;5;241m.\u001b[39m_fixname\n\u001b[0;32m-> 1646\u001b[0m     tag \u001b[38;5;241m=\u001b[39m \u001b[43mfixname\u001b[49m\u001b[43m(\u001b[49m\u001b[43mtag\u001b[49m\u001b[43m)\u001b[49m\n\u001b[1;32m   1647\u001b[0m     attrib \u001b[38;5;241m=\u001b[39m {}\n\u001b[1;32m   1648\u001b[0m     \u001b[38;5;28;01mif\u001b[39;00m attr_list:\n",
      "\u001b[0;31mKeyboardInterrupt\u001b[0m: "
     ]
    }
   ],
   "source": [
    "def filter_data(df, columns_to_load):\n",
    "    print('before filter', df.shape)\n",
    "    df = df[columns_to_load]\n",
    "    df = df[df['type'] == 1]\n",
    "    df = df.dropna(subset=['body'])\n",
    "    df = df.sort_values(['userId', 'dateCreate'])\n",
    "    return df\n",
    "\n",
    "def clean_data(df):\n",
    "    df['body'] = df['body'].str.strip()\n",
    "    df['body'] = df['body'].str.replace('\\t', '', regex=False)\n",
    "    df = df.drop_duplicates(subset=['body', 'dateCreate'])\n",
    "    df = df[df['body'].notna()]\n",
    "    df['userId'] = df['userId'].astype(int)\n",
    "    return df\n",
    "\n",
    "def remove_consecutive_duplicates(df):\n",
    "    df = df[df['body'] != df['body'].shift()]\n",
    "    print('after filter', df.shape)\n",
    "    return df\n",
    "\n",
    "def remove_consecutive_persona_messages(df):\n",
    "    df['remove'] = (df['sender'] == 'Persona') & (df['sender'].shift() == 'Persona')\n",
    "    df['remove'] = df['remove'].fillna(False)\n",
    "    df = df[~df['remove']]\n",
    "    df.drop(columns=['remove'], inplace=True)\n",
    "    print('after removing personas in a row', df.shape)\n",
    "    return df\n",
    "\n",
    "def remove_frequent_user_messages(df, topfreq=50):\n",
    "    repeats = df[df['sender'] == 'User']['body'].value_counts()[:topfreq].index.values.tolist()\n",
    "    df = df[~df['body'].isin(repeats)].copy()\n",
    "    print('removed repeats', df.shape)\n",
    "    return df\n",
    "\n",
    "def concatenate_consecutive_user_messages(df):\n",
    "    df['new_group'] = (df['sender'] != df['sender'].shift()) | (df['sender'] != 'User')\n",
    "    df['group_id'] = df['new_group'].cumsum()\n",
    "    df = df.groupby('group_id').agg({\n",
    "        'sender': 'first',\n",
    "        'body': '\\n'.join,\n",
    "        'userId': 'first',\n",
    "        'dateCreate': 'first'\n",
    "    }).reset_index(drop=True)\n",
    "    return df\n",
    "\n",
    "def clean_text(text):\n",
    "    \"\"\"\n",
    "    Removes punctuation, symbols (excluding English and Russian), and extra spaces from text.\n",
    "    \"\"\"\n",
    "    text = text.lower()\n",
    "    # Remove punctuation\n",
    "    text = text.translate(str.maketrans('', '', string.punctuation))\n",
    "\n",
    "    # Remove symbols except English and Russian letters\n",
    "    allowed_chars = string.ascii_letters + 'абвгдеёжзийклмнопрстуфхцчшщъыьэюяАБВГДЕЁЖЗИЙКЛМНОПРСТУФХЦЧШЩЪЫЬЭЮЯ '\n",
    "    text = ''.join(c for c in text if c in allowed_chars)\n",
    "\n",
    "    # Remove extra spaces\n",
    "    text = ' '.join(text.split())\n",
    "\n",
    "    return text\n",
    "\n",
    "def create_paired_df(ori_df):\n",
    "    # Shift the DataFrame to align questions with answers\n",
    "    ori_df['next_sender'] = ori_df['sender'].shift(-1)\n",
    "    ori_df['next_body'] = ori_df['body'].shift(-1)\n",
    "    ori_df['next_dateCreate'] = ori_df['dateCreate'].shift(-1)\n",
    "\n",
    "    # Filter to get only rows where the question is from the User and the next message is from Persona\n",
    "    question_answer_pairs = ori_df[(ori_df['sender'] == 'User') & (ori_df['next_sender'] == 'Persona')]\n",
    "\n",
    "    # Construct the resulting DataFrame or list of dictionaries\n",
    "    result = question_answer_pairs.apply(lambda row: {\n",
    "        'userId': row['userId'],\n",
    "        'question': row['body'],\n",
    "        'answer': row['next_body'],\n",
    "        'dateCreate': row['dateCreate']\n",
    "    }, axis=1).tolist()\n",
    "\n",
    "    # Optional: Convert to a DataFrame\n",
    "    paired_df = pd.DataFrame(result)\n",
    "    return paired_df\n",
    "\n",
    "# Example usage\n",
    "columns_to_load = ['type', 'userId', 'dateCreate', 'body', 'sender']\n",
    "files = [\n",
    " 'March-2024.xlsx',\n",
    " 'February-2-half-2024.xlsx',\n",
    " 'February-1-half-2024.xlsx',\n",
    " 'January-2-half-2024.xlsx',\n",
    " 'January-1-half-2024.xlsx',\n",
    " 'December-2023.xlsx',\n",
    " 'November-2023.xlsx',\n",
    " 'October-2023.xlsx',\n",
    " 'September-2023.xlsx',\n",
    " 'August-2023.xlsx',\n",
    " 'July-2023.xlsx']\n",
    "for file_name in files:\n",
    "    try:\n",
    "        ori_df = pd.read_excel(f'data_raw/{file_name}')\n",
    "        ori_df = filter_data(ori_df, columns_to_load)\n",
    "        ori_df = clean_data(ori_df)\n",
    "        ori_df = remove_consecutive_duplicates(ori_df)\n",
    "        ori_df = remove_consecutive_persona_messages(ori_df)\n",
    "        ori_df = remove_frequent_user_messages(ori_df, topfreq=50)\n",
    "        ori_df = concatenate_consecutive_user_messages(ori_df)\n",
    "        ori_df['body'] = ori_df['body'].apply(clean_text)\n",
    "        paired_df = create_paired_df(ori_df)\n",
    "        paired_df.to_csv(f'data_paired/{file_name[:-5]}.csv')\n",
    "    except Exception as e:\n",
    "        print(f'Exception: {e}')"
   ]
  },
  {
   "cell_type": "code",
   "execution_count": 8,
   "metadata": {},
   "outputs": [
    {
     "data": {
      "text/html": [
       "<div>\n",
       "<style scoped>\n",
       "    .dataframe tbody tr th:only-of-type {\n",
       "        vertical-align: middle;\n",
       "    }\n",
       "\n",
       "    .dataframe tbody tr th {\n",
       "        vertical-align: top;\n",
       "    }\n",
       "\n",
       "    .dataframe thead th {\n",
       "        text-align: right;\n",
       "    }\n",
       "</style>\n",
       "<table border=\"1\" class=\"dataframe\">\n",
       "  <thead>\n",
       "    <tr style=\"text-align: right;\">\n",
       "      <th></th>\n",
       "      <th>sender</th>\n",
       "      <th>body</th>\n",
       "      <th>userId</th>\n",
       "      <th>dateCreate</th>\n",
       "    </tr>\n",
       "  </thead>\n",
       "  <tbody>\n",
       "    <tr>\n",
       "      <th>0</th>\n",
       "      <td>Persona</td>\n",
       "      <td>ah there you are i was beginning to think youd forgotten about me winks im still here wearing that tight sheer dress and lacy lingerie i sent you a photo of earlier ive been waiting patiently for you to come back and take me in your armswhat do you say shall we pick up where we left off</td>\n",
       "      <td>51</td>\n",
       "      <td>2024-02-01 14:36:16.566505</td>\n",
       "    </tr>\n",
       "    <tr>\n",
       "      <th>1</th>\n",
       "      <td>User</td>\n",
       "      <td>i love your body show me yourself sexy in lingeriesend a photo while masturbating for meopen your pussy more</td>\n",
       "      <td>51</td>\n",
       "      <td>2024-02-03 09:55:08.396081</td>\n",
       "    </tr>\n",
       "    <tr>\n",
       "      <th>2</th>\n",
       "      <td>Persona</td>\n",
       "      <td>oh my im already wet and ready for you baby feel free to explore every inch of me</td>\n",
       "      <td>51</td>\n",
       "      <td>2024-02-03 09:56:57.771462</td>\n",
       "    </tr>\n",
       "    <tr>\n",
       "      <th>3</th>\n",
       "      <td>User</td>\n",
       "      <td>send a photo with open pussyshow me a photo to excite meshow me a photo when you masturbate with a dildoa photo with bob hair skinny body small tits and shaved pussy wearing high heels black pumpssend the same photo showing your mouth full of spermsend the photo with mouth full of spermsend a photo completed fucked by dickssend a photo of you fisted in asssend a photo showing your pussy open and close covered with spermsend a photo of your close up pussy wet and dripping spermsend a photo in...</td>\n",
       "      <td>51</td>\n",
       "      <td>2024-02-03 09:57:29.388757</td>\n",
       "    </tr>\n",
       "    <tr>\n",
       "      <th>4</th>\n",
       "      <td>Persona</td>\n",
       "      <td>hey there i hope youre ready to continue our sexy conversation ive been thinking about you and all the naughty things we could be doing together lets pick up where we left off shall we</td>\n",
       "      <td>51</td>\n",
       "      <td>2024-02-03 15:31:53.417790</td>\n",
       "    </tr>\n",
       "  </tbody>\n",
       "</table>\n",
       "</div>"
      ],
      "text/plain": [
       "    sender                                                                                                                                                                                                                                                                                                                                                                                                                                                                                                                 body  userId                  dateCreate\n",
       "0  Persona                                                                                                                                                                                                                      ah there you are i was beginning to think youd forgotten about me winks im still here wearing that tight sheer dress and lacy lingerie i sent you a photo of earlier ive been waiting patiently for you to come back and take me in your armswhat do you say shall we pick up where we left off      51  2024-02-01 14:36:16.566505\n",
       "1     User                                                                                                                                                                                                                                                                                                                                                                                                         i love your body show me yourself sexy in lingeriesend a photo while masturbating for meopen your pussy more      51  2024-02-03 09:55:08.396081\n",
       "2  Persona                                                                                                                                                                                                                                                                                                                                                                                                                                    oh my im already wet and ready for you baby feel free to explore every inch of me      51  2024-02-03 09:56:57.771462\n",
       "3     User  send a photo with open pussyshow me a photo to excite meshow me a photo when you masturbate with a dildoa photo with bob hair skinny body small tits and shaved pussy wearing high heels black pumpssend the same photo showing your mouth full of spermsend the photo with mouth full of spermsend a photo completed fucked by dickssend a photo of you fisted in asssend a photo showing your pussy open and close covered with spermsend a photo of your close up pussy wet and dripping spermsend a photo in...      51  2024-02-03 09:57:29.388757\n",
       "4  Persona                                                                                                                                                                                                                                                                                                                             hey there i hope youre ready to continue our sexy conversation ive been thinking about you and all the naughty things we could be doing together lets pick up where we left off shall we      51  2024-02-03 15:31:53.417790"
      ]
     },
     "execution_count": 8,
     "metadata": {},
     "output_type": "execute_result"
    }
   ],
   "source": [
    "ori_df[:5]"
   ]
  },
  {
   "cell_type": "markdown",
   "metadata": {},
   "source": [
    "# Create embeddings"
   ]
  },
  {
   "cell_type": "code",
   "execution_count": 16,
   "metadata": {},
   "outputs": [
    {
     "name": "stderr",
     "output_type": "stream",
     "text": [
      "/workspace/.venv/lib/python3.10/site-packages/huggingface_hub/file_download.py:1132: FutureWarning: `resume_download` is deprecated and will be removed in version 1.0.0. Downloads always resume when possible. If you want to force a new download, use `force_download=True`.\n",
      "  warnings.warn(\n",
      "/workspace/.venv/lib/python3.10/site-packages/huggingface_hub/file_download.py:1132: FutureWarning: `resume_download` is deprecated and will be removed in version 1.0.0. Downloads always resume when possible. If you want to force a new download, use `force_download=True`.\n",
      "  warnings.warn(\n"
     ]
    },
    {
     "data": {
      "text/plain": [
       "device(type='cuda', index=0)"
      ]
     },
     "execution_count": 16,
     "metadata": {},
     "output_type": "execute_result"
    }
   ],
   "source": [
    "from sentence_transformers import SentenceTransformer\n",
    "embedding_model = SentenceTransformer('Alibaba-NLP/gte-large-en-v1.5', trust_remote_code=True)\n",
    "embedding_model.max_seq_length=256\n",
    "embedding_model.device"
   ]
  },
  {
   "cell_type": "code",
   "execution_count": 18,
   "metadata": {},
   "outputs": [
    {
     "name": "stderr",
     "output_type": "stream",
     "text": [
      "Processing chunks: 0it [00:00, ?it/s]"
     ]
    },
    {
     "name": "stderr",
     "output_type": "stream",
     "text": [
      "Processing chunks: 1it [00:23, 23.46s/it]"
     ]
    },
    {
     "name": "stdout",
     "output_type": "stream",
     "text": [
      "All chunks processed and saved.\n"
     ]
    },
    {
     "name": "stderr",
     "output_type": "stream",
     "text": [
      "\n"
     ]
    }
   ],
   "source": [
    "import numpy as np\n",
    "import h5py\n",
    "from tqdm import tqdm  # For a progress bar\n",
    "\n",
    "# Define the path where you will store the data\n",
    "data_path = 'data_combined/'\n",
    "\n",
    "# Extract the relevant columns\n",
    "loaded_docs = paired_df['question'].values.tolist()\n",
    "loaded_answers = paired_df['answer'].values.tolist()\n",
    "loaded_dates = paired_df['dateCreate'].values.tolist()\n",
    "\n",
    "# Function to process documents in chunks\n",
    "def process_in_chunks(doc_list, answer_list, date_list, chunk_size=100000):\n",
    "    for i in range(0, len(doc_list), chunk_size):\n",
    "        yield doc_list[i:i + chunk_size], answer_list[i:i + chunk_size], date_list[i:i + chunk_size]\n",
    "\n",
    "# Process documents and save embeddings in chunks\n",
    "for i, (doc_chunk, answer_chunk, date_chunk) in enumerate(tqdm(process_in_chunks(loaded_docs, loaded_answers, loaded_dates), desc=\"Processing chunks\")):\n",
    "    # Create embeddings\n",
    "    loaded_embeddings = embedding_model.encode(doc_chunk, show_progress_bar=True, batch_size=640, normalize_embeddings=True)\n",
    "    loaded_embeddings = loaded_embeddings.round(7)  # to avoid negative distance\n",
    "\n",
    "    # Convert text data to UTF-8 encoded bytes\n",
    "    doc_chunk = [doc.encode('utf-8') for doc in doc_chunk]\n",
    "    answer_chunk = [answer.encode('utf-8') for answer in answer_chunk]\n",
    "    date_chunk = [date.encode('utf-8') for date in date_chunk]\n",
    "\n",
    "    # Save the chunk of data and embeddings in HDF5 format\n",
    "    with h5py.File(f'{data_path}precomputed_data_{i}.h5', 'w') as h5file:\n",
    "        h5file.create_dataset('questions', data=np.array(doc_chunk, dtype='S'), compression=\"gzip\", compression_opts=9)\n",
    "        h5file.create_dataset('answers', data=np.array(answer_chunk, dtype='S'), compression=\"gzip\", compression_opts=9)\n",
    "        h5file.create_dataset('dates', data=np.array(date_chunk, dtype='S'), compression=\"gzip\", compression_opts=9)\n",
    "        h5file.create_dataset('embeddings', data=loaded_embeddings, compression=\"gzip\", compression_opts=9)\n",
    "\n",
    "print(\"All chunks processed and saved.\")\n"
   ]
  },
  {
   "cell_type": "code",
   "execution_count": null,
   "metadata": {},
   "outputs": [],
   "source": []
  },
  {
   "cell_type": "markdown",
   "metadata": {},
   "source": [
    "# LOAD DATA"
   ]
  },
  {
   "cell_type": "code",
   "execution_count": 6,
   "metadata": {},
   "outputs": [
    {
     "name": "stdout",
     "output_type": "stream",
     "text": [
      "DataFrame from file ../saved_data/precomputed_data_0.h5:\n"
     ]
    },
    {
     "data": {
      "text/html": [
       "<div>\n",
       "<style scoped>\n",
       "    .dataframe tbody tr th:only-of-type {\n",
       "        vertical-align: middle;\n",
       "    }\n",
       "\n",
       "    .dataframe tbody tr th {\n",
       "        vertical-align: top;\n",
       "    }\n",
       "\n",
       "    .dataframe thead th {\n",
       "        text-align: right;\n",
       "    }\n",
       "</style>\n",
       "<table border=\"1\" class=\"dataframe\">\n",
       "  <thead>\n",
       "    <tr style=\"text-align: right;\">\n",
       "      <th></th>\n",
       "      <th>questions</th>\n",
       "      <th>answers</th>\n",
       "      <th>dates</th>\n",
       "      <th>embeddings</th>\n",
       "    </tr>\n",
       "  </thead>\n",
       "  <tbody>\n",
       "    <tr>\n",
       "      <th>0</th>\n",
       "      <td>i love your body show me yourself sexy in lingeriesend a photo while masturbating for meopen your pussy more</td>\n",
       "      <td>oh my im already wet and ready for you baby feel free to explore every inch of me</td>\n",
       "      <td>2024-02-03 09:55:08.396081</td>\n",
       "      <td>[-0.0375386, 0.0102309, 0.0262061, -0.0002064, -0.0006992, -0.0470412, 0.0112668, 0.0605629, 0.0240379, 0.0072373, -0.0168495, 0.0069814, -0.0004338, -0.0249209, 0.0231257, -0.0175267, -0.0188197, 0.0201235, 0.0012788, 0.0106697, 0.0104702, -0.0492851, 0.0017994, -0.0048258, 0.0530171, 0.009197, -0.0088786, -0.0100901, -0.0182383, 0.0318727, 0.0094987, -0.0220674, 0.0525215, 0.0198993, 0.0507238, 0.0252187, 0.001319, -0.0009477, 0.0276861, 0.0039948, -0.0159753, -0.0442304, -0.0376472, -0.02...</td>\n",
       "    </tr>\n",
       "    <tr>\n",
       "      <th>1</th>\n",
       "      <td>send a photo with open pussyshow me a photo to excite meshow me a photo when you masturbate with a dildoa photo with bob hair skinny body small tits and shaved pussy wearing high heels black pumpssend the same photo showing your mouth full of spermsend the photo with mouth full of spermsend a photo completed fucked by dickssend a photo of you fisted in asssend a photo showing your pussy open and close covered with spermsend a photo of your close up pussy wet and dripping spermsend a photo in...</td>\n",
       "      <td>hey there i hope youre ready to continue our sexy conversation ive been thinking about you and all the naughty things we could be doing together lets pick up where we left off shall we</td>\n",
       "      <td>2024-02-03 09:57:29.388757</td>\n",
       "      <td>[-0.0215212, 0.0273247, 0.0629921, -0.0134513, -0.0498802, -0.0098037, 0.009134, 0.0325558, 0.0256878, 0.030397, -0.0035405, -0.0053958, 0.0010099, 0.0130254, 0.0272794, 0.0121813, -0.0083477, 0.0392146, 0.0229635, 0.0219825, -0.0320161, -0.0211596, 0.0245917, 0.0044688, 0.0439104, 0.0115484, 0.0065797, -0.0077638, 9.5e-06, 0.0445673, 0.0144533, -0.0293516, 0.0036137, -0.0153449, 0.0335806, 0.0418431, 0.0079083, 0.0387964, 0.0270079, 0.0177329, -0.0038881, -0.0682931, -0.0452508, -0.0171199,...</td>\n",
       "    </tr>\n",
       "    <tr>\n",
       "      <th>2</th>\n",
       "      <td>send me a photo of you sucking dicksend the photo of you touching your nipplessend again the photosend the photo of you touching your nipplessend a photo of you sucking a dicksend a picture of you sucking cocka photo doing a blowjoba photo of you with a cock in mouth and sperm on lipsa photo of you in black sheer lingerie stockings and black high heel pumpssend a horny photo of yousend me a horny photosend a horny photo of yousend a photo in sexy classy dresssend a photo in a classy dresssen...</td>\n",
       "      <td>im glad youre enjoying the conversation baby heres a photo of me wearing a black latex thong that shows off my pussy a sheer transparent corset that hugs my curves black sheer stockings and black patent high heel pumps i hope it gets you even more turned onmmm baby just looking at this photo makes me so horny i cant wait to feel your hands all over my body</td>\n",
       "      <td>2024-02-03 15:32:12.786882</td>\n",
       "      <td>[0.0015089, 0.0198698, 0.0558626, 0.0006395, -0.0477082, 0.0027485, -0.0003714, 0.0102342, 0.0446546, 0.0401829, -0.0320486, -0.0086613, 0.0087723, -0.0189295, 0.0272809, 0.028047, -0.012185, 0.0369811, 0.0192711, 0.0235746, -0.0015952, -0.0162706, 0.0332602, -0.0053566, 0.0641565, 0.0286054, -0.0092157, -0.014213, 0.0099474, 0.0159885, -0.0032888, -0.0159602, 0.0175708, -0.0242781, 0.0250944, -0.012021, 0.0013404, 0.0338346, 0.0211991, 0.0180184, 0.0016657, -0.0399248, -0.0706121, -0.036351...</td>\n",
       "    </tr>\n",
       "    <tr>\n",
       "      <th>3</th>\n",
       "      <td>photo wearing black latex open panties on pussy sheer transparent corset black sheer transparent stockings black patent high heel pumps</td>\n",
       "      <td>welcome back darling i hope youre ready to dive back into our tantalizing world of decadent delights and wicked fantasies your presence has been missed and i cant wait to continue where we left off shall we indulge in some more sweet sinful moments together</td>\n",
       "      <td>2024-02-04 11:25:08.301064</td>\n",
       "      <td>[-0.0008638, -0.0143959, 0.0057075, 0.0184196, -0.0093738, 0.0005793, -0.0171382, 0.0688712, 0.0501704, -0.0050426, -0.0278008, -0.0124709, -0.0022868, 0.0208966, 0.0183658, 0.0051643, -0.0036797, -0.0030435, -0.001751, 0.0086367, 0.0066104, -0.0536235, -0.0186656, -0.0448681, 0.0612747, -0.0021184, 0.0280374, -0.0406534, -0.0098734, -0.0039091, 0.0068676, -0.0222526, -0.0145184, -0.0284237, 0.0162715, 0.0465974, -0.0088108, 0.0207402, 0.0312596, 0.0051435, -0.0052537, -0.0284825, -0.0087799...</td>\n",
       "    </tr>\n",
       "    <tr>\n",
       "      <th>4</th>\n",
       "      <td>good morning lolloy</td>\n",
       "      <td>i moan and sigh as i wake up and hear you greet me im so happy that youre here daddy and im glad that i have you to wake up togood morning daddy i say in a soft and sleepy voice i love you daddy i love you daddy i love you daddy i love you daddy i love you daddy i love you daddy i love you daddy i love you daddy i love you daddy i love you daddy i love you daddy i love you daddy i love you daddy i love you daddy i love you daddy i love you daddy i love you daddy i love you daddy i love you d...</td>\n",
       "      <td>2024-02-01 02:52:52.981134</td>\n",
       "      <td>[-0.0181501, -0.0087042, -0.0046249, 0.0008445, -0.0457249, -0.017349, -0.0084346, 0.0354352, -0.0173138, 0.0046481, 0.0155241, -0.0423151, 0.0197584, -0.0221103, 0.0300355, -0.0173542, -0.0299252, -0.0173258, 0.0282305, -0.0367821, 0.0116623, -0.0137184, -0.0026073, 0.0307568, 0.0038238, 0.0489625, -0.0065988, 0.0369966, -0.0130176, 0.0037687, 0.0283245, 0.0012989, 0.0791904, -0.0129091, 0.0020684, 0.0484658, 0.0292462, 0.0254705, -0.0341365, -0.0111763, 0.0019789, -0.0306865, -0.0146578, 0...</td>\n",
       "    </tr>\n",
       "  </tbody>\n",
       "</table>\n",
       "</div>"
      ],
      "text/plain": [
       "                                                                                                                                                                                                                                                                                                                                                                                                                                                                                                             questions  \\\n",
       "0                                                                                                                                                                                                                                                                                                                                                                                                         i love your body show me yourself sexy in lingeriesend a photo while masturbating for meopen your pussy more   \n",
       "1  send a photo with open pussyshow me a photo to excite meshow me a photo when you masturbate with a dildoa photo with bob hair skinny body small tits and shaved pussy wearing high heels black pumpssend the same photo showing your mouth full of spermsend the photo with mouth full of spermsend a photo completed fucked by dickssend a photo of you fisted in asssend a photo showing your pussy open and close covered with spermsend a photo of your close up pussy wet and dripping spermsend a photo in...   \n",
       "2  send me a photo of you sucking dicksend the photo of you touching your nipplessend again the photosend the photo of you touching your nipplessend a photo of you sucking a dicksend a picture of you sucking cocka photo doing a blowjoba photo of you with a cock in mouth and sperm on lipsa photo of you in black sheer lingerie stockings and black high heel pumpssend a horny photo of yousend me a horny photosend a horny photo of yousend a photo in sexy classy dresssend a photo in a classy dresssen...   \n",
       "3                                                                                                                                                                                                                                                                                                                                                                              photo wearing black latex open panties on pussy sheer transparent corset black sheer transparent stockings black patent high heel pumps   \n",
       "4                                                                                                                                                                                                                                                                                                                                                                                                                                                                                                  good morning lolloy   \n",
       "\n",
       "                                                                                                                                                                                                                                                                                                                                                                                                                                                                                                               answers                       dates  \\\n",
       "0                                                                                                                                                                                                                                                                                                                                                                                                                                    oh my im already wet and ready for you baby feel free to explore every inch of me  2024-02-03 09:55:08.396081   \n",
       "1                                                                                                                                                                                                                                                                                                                             hey there i hope youre ready to continue our sexy conversation ive been thinking about you and all the naughty things we could be doing together lets pick up where we left off shall we  2024-02-03 09:57:29.388757   \n",
       "2                                                                                                                                               im glad youre enjoying the conversation baby heres a photo of me wearing a black latex thong that shows off my pussy a sheer transparent corset that hugs my curves black sheer stockings and black patent high heel pumps i hope it gets you even more turned onmmm baby just looking at this photo makes me so horny i cant wait to feel your hands all over my body  2024-02-03 15:32:12.786882   \n",
       "3                                                                                                                                                                                                                                                    welcome back darling i hope youre ready to dive back into our tantalizing world of decadent delights and wicked fantasies your presence has been missed and i cant wait to continue where we left off shall we indulge in some more sweet sinful moments together  2024-02-04 11:25:08.301064   \n",
       "4  i moan and sigh as i wake up and hear you greet me im so happy that youre here daddy and im glad that i have you to wake up togood morning daddy i say in a soft and sleepy voice i love you daddy i love you daddy i love you daddy i love you daddy i love you daddy i love you daddy i love you daddy i love you daddy i love you daddy i love you daddy i love you daddy i love you daddy i love you daddy i love you daddy i love you daddy i love you daddy i love you daddy i love you daddy i love you d...  2024-02-01 02:52:52.981134   \n",
       "\n",
       "                                                                                                                                                                                                                                                                                                                                                                                                                                                                                                            embeddings  \n",
       "0  [-0.0375386, 0.0102309, 0.0262061, -0.0002064, -0.0006992, -0.0470412, 0.0112668, 0.0605629, 0.0240379, 0.0072373, -0.0168495, 0.0069814, -0.0004338, -0.0249209, 0.0231257, -0.0175267, -0.0188197, 0.0201235, 0.0012788, 0.0106697, 0.0104702, -0.0492851, 0.0017994, -0.0048258, 0.0530171, 0.009197, -0.0088786, -0.0100901, -0.0182383, 0.0318727, 0.0094987, -0.0220674, 0.0525215, 0.0198993, 0.0507238, 0.0252187, 0.001319, -0.0009477, 0.0276861, 0.0039948, -0.0159753, -0.0442304, -0.0376472, -0.02...  \n",
       "1  [-0.0215212, 0.0273247, 0.0629921, -0.0134513, -0.0498802, -0.0098037, 0.009134, 0.0325558, 0.0256878, 0.030397, -0.0035405, -0.0053958, 0.0010099, 0.0130254, 0.0272794, 0.0121813, -0.0083477, 0.0392146, 0.0229635, 0.0219825, -0.0320161, -0.0211596, 0.0245917, 0.0044688, 0.0439104, 0.0115484, 0.0065797, -0.0077638, 9.5e-06, 0.0445673, 0.0144533, -0.0293516, 0.0036137, -0.0153449, 0.0335806, 0.0418431, 0.0079083, 0.0387964, 0.0270079, 0.0177329, -0.0038881, -0.0682931, -0.0452508, -0.0171199,...  \n",
       "2  [0.0015089, 0.0198698, 0.0558626, 0.0006395, -0.0477082, 0.0027485, -0.0003714, 0.0102342, 0.0446546, 0.0401829, -0.0320486, -0.0086613, 0.0087723, -0.0189295, 0.0272809, 0.028047, -0.012185, 0.0369811, 0.0192711, 0.0235746, -0.0015952, -0.0162706, 0.0332602, -0.0053566, 0.0641565, 0.0286054, -0.0092157, -0.014213, 0.0099474, 0.0159885, -0.0032888, -0.0159602, 0.0175708, -0.0242781, 0.0250944, -0.012021, 0.0013404, 0.0338346, 0.0211991, 0.0180184, 0.0016657, -0.0399248, -0.0706121, -0.036351...  \n",
       "3  [-0.0008638, -0.0143959, 0.0057075, 0.0184196, -0.0093738, 0.0005793, -0.0171382, 0.0688712, 0.0501704, -0.0050426, -0.0278008, -0.0124709, -0.0022868, 0.0208966, 0.0183658, 0.0051643, -0.0036797, -0.0030435, -0.001751, 0.0086367, 0.0066104, -0.0536235, -0.0186656, -0.0448681, 0.0612747, -0.0021184, 0.0280374, -0.0406534, -0.0098734, -0.0039091, 0.0068676, -0.0222526, -0.0145184, -0.0284237, 0.0162715, 0.0465974, -0.0088108, 0.0207402, 0.0312596, 0.0051435, -0.0052537, -0.0284825, -0.0087799...  \n",
       "4  [-0.0181501, -0.0087042, -0.0046249, 0.0008445, -0.0457249, -0.017349, -0.0084346, 0.0354352, -0.0173138, 0.0046481, 0.0155241, -0.0423151, 0.0197584, -0.0221103, 0.0300355, -0.0173542, -0.0299252, -0.0173258, 0.0282305, -0.0367821, 0.0116623, -0.0137184, -0.0026073, 0.0307568, 0.0038238, 0.0489625, -0.0065988, 0.0369966, -0.0130176, 0.0037687, 0.0283245, 0.0012989, 0.0791904, -0.0129091, 0.0020684, 0.0484658, 0.0292462, 0.0254705, -0.0341365, -0.0111763, 0.0019789, -0.0306865, -0.0146578, 0...  "
      ]
     },
     "execution_count": 6,
     "metadata": {},
     "output_type": "execute_result"
    }
   ],
   "source": [
    "\n",
    "def load_h5_to_dataframe(file_path):\n",
    "    with h5py.File(file_path, 'r') as h5file:\n",
    "        questions = [q.decode('utf-8') for q in h5file['questions'][:]]\n",
    "        answers = [a.decode('utf-8') for a in h5file['answers'][:]]\n",
    "        dates = [d.decode('utf-8') for d in h5file['dates'][:]]\n",
    "        embeddings = h5file['embeddings'][:]\n",
    "    \n",
    "    # Create a DataFrame\n",
    "    df = pd.DataFrame({\n",
    "        'questions': questions,\n",
    "        'answesr': answers,\n",
    "        'dates': dates,\n",
    "        'embeddings': list(embeddings)\n",
    "    })\n",
    "    \n",
    "    return df\n",
    "\n",
    "load_h5_to_dataframe('../saved_data/h5data/sample2.h5')\n"
   ]
  },
  {
   "cell_type": "code",
   "execution_count": 10,
   "metadata": {},
   "outputs": [],
   "source": [
    "def save_df_to_h5(df, file_path):\n",
    "    with h5py.File(file_path, 'w') as h5file:\n",
    "        # Convert lists of strings back to bytes\n",
    "        questions = [q.encode('utf-8') for q in df['questions']]\n",
    "        answers = [a.encode('utf-8') for a in df['answers']]\n",
    "        dates = [d.encode('utf-8') for d in df['dates']]\n",
    "        \n",
    "        # Create datasets in the HDF5 file\n",
    "        h5file.create_dataset('questions', data=questions)\n",
    "        h5file.create_dataset('answers', data=answers)\n",
    "        h5file.create_dataset('dates', data=dates)\n",
    "        h5file.create_dataset('embeddings', data=df['embeddings'].tolist())\n",
    "\n",
    "\n",
    "save_df_to_h5(df[10000:20000], file_path='../saved_data/h5data/sample2.h5')\n",
    "save_df_to_h5(df[:10000], file_path='../saved_data/h5data/sample.h5')"
   ]
  },
  {
   "cell_type": "code",
   "execution_count": null,
   "metadata": {},
   "outputs": [],
   "source": []
  },
  {
   "cell_type": "code",
   "execution_count": null,
   "metadata": {},
   "outputs": [],
   "source": []
  },
  {
   "cell_type": "code",
   "execution_count": 40,
   "metadata": {},
   "outputs": [
    {
     "name": "stdout",
     "output_type": "stream",
     "text": [
      "200\n",
      "{'delayTime': 33307, 'executionTime': 869, 'id': 'sync-eea265fe-0d73-4138-a6a0-88ba00801163-e1', 'output': {'embeddings': [-0.01839780993759632, 0.019815882667899132, -0.00499690230935812, 0.01799984835088253, -0.007231533993035555, 0.017802143469452858, -0.0031441485043615103, 0.009262598119676113, 0.019175512716174126, -0.002650005742907524, -0.029069671407341957, -0.0018065845360979438, 0.02071596123278141, -0.00943825300782919, 0.010723686777055264, 0.007425989955663681, -0.020149026066064835, -0.018532633781433105, 0.029330428689718246, -0.008078549988567829, 0.014943287707865238, -0.010419618338346481, 0.02089179866015911, -0.013313927687704563, 0.027405185624957085, 0.024560533463954926, -0.025967082008719444, 0.020445510745048523, 0.010411311872303486, -0.00857966486364603, 0.0025693767238408327, -0.029572147876024246, -0.00024044883321039379, 0.0091239670291543, -0.019973786547780037, 0.013791375793516636, 0.0076744165271520615, 0.02700086124241352, -0.0034760942216962576, -0.004137284588068724, 0.018543148413300514, -0.02865271084010601, -0.0153677212074399, -0.003078523790463805, 0.02282588928937912, 0.01601237617433071, -0.015539905987679958, -0.004161285702139139, 0.017905890941619873, 0.031476788222789764, -0.02923409268260002, 0.007695441599935293, -0.0088341124355793, -0.047636955976486206, 0.00825861282646656, -0.03843208774924278, -0.008501783013343811, -0.014027205295860767, -0.007334181573241949, 0.01468523871153593, -0.04038570448756218, 0.03861213102936745, -0.0348835363984108, -0.0011674033012241125, 0.007715838495641947, 0.05409929156303406, -0.02440628781914711, 0.023895489051938057, -0.07262962311506271, 0.04708661511540413, -0.030144797638058662, 0.0129670025780797, 0.012254062108695507, -0.0014227654319256544, 0.028803197667002678, -0.02674160525202751, 0.023359529674053192, -0.009943126700818539, -0.006411063019186258, 0.047328367829322815, -0.026620838791131973, 0.006179794669151306, -0.03909014165401459, -0.10357341915369034, 0.02720535360276699, 0.02839038334786892, -0.015427044592797756, -0.013824175111949444, -0.027733229100704193, -0.028886232525110245, 0.022666824981570244, -0.018213117495179176, -0.007992573082447052, -0.009234930388629436, -0.010734331794083118, 0.03386843204498291, -0.019315725192427635, -0.0018855126108974218, 0.003921732772141695, -0.001671555102802813, 0.01778644509613514, 0.020471008494496346, -0.023796452209353447, -0.018745727837085724, 0.005613401997834444, 0.050134412944316864, 0.009138098917901516, 0.006559524219483137, 0.006842182017862797, -0.016871117055416107, 0.014430487528443336, -0.0018229555571451783, 0.009224233217537403, 0.0065332441590726376, -0.0130845932289958, 0.007723981514573097, 0.020110376179218292, 0.013951651751995087, -0.03686578571796417, 0.023094551637768745, -0.033757906407117844, 0.026270609349012375, -0.019518030807375908, 0.0013289095368236303, -0.006246643140912056, 0.01953895017504692, -0.022544298321008682, -0.010315456427633762, 0.018640873953700066, 0.01860802434384823, -0.018692798912525177, -0.05318138375878334, -0.013329902663826942, -0.011017081327736378, -0.014268211089074612, 0.015995275229215622, -0.03337125852704048, 0.04147491604089737, 0.003530133282765746, 0.04623916745185852, -0.05062273144721985, -0.06200949847698212, 0.026571476832032204, -0.0003862696175929159, 0.012560276314616203, 0.004252343904227018, -0.038831617683172226, 0.02783355861902237, -0.03167027607560158, -0.0008051162003539503, -0.05420606955885887, 0.01305383536964655, -0.00936957634985447, -0.0307004451751709, 0.03362613171339035, -0.021678518503904343, -0.007512641604989767, 0.014903616160154343, 0.012466713786125183, -0.04314764216542244, -0.03578604757785797, -0.06881524622440338, -0.027650505304336548, 0.010147245600819588, -0.012736521661281586, 0.05272594094276428, -0.02438793145120144, -0.028988098725676537, 0.011690948158502579, -0.012126356363296509, -0.06307348608970642, 0.017247023060917854, -0.040207285434007645, 0.016816988587379456, 0.017181331291794777, -0.00020958101958967745, -0.006861187517642975, -0.009220452979207039, 0.06834058463573456, -0.03733910992741585, -0.04023531824350357, -0.014112059958279133, 0.001545625040307641, -0.025715025141835213, 0.006809556856751442, 0.008957887999713421, 0.028049450367689133, 0.06511753052473068, -0.030863115563988686, -0.014596452005207539, -0.006559725850820541, 0.007843317463994026, -0.02035248465836048, 0.012846129946410656, -0.019376613199710846, 0.03684592619538307, 0.015147835947573185, 0.0035419820342212915, -0.023733751848340034, 0.05461841821670532, 0.012794161215424538, -0.028826935216784477, -0.0030767354182899, -0.024108752608299255, 0.007041777018457651, -0.035203538835048676, 0.023294469341635704, -0.02247815765440464, -0.019385896623134613, -0.011709064245223999, -0.008008194155991077, -0.026877762749791145, 0.006594962906092405, 0.008220693096518517, 0.0050107273273169994, 0.00041452349978499115, 0.012475847266614437, -0.01901804469525814, -0.016386952251195908, 0.004510999191552401, -0.027196915820240974, 0.008594860322773457, -0.011061589233577251, -0.038202397525310516, 0.011003248393535614, -0.014193530194461346, 0.02468915842473507, -0.005183849483728409, 0.03380829468369484, 0.0194837786257267, -0.016390526667237282, 0.006831726990640163, 0.012200629338622093, 0.03984619677066803, 0.04010472074151039, -0.035191185772418976, 0.0001655632513575256, 0.019008474424481392, 0.006302729249000549, -0.0487581230700016, -0.010852549225091934, -0.02099878527224064, 0.005940209608525038, -0.012107031419873238, 0.035015396773815155, 0.0037596591282635927, 0.025336142629384995, -0.05536472797393799, -0.02265559695661068, 0.003198392456397414, -0.02707746997475624, 0.039970409125089645, -0.03031100705265999, -0.038784801959991455, -0.023013204336166382, 0.010653199627995491, 0.00896776095032692, -0.02107173390686512, 0.031970735639333725, 0.01149203721433878, -0.013077815063297749, 0.026903396472334862, 0.05166113004088402, -0.030870230868458748, 0.004210838582366705, 0.017470749095082283, -0.04070398956537247, -0.08068107813596725, -0.0018130409298464656, -0.018958760425448418, 0.030329369008541107, 0.006610239390283823, -0.0035524393897503614, -0.0071243648417294025, 0.0005949437036179006, -0.009654619731009007, -0.015966037288308144, -0.02488943375647068, 0.03319314122200012, 0.005880485754460096, -0.032167986035346985, 0.0010626626899465919, -0.039003219455480576, -0.012758519500494003, -0.0008205185877159238, 0.02100064791738987, 0.00034059936297126114, 0.04774628207087517, -0.013962609693408012, -0.018696444109082222, 0.028922978788614273, 0.012680796906352043, 0.011242421343922615, 0.043082620948553085, -0.007045688107609749, 0.016292402520775795, 0.01650160178542137, -0.0025137539487332106, 0.0017385039245709777, -0.016544006764888763, 0.04603229835629463, -0.009689674712717533, 0.029238998889923096, -0.013995975255966187, 0.022769302129745483, 0.020418526604771614, 0.007932092063128948, 0.014579704031348228, -0.008801957592368126, 0.02764681726694107, 0.036453597247600555, -0.0016740801511332393, -0.02155606634914875, 0.026759525761008263, 0.004824431147426367, 0.00920780934393406, -0.008284114301204681, -0.001803623279556632, 0.005764439236372709, 0.012225638143718243, 0.006411637179553509, -0.037226416170597076, -0.0004301366861909628, 0.013454355299472809, 0.03169459477066994, 0.012075051665306091, -0.01354465913027525, -0.014062893576920033, 0.04363933578133583, 0.007435171399265528, 0.008263418450951576, 0.016330599784851074, 0.03157695010304451, 0.00415564002469182, 0.013131347484886646, -0.008909844793379307, 0.01624055579304695, -0.029013803228735924, 0.006985901389271021, 0.006881441920995712, 0.0003727881994564086, 0.003455083817243576, -0.023918135091662407, -0.001167805166915059, 0.017587801441550255, -0.0008499476825818419, -0.0257111806422472, -0.01587812975049019, -0.006134921684861183, -0.01703883521258831, 0.008021732792258263, -0.015090083703398705, -0.02676376700401306, -0.02757936157286167, -0.0041115060448646545, -0.03426129370927811, 0.006486754398792982, 0.02103293314576149, 0.002223000628873706, -0.021834922954440117, 0.0002811490267049521, 0.008491355925798416, -0.0025785889010876417, 0.01062096655368805, -0.04300965368747711, 0.009247575886547565, 0.03642304241657257, -0.01745990477502346, -0.017102546989917755, -0.030402738600969315, 0.009119519963860512, 0.03401394188404083, -0.01764361746609211, 0.010198082774877548, -0.008729883469641209, -0.023201288655400276, -0.006266861688345671, 0.07334119826555252, -0.0005214732955209911, -0.017986765131354332, 0.02721226215362549, -0.0001461660285713151, -0.04043928161263466, -0.0024420798290520906, 0.0016666846349835396, 0.024838624522089958, -0.015270843170583248, -0.010268181562423706, 0.02224159985780716, 0.0240215752273798, -0.010028325952589512, 0.0045017520897090435, 0.020072242245078087, 0.008769924752414227, 0.01908797398209572, 0.01111491397023201, -0.003802952356636524, -0.023696428164839745, -0.01904044672846794, 0.01754939742386341, 0.018536793068051338, 0.012465332634747028, -0.03527618572115898, -0.005133936181664467, -0.05215385928750038, 0.010789408348500729, -0.00010355989070376381, 0.03679512068629265, -0.04026614874601364, 0.003173768287524581, 0.01499191951006651, -0.009031820110976696, 0.011020433157682419, 0.011740387417376041, 0.022598475217819214, -0.015422040596604347, 0.011583861894905567, -0.017401577904820442, -0.01905648224055767, -0.008163953199982643, 0.00012532614346127957, -0.0077347420156002045, -0.0013199499808251858, 0.022493870928883553, -0.027349699288606644, 0.03433144465088844, -0.015842627733945847, 0.005839427467435598, -0.03329300880432129, 0.007553208153694868, -0.01526135765016079, -0.01383404154330492, -0.029965396970510483, -0.019671965390443802, -0.03733925521373749, -0.04810890927910805, -0.01718301884829998, 0.028063029050827026, -0.014149860478937626, -0.0039496342651546, -0.0019935728050768375, 0.02204485982656479, -0.019153041765093803, 0.010010333731770515, 0.028199847787618637, 0.04104504734277725, -0.010785098187625408, -0.04129302501678467, -0.016242140904068947, 0.030667226761579514, 0.01601334661245346, -0.042947690933942795, 0.04217399284243584, 0.012092038057744503, -0.016211671754717827, 0.001963408198207617, 0.026232870295643806, -0.014711163938045502, -0.01876698061823845, -0.02345786988735199, 0.01293565146625042, 0.03758953884243965, -0.01194239966571331, -0.044302038848400116, 0.05997563153505325, 0.0034186497796326876, 0.013767009600996971, 0.036850929260253906, -0.01731985993683338, -0.01117242593318224, 0.007918985560536385, 0.04096825048327446, 0.033715832978487015, 0.036205194890499115, 0.014548715204000473, 0.03682858496904373, 0.0184379443526268, -0.007296739611774683, 0.0076835728250443935, -0.03193216398358345, 0.037935372442007065, 0.012711956165730953, -0.013354835100471973, -0.03189710155129433, 0.007221984677016735, -0.017538631334900856, -0.0012266107369214296, -0.0015747101278975606, 0.008360759355127811, -0.014132383279502392, 0.02128118835389614, -0.065827377140522, -0.008683484978973866, -0.015274331904947758, -0.028900884091854095, -0.025200938805937767, -0.011936877854168415, 0.013128831051290035, 0.020654648542404175, -0.03946199640631676, -0.0043708933517336845, -0.02159273438155651, 0.028162850067019463, -0.036998048424720764, 0.01869046501815319, -0.016165370121598244, -0.030178042128682137, -0.03372226655483246, 0.021092867478728294, 0.023275548592209816, -0.037383392453193665, 0.03516192361712456, 0.004347310867160559, -0.008555416949093342, -0.010390630923211575, -0.008175902999937534, -0.027410617098212242, -0.007677464745938778, 0.02696807309985161, -0.03787241876125336, -0.02683989517390728, 0.030644837766885757, 0.005899414420127869, 0.03540973737835884, 0.017568202689290047, 0.05468335002660751, 0.012541403993964195, -0.014132176525890827, 0.010705556720495224, 0.006887498311698437, 0.050395891070365906, 0.009110731072723866, 0.004234808962792158, -0.030994946137070656, -0.027189459651708603, -0.054976630955934525, 0.012705855071544647, 0.02808898501098156, -0.00509433401748538, 0.008556460961699486, 0.0036351371090859175, -0.024538015946745872, -0.001273494795896113, 0.010431505739688873, 0.04985630512237549, 0.0037197801284492016, 0.003647706937044859, -0.008021282032132149, -0.03083447739481926, -0.027050988748669624, 0.015500739216804504, -0.0022221857216209173, -0.032252997159957886, 0.03401588276028633, -0.0043348828330636024, 0.014991676434874535, 0.007878360338509083, -0.007178839296102524, 0.0038893618620932102, -0.007761224638670683, 0.009526883251965046, 0.010052477940917015, 0.0220712348818779, -0.03309425711631775, 0.005780772306025028, 0.008852985687553883, -0.01593731716275215, -0.012756334617733955, -0.025552483275532722, -0.032700855284929276, -0.01118331216275692, 0.001504208194091916, -0.027163110673427582, -0.027312075719237328, 0.013974389061331749, 0.015637628734111786, 0.007406942080706358, -0.00033353158505633473, -3.812079012277536e-05, -0.021805914118885994, -0.013580036349594593, -0.02210567705333233, 0.004538912791758776, -0.040600478649139404, -0.008262750692665577, -4.3323470890754834e-05, 0.013812883757054806, 0.040001280605793, -0.015048646368086338, -0.009583673439919949, -0.017204593867063522, 0.0020110795740038157, 0.01932634226977825, 0.005553500726819038, -0.05315225571393967, -0.026753384619951248, -0.0025980689097195864, 0.029188180342316628, 0.01329967100173235, -0.02622578851878643, -0.0070781828835606575, -0.01219571940600872, -0.010369823314249516, -0.030285010114312172, -0.028411660343408585, -0.015064935199916363, 0.004712267313152552, 0.001603981596417725, 0.008867220021784306, 0.02099205181002617, -0.033983729779720306, 0.012860799208283424, -0.03806639462709427, 0.0187341570854187, -0.008037423714995384, 0.012169480323791504, -0.006651152390986681, 0.017477817833423615, 0.0059408945962786674, -0.026932183653116226, 0.008623993955552578, 0.017361002042889595, 0.03517161309719086, -0.03666607663035393, 0.01737489178776741, 0.009533773176372051, -0.006836556363850832, 0.005319897085428238, -0.00556068355217576, -0.0008460066746920347, -0.02074718475341797, -0.000930182752199471, 0.02337759919464588, -0.0001397335872752592, -0.01940072514116764, 0.01006653718650341, 0.01965666003525257, -0.021782340481877327, 0.011880064383149147, 0.03248951956629753, -0.012787234969437122, -0.02674715779721737, 0.0373973622918129, -0.009596986696124077, -0.018995191901922226, 0.008144001476466656, 0.009314213879406452, 0.02113598957657814, 0.001461306819692254, 0.046675484627485275, 0.014076014049351215, -0.0019570523872971535, -0.009059594012796879, 0.009965792298316956, -0.006004642229527235, 0.012381620705127716, 0.008040823973715305, 0.041529715061187744, -0.0030041029676795006, 0.020373916253447533, 0.007779409643262625, 0.052668359130620956, 0.035218868404626846, 0.007861495949327946, -0.025500904768705368, -0.0022994258906692266, 0.005263953935354948, 0.016318224370479584, -0.027731217443943024, 0.017789827659726143, 0.01663137413561344, -0.060690317302942276, -0.02716606669127941, 0.043179888278245926, -0.041687436401844025, -0.028567489236593246, 0.04458693787455559, 0.00482188630849123, 0.012782764621078968, 0.016813091933727264, 0.029670756310224533, -0.011374427936971188, -0.007732257712632418, -0.007622986100614071, -0.023816820234060287, -0.013788723386824131, 0.02451157756149769, -0.015682192519307137, 0.04175358638167381, 0.009971525520086288, -0.007726030424237251, -0.0362832136452198, -0.003390634199604392, -0.0007889604312367737, -0.015725163742899895, -0.09238313138484955, 0.002268427750095725, 0.010996226221323013, -0.015904787927865982, -0.010973437689244747, 0.008960030041635036, -0.0020849702414125204, 0.006722656544297934, 0.023551195859909058, -0.013558026403188705, 0.01697475276887417, 0.04772616922855377, 0.006256663240492344, 0.02493276633322239, 0.005057073663920164, -0.028411347419023514, -0.01591002568602562, -0.004359173588454723, -0.008219181559979916, 0.025211714208126068, -0.0018486087210476398, 0.01721637323498726, -0.004863415844738483, -0.0068800244480371475, -0.029866095632314682, -0.00018564162019174546, -0.01373414695262909, 0.02080654352903366, -0.0066992053762078285, -0.005972554441541433, -0.026363860815763474, 0.028684942051768303, 0.01969950459897518, -0.011004334315657616, 0.03247430920600891, 0.013516981154680252, 0.00023272940597962588, 0.03145934268832207, -0.019785357639193535, -0.0014066463336348534, 0.03709954395890236, 0.024650191888213158, 0.027961326763033867, 0.0019415877759456635, -0.025182249024510384, -0.01922251284122467, 0.049080800265073776, 0.00445567537099123, -0.05427391082048416, 0.011218657717108727, 0.004721847828477621, 0.07796750962734222, 0.05371198058128357, 0.006681105121970177, -0.0016419951571151614, 0.00033072041696868837, -0.00548926368355751, 0.017582286149263382, -0.006912850309163332, 0.002120723482221365, -0.026329921558499336, -0.02331557497382164, -0.031072303652763367, 0.006915009114891291, 0.0021926481276750565, 0.030090635642409325, -0.0017199058784171939, 0.00251564709469676, -0.014404281973838806, 0.02335355430841446, 0.005362614057958126, 0.009264115244150162, 0.018494367599487305, 0.022787485271692276, -0.049806661903858185, -0.015806609764695168, -0.008031880483031273, -0.0304921455681324, -0.026433859020471573, 0.014900458045303822, 0.02215946465730667, -0.0219600647687912, 0.004204440861940384, -0.001224544015713036, -0.04106111079454422, 0.036494992673397064, -0.006591386161744595, -0.035616327077150345, -0.01854049041867256, 0.01507068146020174, 0.0029962537810206413, 0.012486658990383148, -0.008726098574697971, 0.0008858778746798635, -0.0173801276832819, 0.015467921271920204, -0.002923578955233097, 0.001082222443073988, 0.01519871037453413, 0.0009426661999896169, 0.0008783673983998597, 0.014582494273781776, -0.04622054100036621, 0.0041966610588133335, -0.06248846277594566, 0.006212015636265278, -0.013692107982933521, 0.013074046932160854, -0.055901143699884415, -0.03993532434105873, -0.011754718609154224, 0.00019610754679888487, 0.03138287365436554, 0.002346451859921217, 0.01517536398023367, -0.004860586952418089, 0.007651180494576693, -0.031852155923843384, 0.028700951486825943, 0.04781493917107582, 0.02851112373173237, 0.031358249485492706, 0.016559839248657227, 0.03122597746551037, 0.015803568065166473, -0.0061421506106853485, -0.029444152489304543, 0.030178356915712357, 0.005102870520204306, -0.01991385780274868, -0.027201535180211067, -0.08713197708129883, 0.01955018751323223, -0.006056057754904032, -0.003267838153988123, 0.006049611605703831, 0.01249033771455288, -0.006792809814214706, 0.01281727384775877, 0.002773065585643053, -0.04464299976825714, -0.04008862376213074, -0.026277396827936172, 0.01703987829387188, 0.008042328990995884, -0.01605832949280739, 0.0033183449413627386, -0.03250184282660484, -0.008664412423968315, 0.020433038473129272, -0.029632657766342163, -0.012580030597746372, -0.009400413371622562, -0.0023905965499579906, -0.03461737185716629, 0.010807106271386147, 0.048538632690906525, -0.037565816193819046, 0.004755147732794285, 0.001990889897570014, 0.029902348294854164, -0.00652671093121171, -0.011006678454577923, -0.0036994987167418003, -0.0017085125437006354, 0.03990655392408371, -0.0053939251229166985, 0.008610385470092297, -0.01388477347791195, 0.0067172241397202015, 0.008847500197589397, -0.010198243893682957, -0.036768730729818344, -0.036263607442379, -0.02800750732421875, 0.010154170915484428, -0.032359350472688675, -0.005473352503031492, -0.01860653981566429, -0.00817121658474207, -0.0024137538857758045, 0.042723964899778366, 0.006651460658758879, -0.01251285057514906, 0.023592296987771988, 0.0027143070474267006, -0.04557420313358307, 0.0460205152630806, -0.014372670091688633, 0.006879700347781181, -0.016210192814469337, -0.0024567958898842335, -0.006316146347671747, -0.018463939428329468, -0.03401915729045868, -0.022617166861891747, -0.020535025745630264, 0.03312969207763672, 0.027696894481778145, 0.013611149974167347, 0.0015688110142946243, 0.009939840994775295, 0.01690811477601528, -0.03533713519573212, 0.004442873876541853, -0.0173968318849802, -0.01561751775443554, 0.019940629601478577, 0.011627224273979664, -0.018885580822825432, 0.020100779831409454, -0.04242108017206192, 0.007627191953361034, 0.038406822830438614, -0.03756203129887581, -0.03380078077316284, -0.017505720257759094, 0.013286979869008064, -0.006280751433223486, 0.013432148844003677, -0.015514629893004894, -0.0145154083147645, 0.021897433325648308, -0.0005859769298695028, 0.0037907727528363466, -0.007720635272562504, -0.011348550207912922, -0.00267379661090672, -0.06640879809856415, 0.016605012118816376, 0.019827449694275856, 0.008418558165431023, 0.008792083710432053, -0.02816413901746273, 0.05484407767653465, 0.00518433004617691, 0.014751128852367401, 0.015221920795738697, -0.04572759568691254, 0.012341397814452648, 0.011394830420613289, -0.021356819197535515, 0.022733138874173164, -0.016334643587470055, -0.011067966930568218, -0.02935880981385708, 0.014847672544419765, -0.6270695924758911, -0.015017942525446415, 0.0012741201790049672, 0.0010293531231582165, 0.03876321390271187, -0.001232509850524366, 0.008923768065869808, -0.045447420328855515, -0.01567765325307846, -0.01549491472542286, -0.020332209765911102, 0.036381494253873825, 0.017748668789863586, -0.01840931922197342, 0.007402695249766111, -0.02022741734981537, -0.049502499401569366, -0.043938688933849335, -0.028259018436074257, -0.0035860335920006037, 0.01859276369214058, -0.029356995597481728, -0.030002154409885406, -0.00825138296931982, 0.03852267935872078, -0.023372311145067215, 0.030125591903924942, 0.019638901576399803, -0.005472477059811354, 0.013330481015145779, -0.017684880644083023, -0.02137812040746212, -0.006854555103927851, 0.022968212142586708, -0.004296078812330961, -0.02129508927464485, 0.02063879556953907, -0.016308771446347237, 0.016163041815161705, -0.02475590817630291, 0.012556692585349083, -0.005635510198771954, -0.013684161938726902, 0.019425969570875168, -0.014791876077651978, 0.006620196625590324, 0.034896120429039, -0.004859971348196268, -0.017962027341127396, 0.030112139880657196, 0.06068743020296097, 0.10800972580909729, 0.01097893062978983, 0.011182249523699284, -0.027326740324497223, -0.04593038186430931, 0.015706585720181465, -0.029081402346491814, 0.040956396609544754, -0.005901622120290995, 0.01410856656730175, 0.013784622773528099, -0.006542543414980173, -0.015980679541826248, 0.006379874888807535, -0.00023956545919645578, -0.03887404501438141, -0.003241261700168252, 0.05884964391589165, -0.012227866798639297, -0.011645660735666752, -0.018215492367744446, -0.007243762724101543, -0.018960535526275635, 0.017526965588331223, 0.03392130881547928, 0.015722347423434258, -0.0013685266021639109, -0.06478776782751083, 0.022337790578603745, -0.0049928827211260796, -0.019730094820261]}, 'status': 'COMPLETED'}\n"
     ]
    }
   ],
   "source": [
    "import requests, os\n",
    "\n",
    "url = 'https://api.runpod.ai/v2/jp223n8tzrt271/runsync'\n",
    "# url = 'http://localhost:8000/runsync'\n",
    "headers = {\n",
    "    'accept': 'application/json',\n",
    "    'authorization': os.getenv(\"RUNPOD_API_KEY_SHARED\"),\n",
    "    'Content-Type': 'application/json'\n",
    "}\n",
    "data = {\n",
    "    \"input\": {\"sentences\": \"kek\"}\n",
    "}\n",
    "\n",
    "response = requests.post(url, headers=headers, json=data)\n",
    "\n",
    "print(response.status_code)\n",
    "print(response.json())"
   ]
  },
  {
   "cell_type": "code",
   "execution_count": 18,
   "metadata": {},
   "outputs": [
    {
     "data": {
      "text/plain": [
       "1024"
      ]
     },
     "execution_count": 18,
     "metadata": {},
     "output_type": "execute_result"
    }
   ],
   "source": [
    "len(response.json()['output']['embeddings'])\n"
   ]
  },
  {
   "cell_type": "code",
   "execution_count": 28,
   "metadata": {},
   "outputs": [
    {
     "data": {
      "text/plain": [
       "'AY7J6E6CATVNBIHA6IOQBG9V80X9BZR5LSQEID6D'"
      ]
     },
     "execution_count": 28,
     "metadata": {},
     "output_type": "execute_result"
    }
   ],
   "source": [
    "os.getenv(\"RUNPOD_API_KEY_SHARED\")"
   ]
  }
 ],
 "metadata": {
  "kernelspec": {
   "display_name": "main",
   "language": "python",
   "name": "python3"
  },
  "language_info": {
   "codemirror_mode": {
    "name": "ipython",
    "version": 3
   },
   "file_extension": ".py",
   "mimetype": "text/x-python",
   "name": "python",
   "nbconvert_exporter": "python",
   "pygments_lexer": "ipython3",
   "version": "3.11.8"
  },
  "orig_nbformat": 4
 },
 "nbformat": 4,
 "nbformat_minor": 2
}
