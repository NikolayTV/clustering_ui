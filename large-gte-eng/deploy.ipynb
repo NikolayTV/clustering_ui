{
 "cells": [
  {
   "cell_type": "markdown",
   "metadata": {},
   "source": [
    "### Что бы задеплоить на ранподе можно собрать докер образ, запушить на докерхаб и потом из ранпода создать серверлесс эндпойнт"
   ]
  },
  {
   "cell_type": "markdown",
   "metadata": {},
   "source": [
    "* docker build --platform=linux/amd64 -t datatraxer/large-gte-eng:v0.1 .\n",
    "* docker push datatraxer/large-gte-eng:v0.1"
   ]
  },
  {
   "cell_type": "markdown",
   "metadata": {},
   "source": [
    "# Start locally\n",
    "\n",
    "### Beside this you can start endpoint locally"
   ]
  },
  {
   "cell_type": "markdown",
   "metadata": {},
   "source": [
    "* python3.11 -u src/handler.py --rp_serve_api "
   ]
  },
  {
   "cell_type": "markdown",
   "metadata": {},
   "source": []
  }
 ],
 "metadata": {
  "kernelspec": {
   "display_name": "base",
   "language": "python",
   "name": "python3"
  },
  "language_info": {
   "codemirror_mode": {
    "name": "ipython",
    "version": 3
   },
   "file_extension": ".py",
   "mimetype": "text/x-python",
   "name": "python",
   "nbconvert_exporter": "python",
   "pygments_lexer": "ipython3",
   "version": "3.11.8"
  }
 },
 "nbformat": 4,
 "nbformat_minor": 2
}
