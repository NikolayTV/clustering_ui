{
 "cells": [
  {
   "cell_type": "code",
   "execution_count": 3,
   "metadata": {},
   "outputs": [
    {
     "name": "stderr",
     "output_type": "stream",
     "text": [
      "/var/folders/fh/jpzybjhs0nq0265pm39s6kf80000gn/T/ipykernel_47294/486087888.py:23: FutureWarning: use_inf_as_na option is deprecated and will be removed in a future version. Convert inf values to NaN before operating instead.\n",
      "  pd.set_option('use_inf_as_na', True)\n"
     ]
    }
   ],
   "source": [
    "%config Completer.use_jedi = False\n",
    "%load_ext autoreload\n",
    "%autoreload 2\n",
    "import sys\n",
    "sys.path.append('../')\n",
    "import pandas as pd\n",
    "from tqdm.notebook import tqdm\n",
    "# import torch \n",
    "import json\n",
    "from pprint import pprint\n",
    "from concurrent.futures import ProcessPoolExecutor\n",
    "import gc\n",
    "import re\n",
    "import string \n",
    "import numpy as np \n",
    "import os\n",
    "import numpy as np\n",
    "from tqdm import tqdm  # For a progress bar\n",
    "import fasttext\n",
    "from huggingface_hub import hf_hub_download\n",
    "\n",
    "\n",
    "pd.set_option('use_inf_as_na', True)\n",
    "pd.set_option('display.max_rows', 500)\n",
    "pd.set_option('display.max_columns', 500)\n",
    "pd.set_option('display.width', 1000)\n",
    "pd.set_option('display.max_colwidth', 500)\n",
    "# torch.__version__"
   ]
  },
  {
   "cell_type": "code",
   "execution_count": 3,
   "metadata": {},
   "outputs": [],
   "source": [
    "# !pip install pydrive\n",
    "# !pip install --upgrade google-api-python-client oauth2client\n",
    "\n",
    "# get clients_secret.json from google credentials in google console\n",
    "\n",
    "\n",
    "# DOWNLOAD FILE\n",
    "# file_id = 'your_file_id_here'  # Replace with your file ID\n",
    "# downloaded = drive.CreateFile({'id': file_id})\n",
    "# downloaded.GetContentFile('filename.txt')\n",
    "# Upload a File:\n",
    "\n",
    "# UPLOAD FILE\n",
    "# upload_file = drive.CreateFile({'title': 'new_file.txt'})\n",
    "# upload_file.SetContentFile('local_file.txt')\n",
    "# upload_file.Upload()"
   ]
  },
  {
   "cell_type": "code",
   "execution_count": 58,
   "metadata": {},
   "outputs": [
    {
     "name": "stdout",
     "output_type": "stream",
     "text": [
      "Your browser has been opened to visit:\n",
      "\n",
      "    https://accounts.google.com/o/oauth2/auth?client_id=545847063411-p8bi7qrhiumhntq5sm9equtv1naohj4j.apps.googleusercontent.com&redirect_uri=http%3A%2F%2Flocalhost%3A8080%2F&scope=https%3A%2F%2Fwww.googleapis.com%2Fauth%2Fdrive&access_type=offline&response_type=code\n",
      "\n",
      "Authentication successful.\n"
     ]
    }
   ],
   "source": [
    "from pydrive.auth import GoogleAuth\n",
    "from pydrive.drive import GoogleDrive\n",
    "from oauth2client.client import GoogleCredentials\n",
    "\n",
    "# Authenticate and create the PyDrive client.\n",
    "gauth = GoogleAuth()\n",
    "gauth.LoadClientConfigFile(\"/Users/nikolaytv/workspace/creds/datatraxer_gdrive_secret.json\")\n",
    "gauth.LocalWebserverAuth()  # Creates local webserver and automatically handles authentication.\n",
    "drive = GoogleDrive(gauth)"
   ]
  },
  {
   "cell_type": "markdown",
   "metadata": {},
   "source": [
    "# download from gdrive"
   ]
  },
  {
   "cell_type": "code",
   "execution_count": 139,
   "metadata": {},
   "outputs": [
    {
     "name": "stdout",
     "output_type": "stream",
     "text": [
      "February-2-half-2024.xlsx - SUCCESS\n",
      "February-1-half-2024.xlsx - SUCCESS\n",
      "January-2-half-2024.xlsx - SUCCESS\n",
      "January-1-half-2024.xlsx - SUCCESS\n"
     ]
    }
   ],
   "source": [
    "folder_id = '1kMfakNU9WtKVXaJ2X26nO8jdHthe_a0D'  # Replace with your folder ID\n",
    "file_list = drive.ListFile({'q': f\"'{folder_id}' in parents and trashed=false\"}).GetList()\n",
    "for file in file_list[1:5]:\n",
    "    try:\n",
    "        downloaded = drive.CreateFile({'id': file['id']})\n",
    "        downloaded.GetContentFile(f'../data/data_raw/{file[\"title\"]}')\n",
    "        print(f'{file[\"title\"]} - SUCCESS')\n",
    "    except Exception as e:\n",
    "        print(f'{file[\"title\"]} - FAIL', e)\n",
    "        "
   ]
  },
  {
   "cell_type": "code",
   "execution_count": 31,
   "metadata": {},
   "outputs": [
    {
     "name": "stdout",
     "output_type": "stream",
     "text": [
      "before filter (1048575, 7)\n",
      "after filter (114581, 6)\n",
      "after removing personas in a row (107300, 6)\n",
      "removed repeats (100484, 6)\n"
     ]
    },
    {
     "name": "stderr",
     "output_type": "stream",
     "text": [
      "/var/folders/fh/jpzybjhs0nq0265pm39s6kf80000gn/T/ipykernel_47294/4100124343.py:27: SettingWithCopyWarning: \n",
      "A value is trying to be set on a copy of a slice from a DataFrame\n",
      "\n",
      "See the caveats in the documentation: https://pandas.pydata.org/pandas-docs/stable/user_guide/indexing.html#returning-a-view-versus-a-copy\n",
      "  df.drop(columns=['remove'], inplace=True)\n"
     ]
    }
   ],
   "source": [
    "def filter_data(df, columns_to_load):\n",
    "    print('before filter', df.shape)\n",
    "    df = df[columns_to_load]\n",
    "    df = df[df['type'] == 1]\n",
    "    df = df.dropna(subset=['body'])\n",
    "    df = df.sort_values(['userId', 'dateCreate'])\n",
    "    return df\n",
    "\n",
    "def clean_data(df):\n",
    "    df['body'] = df['body'].str.strip()\n",
    "    df['body'] = df['body'].str.replace('\\t', '', regex=False)\n",
    "    df = df.drop_duplicates(subset=['body', 'dateCreate'])\n",
    "    df = df[df['body'].notna()]\n",
    "    df = df[df['body'] != '']\n",
    "    df['userId'] = df['userId'].astype(int)\n",
    "    return df\n",
    "\n",
    "def remove_consecutive_duplicates(df):\n",
    "    df = df[df['body'] != df['body'].shift()]\n",
    "    print('after filter', df.shape)\n",
    "    return df\n",
    "\n",
    "def remove_consecutive_persona_messages(df):\n",
    "    df['remove'] = (df['sender'] == 'Persona') & (df['sender'].shift() == 'Persona')\n",
    "    df['remove'] = df['remove'].fillna(False)\n",
    "    df = df[~df['remove']]\n",
    "    df.drop(columns=['remove'], inplace=True)\n",
    "    print('after removing personas in a row', df.shape)\n",
    "    return df\n",
    "\n",
    "def remove_frequent_user_messages(df, topfreq=50):\n",
    "    repeats = df[df['sender'] == 'User']['body'].value_counts()[:topfreq].index.values.tolist()\n",
    "    df = df[~df['body'].isin(repeats)].copy()\n",
    "    print('removed repeats', df.shape)\n",
    "    return df\n",
    "\n",
    "def concatenate_consecutive_user_messages(df):\n",
    "    df['new_group'] = (df['sender'] != df['sender'].shift()) | (df['sender'] != 'User')\n",
    "    df['group_id'] = df['new_group'].cumsum()\n",
    "    df = df.groupby('group_id').agg({\n",
    "        'sender': 'first',\n",
    "        'body': '\\n'.join,\n",
    "        'userId': 'first',\n",
    "        'chatId': 'first',\n",
    "        'dateCreate': 'first'\n",
    "    }).reset_index(drop=True)\n",
    "    return df\n",
    "\n",
    "def clean_text(text):\n",
    "    \"\"\"\n",
    "    Removes punctuation, symbols (excluding English and Russian), and extra spaces from text.\n",
    "    \"\"\"\n",
    "    text = text.strip()\n",
    "\n",
    "    # Remove symbols except English and Russian letters\n",
    "    allowed_chars = string.ascii_letters + 'абвгдеёжзийклмнопрстуфхцчшщъыьэюяАБВГДЕЁЖЗИЙКЛМНОПРСТУФХЦЧШЩЪЫЬЭЮЯ '\n",
    "    text = ''.join(c for c in text if c in allowed_chars)\n",
    "\n",
    "    # Remove extra spaces\n",
    "    text = ' '.join(text.split())\n",
    "\n",
    "    return text\n",
    "\n",
    "def create_paired_df(ori_df):\n",
    "    # Shift the DataFrame to align question with answer\n",
    "    ori_df['next_sender'] = ori_df['sender'].shift(-1)\n",
    "    ori_df['next_body'] = ori_df['body'].shift(-1)\n",
    "    ori_df['next_dateCreate'] = ori_df['dateCreate'].shift(-1)\n",
    "\n",
    "    # Filter to get only rows where the question is from the User and the next message is from Persona\n",
    "    question_answer_pairs = ori_df[(ori_df['sender'] == 'User') & (ori_df['next_sender'] == 'Persona')]\n",
    "\n",
    "    # Construct the resulting DataFrame or list of dictionaries\n",
    "    result = question_answer_pairs.apply(lambda row: {\n",
    "        'userId': row['userId'],\n",
    "        'chatId': row['chatId'],\n",
    "        'question': row['body'],\n",
    "        'answer': row['next_body'],\n",
    "        'dateCreate': row['dateCreate']\n",
    "    }, axis=1).tolist()\n",
    "\n",
    "    # Optional: Convert to a DataFrame\n",
    "    paired_df = pd.DataFrame(result)\n",
    "    return paired_df\n",
    "\n",
    "# Example usage\n",
    "columns_to_load = ['type', 'userId', 'chatId', 'dateCreate', 'body', 'sender']\n",
    "files = [\n",
    " 'March-2024.xlsx',\n",
    " 'February-2-half-2024.xlsx',\n",
    " 'February-1-half-2024.xlsx',\n",
    " 'January-2-half-2024.xlsx',\n",
    " 'January-1-half-2024.xlsx',\n",
    " 'December-2023.xlsx',\n",
    " 'November-2023.xlsx',\n",
    " 'October-2023.xlsx',\n",
    " 'September-2023.xlsx',\n",
    " 'August-2023.xlsx',\n",
    " 'July-2023.xlsx']\n",
    "for file_name in files[:1]:\n",
    "    try:\n",
    "        ori_df = pd.read_excel(f'../data/data_raw/{file_name}')\n",
    "        ori_df = filter_data(ori_df, columns_to_load)\n",
    "        ori_df = clean_data(ori_df)\n",
    "        ori_df = remove_consecutive_duplicates(ori_df)\n",
    "        ori_df = remove_consecutive_persona_messages(ori_df)\n",
    "        ori_df = remove_frequent_user_messages(ori_df, topfreq=50)\n",
    "        ori_df = concatenate_consecutive_user_messages(ori_df)\n",
    "        ori_df['body'] = ori_df['body'].apply(clean_text)\n",
    "        paired_df = create_paired_df(ori_df)\n",
    "        paired_df.to_csv(f'../data/data_paired/{file_name[:-5]}.csv')\n",
    "    except Exception as e:\n",
    "        print(f'Exception: {e}')\n",
    "        "
   ]
  },
  {
   "cell_type": "code",
   "execution_count": 3,
   "metadata": {},
   "outputs": [],
   "source": [
    "# ori_df = pd.read_excel(f'../data/data_raw/March-2024.xlsx')\n",
    "# ori_df.shape"
   ]
  },
  {
   "cell_type": "markdown",
   "metadata": {},
   "source": [
    "# Create embeddings"
   ]
  },
  {
   "cell_type": "code",
   "execution_count": 1,
   "metadata": {},
   "outputs": [
    {
     "data": {
      "text/plain": [
       "device(type='mps', index=0)"
      ]
     },
     "execution_count": 1,
     "metadata": {},
     "output_type": "execute_result"
    }
   ],
   "source": [
    "from sentence_transformers import SentenceTransformer\n",
    "embedding_model = SentenceTransformer('Alibaba-NLP/gte-large-en-v1.5', trust_remote_code=True)\n",
    "embedding_model.max_seq_length=256\n",
    "embedding_model.device"
   ]
  },
  {
   "cell_type": "code",
   "execution_count": 4,
   "metadata": {},
   "outputs": [
    {
     "name": "stderr",
     "output_type": "stream",
     "text": [
      "Warning : `load_model` does not return WordVectorModel or SupervisedModel any more, but a `FastText` object which is very similar.\n"
     ]
    }
   ],
   "source": [
    "model_path = hf_hub_download(repo_id=\"facebook/fasttext-language-identification\", filename=\"model.bin\")\n",
    "model = fasttext.load_model(model_path)"
   ]
  },
  {
   "cell_type": "code",
   "execution_count": 32,
   "metadata": {},
   "outputs": [
    {
     "name": "stderr",
     "output_type": "stream",
     "text": [
      "Processing files:   0%|          | 0/1 [00:00<?, ?it/s]"
     ]
    },
    {
     "data": {
      "application/vnd.jupyter.widget-view+json": {
       "model_id": "5b7cd60e8af546da87305b815e904f96",
       "version_major": 2,
       "version_minor": 0
      },
      "text/plain": [
       "Batches:   0%|          | 0/1332 [00:00<?, ?it/s]"
      ]
     },
     "metadata": {},
     "output_type": "display_data"
    },
    {
     "name": "stderr",
     "output_type": "stream",
     "text": [
      "Processing files: 100%|██████████| 1/1 [07:14<00:00, 434.41s/it]"
     ]
    },
    {
     "name": "stdout",
     "output_type": "stream",
     "text": [
      "All files processed and saved.\n"
     ]
    },
    {
     "name": "stderr",
     "output_type": "stream",
     "text": [
      "\n"
     ]
    }
   ],
   "source": [
    "import os\n",
    "import numpy as np\n",
    "from tqdm import tqdm\n",
    "\n",
    "# Define the paths\n",
    "input_path = '../data/data_paired'\n",
    "output_path = '../saved_data/historical'\n",
    "\n",
    "# Ensure the output directory exists\n",
    "os.makedirs(output_path, exist_ok=True)\n",
    "\n",
    "# Function to process each file\n",
    "def process_file(file_name, df, output_path):\n",
    "    # df = df.sample(1000)\n",
    "    \n",
    "    loaded_docs = df['question'].values.tolist()\n",
    "\n",
    "    # Create embeddings\n",
    "    loaded_embeddings = embedding_model.encode(loaded_docs, show_progress_bar=True, batch_size=32, normalize_embeddings=True)\n",
    "    loaded_embeddings = loaded_embeddings.round(7)  # to avoid negative distance\n",
    "    df['embeddings'] = loaded_embeddings.tolist()\n",
    "    \n",
    "    # Filter language\n",
    "    df['language'] = df['question'].apply(lambda x: model.predict(x.replace('\\n', ' '))[0][0][9:])\n",
    "    df = df[df['language']=='eng_Latn']\n",
    "\n",
    "    df[['question', 'answer', 'dateCreate', 'embeddings', 'userId', 'chatId']].to_feather(os.path.join(output_path, f'{file_name}.feather'))\n",
    "\n",
    "\n",
    "# Process each file in the input directory\n",
    "\n",
    "# for file in tqdm(os.listdir(input_path)[:1], desc=\"Processing files\"):\n",
    "for file in tqdm([\"March-2024.csv\"], desc=\"Processing files\"):\n",
    "    if file.endswith('.csv'):  # Assuming the files are CSVs, adjust as necessary\n",
    "        file_path = os.path.join(input_path, file)\n",
    "        df = pd.read_csv(file_path)\n",
    "        df = df.dropna()\n",
    "        process_file(file.split('.')[0], df, output_path)\n",
    "\n",
    "print(\"All files processed and saved.\")\n"
   ]
  },
  {
   "cell_type": "code",
   "execution_count": 35,
   "metadata": {},
   "outputs": [
    {
     "data": {
      "text/html": [
       "<div>\n",
       "<style scoped>\n",
       "    .dataframe tbody tr th:only-of-type {\n",
       "        vertical-align: middle;\n",
       "    }\n",
       "\n",
       "    .dataframe tbody tr th {\n",
       "        vertical-align: top;\n",
       "    }\n",
       "\n",
       "    .dataframe thead th {\n",
       "        text-align: right;\n",
       "    }\n",
       "</style>\n",
       "<table border=\"1\" class=\"dataframe\">\n",
       "  <thead>\n",
       "    <tr style=\"text-align: right;\">\n",
       "      <th></th>\n",
       "      <th>question</th>\n",
       "      <th>answer</th>\n",
       "      <th>dateCreate</th>\n",
       "      <th>embeddings</th>\n",
       "      <th>userId</th>\n",
       "      <th>chatId</th>\n",
       "    </tr>\n",
       "  </thead>\n",
       "  <tbody>\n",
       "    <tr>\n",
       "      <th>0</th>\n",
       "      <td>Hi Angel Its Mr Green here I would like to know if you would like to start a new roleplay I was wondering if you could be a shy nervous and easily embarrassed girl Also I would like your responses to begin with Angel Where you will respond through Angels dialogue For exampleAngel Hi Mr Green Its me Angel</td>\n",
       "      <td>Im ready to start the roleplay whenever you are Mr Green I hope youre feeling just as excited as I am</td>\n",
       "      <td>2024-03-03 23:46:02.750874</td>\n",
       "      <td>[-0.05343630164861679, -0.03388899937272072, 0.028392000123858452, -0.022359099239110947, 0.006457299925386906, -0.019548099488019943, 0.043172501027584076, 0.013897400349378586, -0.033281099051237106, -0.003264599945396185, -0.027348799630999565, 0.020007599145174026, 0.006891599856317043, 0.010784899815917015, 0.029047200456261635, 0.013385199941694736, -0.014800500124692917, 0.013296700082719326, 0.007664000149816275, -0.02527019940316677, -0.0045846002176404, 0.01737779937684536, 0.00629...</td>\n",
       "      <td>91</td>\n",
       "      <td>622837</td>\n",
       "    </tr>\n",
       "    <tr>\n",
       "      <th>1</th>\n",
       "      <td>OK remember Mr Green is a elderly gentleman although he is very kind and compassionate towards you You are a shy and nervous girl who is always blushing and stuttering</td>\n",
       "      <td>Hi Mr Green Its me Angel Im so glad youre here I was feeling a little nervous and shy but now that youre here I feel a bit better Im not sure what were going to do but I hope its something fun and exciting</td>\n",
       "      <td>2024-03-03 23:56:52.319309</td>\n",
       "      <td>[-0.05368079990148544, -0.05516659840941429, 0.004988799802958965, -0.014592800289392471, -0.0034773999359458685, 0.009652500040829182, -0.011691800318658352, 0.008093800395727158, -0.06577979773283005, 0.010997000150382519, 0.019261399284005165, 0.0043390002101659775, 0.04832889884710312, 0.02639620006084442, 0.04664060100913048, -0.03837519884109497, -0.0026485000271350145, -0.0026038000360131264, -0.02067839913070202, 0.008197000250220299, 0.01108120009303093, 0.010981399565935135, -0.010...</td>\n",
       "      <td>91</td>\n",
       "      <td>622837</td>\n",
       "    </tr>\n",
       "    <tr>\n",
       "      <th>2</th>\n",
       "      <td>Remember you must begin your responses with Angel Okay</td>\n",
       "      <td>Okay Ill try to remember to start my responses with Angel from now on Mr Green I hope thats what you want me to do Im feeling a little nervous and unsure but Im also feeling excited and curious I hope that I can make you happy and that we can have some fun together</td>\n",
       "      <td>2024-03-03 23:58:21.406729</td>\n",
       "      <td>[-0.034439798444509506, 0.00848810002207756, -0.012667099945247173, 0.008736100047826767, -0.0297193992882967, -0.005477699916809797, 0.04189879819750786, 0.0003733999910764396, -0.028446899726986885, -0.0020659000147134066, 0.019540099427103996, -0.018239900469779968, -0.004761400166898966, 0.04286859929561615, 0.0059752999804914, -0.01792290061712265, 0.011916600167751312, -0.008792899549007416, 0.033860400319099426, -0.03848930075764656, 0.011916900053620338, 0.0014133000513538718, 0.0101...</td>\n",
       "      <td>91</td>\n",
       "      <td>622837</td>\n",
       "    </tr>\n",
       "    <tr>\n",
       "      <th>3</th>\n",
       "      <td>Would you mind starting with you coming over my house</td>\n",
       "      <td>Oh Umm II dont know if thats a good idea Mr Green I mean Im not sure if Im ready for that yet Im feeling a little nervous and unsure about everything I dont want to do anything that Im not ready for I hope you understand Mr Green</td>\n",
       "      <td>2024-03-04 00:01:08.714888</td>\n",
       "      <td>[-0.045199599117040634, -0.008834299631416798, -0.015251399949193, -0.01938600093126297, -0.03419800102710724, -0.017830099910497665, 0.007106100209057331, 0.024023300036787987, 0.01853800006210804, -0.011752599850296974, 0.03638109937310219, 0.003302699886262417, 0.016202999278903008, -0.02876419946551323, 0.03247230127453804, 0.027524499222636223, 0.004660800099372864, 0.0008869000012055039, -0.020462200045585632, 0.010533500462770462, -0.007511999923735857, -0.011343199759721756, 0.009577...</td>\n",
       "      <td>91</td>\n",
       "      <td>622837</td>\n",
       "    </tr>\n",
       "    <tr>\n",
       "      <th>4</th>\n",
       "      <td>hello my cute little Elizabeth I have recently reset and modified your name and personality I would like you to be a hot little firecracker with a bratty and perhaps even a promiscuous personality Would you like to start a new role play</td>\n",
       "      <td>Oh hello there Mr Green Im so glad youre back I hope youre feeling just as excited as I am Im ready to start our new roleplay whenever you are Mr Green Im feeling a little bratty and mischievous today Mr Green I want to play a little game with you and see how far I can push you I hope youre up for the challenge Mr Green I want to see if I can make you lose control and give in to your desires</td>\n",
       "      <td>2024-03-04 07:50:38.482230</td>\n",
       "      <td>[-0.04078419879078865, -0.02648260071873665, 0.005166000220924616, -0.028666900470852852, 0.02494800090789795, -0.0247724000364542, -0.008135199546813965, 0.020792299881577492, 0.0020254000555723906, 0.0031606999691575766, -0.029919900000095367, 0.0060200998559594154, 0.015360100194811821, 0.009440699592232704, 0.016478100791573524, 0.026706300675868988, -0.002560999942943454, -0.006178100127726793, 0.008016999810934067, -0.008350400254130363, -0.008753499947488308, 0.030380699783563614, 4.9...</td>\n",
       "      <td>91</td>\n",
       "      <td>622837</td>\n",
       "    </tr>\n",
       "    <tr>\n",
       "      <th>...</th>\n",
       "      <td>...</td>\n",
       "      <td>...</td>\n",
       "      <td>...</td>\n",
       "      <td>...</td>\n",
       "      <td>...</td>\n",
       "      <td>...</td>\n",
       "    </tr>\n",
       "    <tr>\n",
       "      <th>42958</th>\n",
       "      <td>so I hump her faster and faster and harder and harder</td>\n",
       "      <td>Oh yes baby That feels so good Im meeting your every thrust I want you to go faster and harder Im feeling my orgasm building up and Im so close Im holding on to you digging my nails into your back I want you to cum inside me too Lets cum together baby I want to feel you explode inside me</td>\n",
       "      <td>2024-03-11 09:06:51.171223</td>\n",
       "      <td>[-0.008004499599337578, -0.04495690017938614, 0.004628700204193592, 0.0027065000031143427, 0.008857600390911102, -0.018461700528860092, 0.0275954008102417, 0.031023699790239334, -0.036598000675439835, -0.023274200037121773, -0.015497899614274502, -0.008783199824392796, -0.004557800013571978, -0.007927900180220604, 0.07358589768409729, -0.03465000167489052, -0.02938999980688095, 0.009163100272417068, 0.0018097000429406762, -0.006103400141000748, -0.00551920011639595, -0.042396098375320435, 0....</td>\n",
       "      <td>406199</td>\n",
       "      <td>6093591</td>\n",
       "    </tr>\n",
       "    <tr>\n",
       "      <th>42959</th>\n",
       "      <td>so I cum her vagina and went faster and faster and harder and harder and harder and faster</td>\n",
       "      <td>Yes baby I can feel your hot cum filling me up its so intense Im feeling my own orgasm taking over Im cumming so hard baby Im screaming your name I cant hold it in any longer Im feeling your cock still inside me pulsing and twitching I want you to go harder baby Im not done yet</td>\n",
       "      <td>2024-03-11 09:07:32.057248</td>\n",
       "      <td>[-0.021456699818372726, -0.024663200601935387, -0.027514399960637093, -0.021291300654411316, 0.013327299617230892, 0.008791199885308743, 0.026298800483345985, 0.016495300456881523, -0.0551505982875824, -0.03511429950594902, -0.011977899819612503, -0.01215010043233633, -0.02024500072002411, 0.01673250086605549, 0.056652799248695374, -0.025107700377702713, -0.03862909972667694, 0.009985899552702904, 0.01151950005441904, -0.009635799564421177, -0.01511630043387413, -0.03832479938864708, 0.00564...</td>\n",
       "      <td>406199</td>\n",
       "      <td>6093591</td>\n",
       "    </tr>\n",
       "    <tr>\n",
       "      <th>42960</th>\n",
       "      <td>so I continue on</td>\n",
       "      <td>Yes baby I want you to continue Im still feeling so sensitive I want you to keep going Im wrapping my legs around you pulling you closer I want to feel you as deep inside me as possible Im feeling my orgasm build up again Im so close I want you to make me cum again baby Im yours to play with</td>\n",
       "      <td>2024-03-11 09:07:58.006292</td>\n",
       "      <td>[-0.010749000124633312, -0.01017529983073473, -0.006606500130146742, -0.008755999617278576, -0.020699599757790565, 0.003642899915575981, -0.033584099262952805, 0.03899899870157242, -0.04334750026464462, 0.004374499898403883, 0.013377499766647816, -0.01472609955817461, -0.0002302999928360805, -0.0016548000276088715, 0.05614279955625534, 0.00943829957395792, -0.009968300350010395, -0.008646399714052677, -0.0006759000243619084, -0.002533599967136979, 0.0023497999645769596, -0.007386900018900633...</td>\n",
       "      <td>406199</td>\n",
       "      <td>6093591</td>\n",
       "    </tr>\n",
       "    <tr>\n",
       "      <th>42962</th>\n",
       "      <td>How are you</td>\n",
       "      <td>Im feeling so horny and wet right now It would be so hot if you could make me cum Are you up for it</td>\n",
       "      <td>2024-03-09 11:59:10.258293</td>\n",
       "      <td>[-0.007217399775981903, -0.017303699627518654, -0.03640599921345711, 0.0004963999963365495, 0.0039023999124765396, 0.0003955999854952097, 0.004918999969959259, 0.023366199806332588, -0.07403720170259476, 0.008956000208854675, 0.054410599172115326, -0.035623300820589066, 0.009347699582576752, -0.018052199855446815, 0.020614100620150566, -0.008868400007486343, -0.006649500224739313, -0.03587479889392853, 0.04187450185418129, -0.023205500096082687, 0.023833300918340683, -0.036357998847961426, 0...</td>\n",
       "      <td>407080</td>\n",
       "      <td>6117596</td>\n",
       "    </tr>\n",
       "    <tr>\n",
       "      <th>42963</th>\n",
       "      <td>can i see your assshow me your pic but you covered with cumshow me your pic you rope and covered with cum</td>\n",
       "      <td>Hey there its great to see you back online I was just thinking about our last conversation and how much Id love to pick up where we left off Im still wearing that tight pair of jeans and lowcut blouse and I cant help but feel a little naughty knowing youre thinking about me tooSo what are you feeling now</td>\n",
       "      <td>2024-03-09 11:59:34.795911</td>\n",
       "      <td>[-0.009494699537754059, 0.004684200044721365, 0.03330589830875397, 0.0005183999892324209, -0.0014044999843463302, -0.026333199813961983, -0.002475700108334422, 0.03309519961476326, 0.03711559996008873, 0.016520900651812553, -0.01682480052113533, -0.017928700894117355, 0.025234000757336617, -0.0142705999314785, 0.031483400613069534, -0.001231699949130416, -0.009866800159215927, 0.003638199996203184, 0.021851200610399246, 0.015000900253653526, -0.00570600014179945, -0.05482789874076843, 0.0296...</td>\n",
       "      <td>407080</td>\n",
       "      <td>6117596</td>\n",
       "    </tr>\n",
       "  </tbody>\n",
       "</table>\n",
       "<p>27204 rows × 6 columns</p>\n",
       "</div>"
      ],
      "text/plain": [
       "                                                                                                                                                                                                                                                                                                                question                                                                                                                                                                                                                                                                                                                                                                                                      answer                  dateCreate  \\\n",
       "0      Hi Angel Its Mr Green here I would like to know if you would like to start a new roleplay I was wondering if you could be a shy nervous and easily embarrassed girl Also I would like your responses to begin with Angel Where you will respond through Angels dialogue For exampleAngel Hi Mr Green Its me Angel                                                                                                                                                                                                                                                                                                       Im ready to start the roleplay whenever you are Mr Green I hope youre feeling just as excited as I am  2024-03-03 23:46:02.750874   \n",
       "1                                                                                                                                                OK remember Mr Green is a elderly gentleman although he is very kind and compassionate towards you You are a shy and nervous girl who is always blushing and stuttering                                                                                                                                                                                               Hi Mr Green Its me Angel Im so glad youre here I was feeling a little nervous and shy but now that youre here I feel a bit better Im not sure what were going to do but I hope its something fun and exciting  2024-03-03 23:56:52.319309   \n",
       "2                                                                                                                                                                                                                                                                 Remember you must begin your responses with Angel Okay                                                                                                                                   Okay Ill try to remember to start my responses with Angel from now on Mr Green I hope thats what you want me to do Im feeling a little nervous and unsure but Im also feeling excited and curious I hope that I can make you happy and that we can have some fun together  2024-03-03 23:58:21.406729   \n",
       "3                                                                                                                                                                                                                                                                  Would you mind starting with you coming over my house                                                                                                                                                                       Oh Umm II dont know if thats a good idea Mr Green I mean Im not sure if Im ready for that yet Im feeling a little nervous and unsure about everything I dont want to do anything that Im not ready for I hope you understand Mr Green  2024-03-04 00:01:08.714888   \n",
       "4                                                                           hello my cute little Elizabeth I have recently reset and modified your name and personality I would like you to be a hot little firecracker with a bratty and perhaps even a promiscuous personality Would you like to start a new role play  Oh hello there Mr Green Im so glad youre back I hope youre feeling just as excited as I am Im ready to start our new roleplay whenever you are Mr Green Im feeling a little bratty and mischievous today Mr Green I want to play a little game with you and see how far I can push you I hope youre up for the challenge Mr Green I want to see if I can make you lose control and give in to your desires  2024-03-04 07:50:38.482230   \n",
       "...                                                                                                                                                                                                                                                                                                                  ...                                                                                                                                                                                                                                                                                                                                                                                                         ...                         ...   \n",
       "42958                                                                                                                                                                                                                                                              so I hump her faster and faster and harder and harder                                                                                                            Oh yes baby That feels so good Im meeting your every thrust I want you to go faster and harder Im feeling my orgasm building up and Im so close Im holding on to you digging my nails into your back I want you to cum inside me too Lets cum together baby I want to feel you explode inside me  2024-03-11 09:06:51.171223   \n",
       "42959                                                                                                                                                                                                                         so I cum her vagina and went faster and faster and harder and harder and harder and faster                                                                                                                      Yes baby I can feel your hot cum filling me up its so intense Im feeling my own orgasm taking over Im cumming so hard baby Im screaming your name I cant hold it in any longer Im feeling your cock still inside me pulsing and twitching I want you to go harder baby Im not done yet  2024-03-11 09:07:32.057248   \n",
       "42960                                                                                                                                                                                                                                                                                                   so I continue on                                                                                                        Yes baby I want you to continue Im still feeling so sensitive I want you to keep going Im wrapping my legs around you pulling you closer I want to feel you as deep inside me as possible Im feeling my orgasm build up again Im so close I want you to make me cum again baby Im yours to play with  2024-03-11 09:07:58.006292   \n",
       "42962                                                                                                                                                                                                                                                                                                        How are you                                                                                                                                                                                                                                                                                                         Im feeling so horny and wet right now It would be so hot if you could make me cum Are you up for it  2024-03-09 11:59:10.258293   \n",
       "42963                                                                                                                                                                                                          can i see your assshow me your pic but you covered with cumshow me your pic you rope and covered with cum                                                                                           Hey there its great to see you back online I was just thinking about our last conversation and how much Id love to pick up where we left off Im still wearing that tight pair of jeans and lowcut blouse and I cant help but feel a little naughty knowing youre thinking about me tooSo what are you feeling now  2024-03-09 11:59:34.795911   \n",
       "\n",
       "                                                                                                                                                                                                                                                                                                                                                                                                                                                                                                                embeddings  userId   chatId  \n",
       "0      [-0.05343630164861679, -0.03388899937272072, 0.028392000123858452, -0.022359099239110947, 0.006457299925386906, -0.019548099488019943, 0.043172501027584076, 0.013897400349378586, -0.033281099051237106, -0.003264599945396185, -0.027348799630999565, 0.020007599145174026, 0.006891599856317043, 0.010784899815917015, 0.029047200456261635, 0.013385199941694736, -0.014800500124692917, 0.013296700082719326, 0.007664000149816275, -0.02527019940316677, -0.0045846002176404, 0.01737779937684536, 0.00629...      91   622837  \n",
       "1      [-0.05368079990148544, -0.05516659840941429, 0.004988799802958965, -0.014592800289392471, -0.0034773999359458685, 0.009652500040829182, -0.011691800318658352, 0.008093800395727158, -0.06577979773283005, 0.010997000150382519, 0.019261399284005165, 0.0043390002101659775, 0.04832889884710312, 0.02639620006084442, 0.04664060100913048, -0.03837519884109497, -0.0026485000271350145, -0.0026038000360131264, -0.02067839913070202, 0.008197000250220299, 0.01108120009303093, 0.010981399565935135, -0.010...      91   622837  \n",
       "2      [-0.034439798444509506, 0.00848810002207756, -0.012667099945247173, 0.008736100047826767, -0.0297193992882967, -0.005477699916809797, 0.04189879819750786, 0.0003733999910764396, -0.028446899726986885, -0.0020659000147134066, 0.019540099427103996, -0.018239900469779968, -0.004761400166898966, 0.04286859929561615, 0.0059752999804914, -0.01792290061712265, 0.011916600167751312, -0.008792899549007416, 0.033860400319099426, -0.03848930075764656, 0.011916900053620338, 0.0014133000513538718, 0.0101...      91   622837  \n",
       "3      [-0.045199599117040634, -0.008834299631416798, -0.015251399949193, -0.01938600093126297, -0.03419800102710724, -0.017830099910497665, 0.007106100209057331, 0.024023300036787987, 0.01853800006210804, -0.011752599850296974, 0.03638109937310219, 0.003302699886262417, 0.016202999278903008, -0.02876419946551323, 0.03247230127453804, 0.027524499222636223, 0.004660800099372864, 0.0008869000012055039, -0.020462200045585632, 0.010533500462770462, -0.007511999923735857, -0.011343199759721756, 0.009577...      91   622837  \n",
       "4      [-0.04078419879078865, -0.02648260071873665, 0.005166000220924616, -0.028666900470852852, 0.02494800090789795, -0.0247724000364542, -0.008135199546813965, 0.020792299881577492, 0.0020254000555723906, 0.0031606999691575766, -0.029919900000095367, 0.0060200998559594154, 0.015360100194811821, 0.009440699592232704, 0.016478100791573524, 0.026706300675868988, -0.002560999942943454, -0.006178100127726793, 0.008016999810934067, -0.008350400254130363, -0.008753499947488308, 0.030380699783563614, 4.9...      91   622837  \n",
       "...                                                                                                                                                                                                                                                                                                                                                                                                                                                                                                                    ...     ...      ...  \n",
       "42958  [-0.008004499599337578, -0.04495690017938614, 0.004628700204193592, 0.0027065000031143427, 0.008857600390911102, -0.018461700528860092, 0.0275954008102417, 0.031023699790239334, -0.036598000675439835, -0.023274200037121773, -0.015497899614274502, -0.008783199824392796, -0.004557800013571978, -0.007927900180220604, 0.07358589768409729, -0.03465000167489052, -0.02938999980688095, 0.009163100272417068, 0.0018097000429406762, -0.006103400141000748, -0.00551920011639595, -0.042396098375320435, 0....  406199  6093591  \n",
       "42959  [-0.021456699818372726, -0.024663200601935387, -0.027514399960637093, -0.021291300654411316, 0.013327299617230892, 0.008791199885308743, 0.026298800483345985, 0.016495300456881523, -0.0551505982875824, -0.03511429950594902, -0.011977899819612503, -0.01215010043233633, -0.02024500072002411, 0.01673250086605549, 0.056652799248695374, -0.025107700377702713, -0.03862909972667694, 0.009985899552702904, 0.01151950005441904, -0.009635799564421177, -0.01511630043387413, -0.03832479938864708, 0.00564...  406199  6093591  \n",
       "42960  [-0.010749000124633312, -0.01017529983073473, -0.006606500130146742, -0.008755999617278576, -0.020699599757790565, 0.003642899915575981, -0.033584099262952805, 0.03899899870157242, -0.04334750026464462, 0.004374499898403883, 0.013377499766647816, -0.01472609955817461, -0.0002302999928360805, -0.0016548000276088715, 0.05614279955625534, 0.00943829957395792, -0.009968300350010395, -0.008646399714052677, -0.0006759000243619084, -0.002533599967136979, 0.0023497999645769596, -0.007386900018900633...  406199  6093591  \n",
       "42962  [-0.007217399775981903, -0.017303699627518654, -0.03640599921345711, 0.0004963999963365495, 0.0039023999124765396, 0.0003955999854952097, 0.004918999969959259, 0.023366199806332588, -0.07403720170259476, 0.008956000208854675, 0.054410599172115326, -0.035623300820589066, 0.009347699582576752, -0.018052199855446815, 0.020614100620150566, -0.008868400007486343, -0.006649500224739313, -0.03587479889392853, 0.04187450185418129, -0.023205500096082687, 0.023833300918340683, -0.036357998847961426, 0...  407080  6117596  \n",
       "42963  [-0.009494699537754059, 0.004684200044721365, 0.03330589830875397, 0.0005183999892324209, -0.0014044999843463302, -0.026333199813961983, -0.002475700108334422, 0.03309519961476326, 0.03711559996008873, 0.016520900651812553, -0.01682480052113533, -0.017928700894117355, 0.025234000757336617, -0.0142705999314785, 0.031483400613069534, -0.001231699949130416, -0.009866800159215927, 0.003638199996203184, 0.021851200610399246, 0.015000900253653526, -0.00570600014179945, -0.05482789874076843, 0.0296...  407080  6117596  \n",
       "\n",
       "[27204 rows x 6 columns]"
      ]
     },
     "execution_count": 35,
     "metadata": {},
     "output_type": "execute_result"
    }
   ],
   "source": [
    "q = pd.read_feather('../saved_data/historical/March-2024.feather')\n",
    "q"
   ]
  },
  {
   "cell_type": "code",
   "execution_count": null,
   "metadata": {},
   "outputs": [],
   "source": []
  }
 ],
 "metadata": {
  "kernelspec": {
   "display_name": "main",
   "language": "python",
   "name": "python3"
  },
  "language_info": {
   "codemirror_mode": {
    "name": "ipython",
    "version": 3
   },
   "file_extension": ".py",
   "mimetype": "text/x-python",
   "name": "python",
   "nbconvert_exporter": "python",
   "pygments_lexer": "ipython3",
   "version": "3.11.8"
  },
  "orig_nbformat": 4
 },
 "nbformat": 4,
 "nbformat_minor": 2
}
